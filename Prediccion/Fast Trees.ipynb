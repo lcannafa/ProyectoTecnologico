{
 "cells": [
  {
   "cell_type": "markdown",
   "metadata": {},
   "source": [
    "# Aprendizaje Supervisado"
   ]
  },
  {
   "cell_type": "markdown",
   "metadata": {},
   "source": [
    "Proyecto de gestión de inventarios usando SQL Server"
   ]
  },
  {
   "cell_type": "markdown",
   "metadata": {},
   "source": [
    "## 1 Conexión"
   ]
  },
  {
   "cell_type": "markdown",
   "metadata": {},
   "source": [
    "La conexión mostrada en este proyecto Actualmente se encuentra implementada para un servicio local, por lo tanto puede ser objeto de cambios en cuanto se despliegue la base de datos en un servidor EC2"
   ]
  },
  {
   "cell_type": "code",
   "execution_count": 1,
   "metadata": {},
   "outputs": [],
   "source": [
    "import pyodbc\n",
    "import pandas as pd\n",
    "import numpy as np\n",
    "\n",
    "driver = 'SQL Server'\n",
    "server = 'MARCO'\n",
    "db1 = 'AI_Eafit'\n",
    "tcon = 'yes'\n",
    "uname = 'aieafit'\n",
    "pword = 'marANT1502'\n",
    "\n",
    "cnxn = pyodbc.connect(driver='{SQL Server}', host=server, database=db1,\n",
    "                      trusted_connection=tcon, user=uname, password=pword)"
   ]
  },
  {
   "cell_type": "markdown",
   "metadata": {},
   "source": [
    "# 2 Modelos"
   ]
  },
  {
   "cell_type": "markdown",
   "metadata": {},
   "source": [
    "## 2.1 Regresión Logística"
   ]
  },
  {
   "cell_type": "markdown",
   "metadata": {},
   "source": [
    "Una vez se ejecuta la conexión se deben seleccionar los datos establecidos en las variables de respuesta escogidas, este paso se dividirá por Queries de cada selección y se utilizará la biblioteca Microsoftml para implementar los modelos"
   ]
  },
  {
   "cell_type": "markdown",
   "metadata": {},
   "source": [
    "### dbo.Fact_compra"
   ]
  },
  {
   "cell_type": "code",
   "execution_count": 2,
   "metadata": {},
   "outputs": [
    {
     "data": {
      "text/html": [
       "<div>\n",
       "<table border=\"1\" class=\"dataframe\">\n",
       "  <thead>\n",
       "    <tr style=\"text-align: right;\">\n",
       "      <th></th>\n",
       "      <th>Id_Producto</th>\n",
       "      <th>Id_Bodega</th>\n",
       "      <th>Id_Comprador</th>\n",
       "      <th>Fecha_Orden_Compra</th>\n",
       "      <th>Compra_Cantidad</th>\n",
       "      <th>Compra_Pesos</th>\n",
       "      <th>Precio_Unitario_Moneda</th>\n",
       "      <th>Linea_Completa</th>\n",
       "      <th>Linea_Perfecta</th>\n",
       "      <th>Lead_Time_Teorico_Compra</th>\n",
       "      <th>Lead_Time_Real_Max_Compra</th>\n",
       "    </tr>\n",
       "  </thead>\n",
       "  <tbody>\n",
       "    <tr>\n",
       "      <th>0</th>\n",
       "      <td>2353</td>\n",
       "      <td>3</td>\n",
       "      <td>15348</td>\n",
       "      <td>20181106</td>\n",
       "      <td>120.0</td>\n",
       "      <td>152640.0</td>\n",
       "      <td>1272.0</td>\n",
       "      <td>0.0</td>\n",
       "      <td>0.0</td>\n",
       "      <td>0.0</td>\n",
       "      <td>0.0</td>\n",
       "    </tr>\n",
       "    <tr>\n",
       "      <th>1</th>\n",
       "      <td>4769</td>\n",
       "      <td>3</td>\n",
       "      <td>15348</td>\n",
       "      <td>20181106</td>\n",
       "      <td>6.0</td>\n",
       "      <td>61566.0</td>\n",
       "      <td>10261.0</td>\n",
       "      <td>0.0</td>\n",
       "      <td>0.0</td>\n",
       "      <td>0.0</td>\n",
       "      <td>0.0</td>\n",
       "    </tr>\n",
       "    <tr>\n",
       "      <th>2</th>\n",
       "      <td>8561</td>\n",
       "      <td>3</td>\n",
       "      <td>15348</td>\n",
       "      <td>20181106</td>\n",
       "      <td>24.0</td>\n",
       "      <td>71544.0</td>\n",
       "      <td>2981.0</td>\n",
       "      <td>0.0</td>\n",
       "      <td>0.0</td>\n",
       "      <td>0.0</td>\n",
       "      <td>0.0</td>\n",
       "    </tr>\n",
       "    <tr>\n",
       "      <th>3</th>\n",
       "      <td>6145</td>\n",
       "      <td>4</td>\n",
       "      <td>5964</td>\n",
       "      <td>20181109</td>\n",
       "      <td>12.0</td>\n",
       "      <td>112320.0</td>\n",
       "      <td>9360.0</td>\n",
       "      <td>1.0</td>\n",
       "      <td>1.0</td>\n",
       "      <td>7.0</td>\n",
       "      <td>7.0</td>\n",
       "    </tr>\n",
       "    <tr>\n",
       "      <th>4</th>\n",
       "      <td>2353</td>\n",
       "      <td>4</td>\n",
       "      <td>5964</td>\n",
       "      <td>20181109</td>\n",
       "      <td>216.0</td>\n",
       "      <td>274752.0</td>\n",
       "      <td>1272.0</td>\n",
       "      <td>1.0</td>\n",
       "      <td>1.0</td>\n",
       "      <td>7.0</td>\n",
       "      <td>7.0</td>\n",
       "    </tr>\n",
       "  </tbody>\n",
       "</table>\n",
       "</div>"
      ],
      "text/plain": [
       "   Id_Producto  Id_Bodega  Id_Comprador  Fecha_Orden_Compra  Compra_Cantidad  \\\n",
       "0         2353          3         15348            20181106            120.0   \n",
       "1         4769          3         15348            20181106              6.0   \n",
       "2         8561          3         15348            20181106             24.0   \n",
       "3         6145          4          5964            20181109             12.0   \n",
       "4         2353          4          5964            20181109            216.0   \n",
       "\n",
       "   Compra_Pesos  Precio_Unitario_Moneda  Linea_Completa  Linea_Perfecta  \\\n",
       "0      152640.0                  1272.0             0.0             0.0   \n",
       "1       61566.0                 10261.0             0.0             0.0   \n",
       "2       71544.0                  2981.0             0.0             0.0   \n",
       "3      112320.0                  9360.0             1.0             1.0   \n",
       "4      274752.0                  1272.0             1.0             1.0   \n",
       "\n",
       "   Lead_Time_Teorico_Compra  Lead_Time_Real_Max_Compra  \n",
       "0                       0.0                        0.0  \n",
       "1                       0.0                        0.0  \n",
       "2                       0.0                        0.0  \n",
       "3                       7.0                        7.0  \n",
       "4                       7.0                        7.0  "
      ]
     },
     "execution_count": 2,
     "metadata": {},
     "output_type": "execute_result"
    }
   ],
   "source": [
    "query_compras = \"SELECT TOP 1000000 Id_Producto, Id_Bodega, Id_Comprador, Fecha_Orden_Compra, Compra_Cantidad, Compra_Pesos, Precio_Unitario_Moneda, Linea_Completa, Linea_Perfecta, Lead_Time_Teorico_Compra, Lead_Time_Real_Max_Compra FROM dbo.T_Fact_compra\"\n",
    "df_compras = pd.read_sql(query_compras, cnxn)\n",
    "\n",
    "df_compras['Fecha_Orden_Compra'] = df_compras['Fecha_Orden_Compra'].str.replace(r'-', '')\n",
    "df_compras['Fecha_Orden_Compra'] = df_compras['Fecha_Orden_Compra'].astype('int64')\n",
    "\n",
    "df_compras.head()"
   ]
  },
  {
   "cell_type": "markdown",
   "metadata": {},
   "source": [
    "#### Separación de los datos"
   ]
  },
  {
   "cell_type": "markdown",
   "metadata": {},
   "source": [
    "se divide el dataframe en un set para entrenamiento y uno de pruebas"
   ]
  },
  {
   "cell_type": "code",
   "execution_count": 3,
   "metadata": {},
   "outputs": [
    {
     "name": "stdout",
     "output_type": "stream",
     "text": [
      "# of rows in training set =  1294964\n",
      "# of rows in test set =  323741\n"
     ]
    }
   ],
   "source": [
    "from sklearn.model_selection import train_test_split\n",
    "bc_train_compras, bc_test_compras = train_test_split(df_compras, test_size=0.2)\n",
    "print(\"# of rows in training set = \",bc_train_compras.size)\n",
    "print(\"# of rows in test set = \",bc_test_compras.size)"
   ]
  },
  {
   "cell_type": "markdown",
   "metadata": {},
   "source": [
    "### Entrenamiento de modelo"
   ]
  },
  {
   "cell_type": "markdown",
   "metadata": {},
   "source": [
    "Se entrena el modelo usando el paquete Microsoft for ML"
   ]
  },
  {
   "cell_type": "code",
   "execution_count": 6,
   "metadata": {
    "scrolled": false
   },
   "outputs": [
    {
     "name": "stdout",
     "output_type": "stream",
     "text": [
      "Beginning processing data.\n",
      "Rows Read: 117724, Read Time: 0.001, Transform Time: 0\n",
      "Beginning processing data.\n",
      "Warning: The number of threads specified in trainer arguments is larger than the concurrency factor setting of the environment. Using 2 training threads instead.\n",
      "Not adding a normalizer.\n",
      "Making per-feature arrays\n",
      "Changing data from row-wise to column-wise\n",
      "Beginning processing data.\n",
      "Rows Read: 117724, Read Time: 0, Transform Time: 0\n",
      "Beginning processing data.\n",
      "Processed 117724 instances\n",
      "Binning and forming Feature objects\n",
      "Reserved memory for tree learner: 232284 bytes\n",
      "Starting to train ...\n",
      "Not training a calibrator because it is not needed.\n",
      "Elapsed time: 00:00:01.2099236\n",
      "Elapsed time: 00:00:00.0253385\n"
     ]
    }
   ],
   "source": [
    "from microsoftml import rx_fast_trees\n",
    "\n",
    "features_compras = df_compras.columns.drop([\"Linea_Perfecta\"])\n",
    "model_compras = rx_fast_trees(\"Linea_Perfecta ~ \" + \"+\".join(features_compras), data=bc_train_compras, )"
   ]
  },
  {
   "cell_type": "markdown",
   "metadata": {},
   "source": [
    "### Predecir"
   ]
  },
  {
   "cell_type": "markdown",
   "metadata": {},
   "source": [
    "se predice el modelo y se imprimen las probabilidades encontradas en la regresión implementada (no binaria)"
   ]
  },
  {
   "cell_type": "code",
   "execution_count": 7,
   "metadata": {
    "scrolled": true
   },
   "outputs": [
    {
     "name": "stdout",
     "output_type": "stream",
     "text": [
      "Beginning processing data.\n",
      "Rows Read: 29431, Read Time: 0, Transform Time: 0\n",
      "Beginning processing data.\n",
      "Elapsed time: 00:00:00.2965266\n",
      "Finished writing 29431 rows.\n",
      "Writing completed.\n"
     ]
    },
    {
     "data": {
      "text/html": [
       "<div>\n",
       "<table border=\"1\" class=\"dataframe\">\n",
       "  <thead>\n",
       "    <tr style=\"text-align: right;\">\n",
       "      <th></th>\n",
       "      <th>PredictedLabel</th>\n",
       "      <th>Score.1</th>\n",
       "      <th>Probability.1</th>\n",
       "    </tr>\n",
       "  </thead>\n",
       "  <tbody>\n",
       "    <tr>\n",
       "      <th>0</th>\n",
       "      <td>0</td>\n",
       "      <td>-9.915150</td>\n",
       "      <td>0.018596</td>\n",
       "    </tr>\n",
       "    <tr>\n",
       "      <th>1</th>\n",
       "      <td>0</td>\n",
       "      <td>-16.141308</td>\n",
       "      <td>0.001568</td>\n",
       "    </tr>\n",
       "    <tr>\n",
       "      <th>2</th>\n",
       "      <td>0</td>\n",
       "      <td>-16.080351</td>\n",
       "      <td>0.001606</td>\n",
       "    </tr>\n",
       "    <tr>\n",
       "      <th>3</th>\n",
       "      <td>0</td>\n",
       "      <td>-3.693698</td>\n",
       "      <td>0.185808</td>\n",
       "    </tr>\n",
       "    <tr>\n",
       "      <th>4</th>\n",
       "      <td>0</td>\n",
       "      <td>-10.094634</td>\n",
       "      <td>0.017330</td>\n",
       "    </tr>\n",
       "  </tbody>\n",
       "</table>\n",
       "</div>"
      ],
      "text/plain": [
       "  PredictedLabel    Score.1  Probability.1\n",
       "0              0  -9.915150       0.018596\n",
       "1              0 -16.141308       0.001568\n",
       "2              0 -16.080351       0.001606\n",
       "3              0  -3.693698       0.185808\n",
       "4              0 -10.094634       0.017330"
      ]
     },
     "execution_count": 7,
     "metadata": {},
     "output_type": "execute_result"
    }
   ],
   "source": [
    "from microsoftml import rx_predict\n",
    "\n",
    "prediction_compras = rx_predict(model_compras, data=bc_test_compras)\n",
    "\n",
    "prediction_compras.head()"
   ]
  },
  {
   "cell_type": "markdown",
   "metadata": {},
   "source": [
    "### dbo.Fact_Ventas"
   ]
  },
  {
   "cell_type": "code",
   "execution_count": 8,
   "metadata": {},
   "outputs": [
    {
     "data": {
      "text/html": [
       "<div>\n",
       "<table border=\"1\" class=\"dataframe\">\n",
       "  <thead>\n",
       "    <tr style=\"text-align: right;\">\n",
       "      <th></th>\n",
       "      <th>Cod_Compañia</th>\n",
       "      <th>Id_Producto</th>\n",
       "      <th>Id_Vendedor</th>\n",
       "      <th>Id_Bodega</th>\n",
       "      <th>Fecha_Factura</th>\n",
       "      <th>Venta_Cantidad</th>\n",
       "      <th>Venta_Neta</th>\n",
       "      <th>Venta_Costo_Pesos</th>\n",
       "      <th>Venta_margen_pesos</th>\n",
       "      <th>Pedido_Numero_Linea</th>\n",
       "    </tr>\n",
       "  </thead>\n",
       "  <tbody>\n",
       "    <tr>\n",
       "      <th>0</th>\n",
       "      <td>1</td>\n",
       "      <td>3285</td>\n",
       "      <td>18275</td>\n",
       "      <td>12</td>\n",
       "      <td>20181218</td>\n",
       "      <td>6.0</td>\n",
       "      <td>60323.0</td>\n",
       "      <td>52183.32</td>\n",
       "      <td>8139.68</td>\n",
       "      <td>933329.0</td>\n",
       "    </tr>\n",
       "    <tr>\n",
       "      <th>1</th>\n",
       "      <td>1</td>\n",
       "      <td>2196</td>\n",
       "      <td>18275</td>\n",
       "      <td>12</td>\n",
       "      <td>20181218</td>\n",
       "      <td>6.0</td>\n",
       "      <td>70560.0</td>\n",
       "      <td>56448.00</td>\n",
       "      <td>14112.00</td>\n",
       "      <td>933303.0</td>\n",
       "    </tr>\n",
       "    <tr>\n",
       "      <th>2</th>\n",
       "      <td>1</td>\n",
       "      <td>2199</td>\n",
       "      <td>18275</td>\n",
       "      <td>12</td>\n",
       "      <td>20181218</td>\n",
       "      <td>12.0</td>\n",
       "      <td>141120.0</td>\n",
       "      <td>112896.00</td>\n",
       "      <td>28224.00</td>\n",
       "      <td>933306.0</td>\n",
       "    </tr>\n",
       "    <tr>\n",
       "      <th>3</th>\n",
       "      <td>1</td>\n",
       "      <td>2263</td>\n",
       "      <td>18275</td>\n",
       "      <td>12</td>\n",
       "      <td>20181218</td>\n",
       "      <td>2.0</td>\n",
       "      <td>60480.0</td>\n",
       "      <td>48384.00</td>\n",
       "      <td>12096.00</td>\n",
       "      <td>933310.0</td>\n",
       "    </tr>\n",
       "    <tr>\n",
       "      <th>4</th>\n",
       "      <td>1</td>\n",
       "      <td>7275</td>\n",
       "      <td>18275</td>\n",
       "      <td>12</td>\n",
       "      <td>20181218</td>\n",
       "      <td>25.0</td>\n",
       "      <td>106245.0</td>\n",
       "      <td>82724.00</td>\n",
       "      <td>23521.00</td>\n",
       "      <td>933325.0</td>\n",
       "    </tr>\n",
       "  </tbody>\n",
       "</table>\n",
       "</div>"
      ],
      "text/plain": [
       "   Cod_Compañia  Id_Producto  Id_Vendedor  Id_Bodega  Fecha_Factura  \\\n",
       "0             1         3285        18275         12       20181218   \n",
       "1             1         2196        18275         12       20181218   \n",
       "2             1         2199        18275         12       20181218   \n",
       "3             1         2263        18275         12       20181218   \n",
       "4             1         7275        18275         12       20181218   \n",
       "\n",
       "   Venta_Cantidad  Venta_Neta  Venta_Costo_Pesos  Venta_margen_pesos  \\\n",
       "0             6.0     60323.0           52183.32             8139.68   \n",
       "1             6.0     70560.0           56448.00            14112.00   \n",
       "2            12.0    141120.0          112896.00            28224.00   \n",
       "3             2.0     60480.0           48384.00            12096.00   \n",
       "4            25.0    106245.0           82724.00            23521.00   \n",
       "\n",
       "   Pedido_Numero_Linea  \n",
       "0             933329.0  \n",
       "1             933303.0  \n",
       "2             933306.0  \n",
       "3             933310.0  \n",
       "4             933325.0  "
      ]
     },
     "execution_count": 8,
     "metadata": {},
     "output_type": "execute_result"
    }
   ],
   "source": [
    "query_ventas = \"SELECT TOP 1000000 Cod_Compañia, Id_Producto, Id_Vendedor, Id_Bodega, Fecha_Factura, Venta_Cantidad, Venta_Neta, Venta_Costo_Pesos, Venta_margen_pesos, Pedido_Numero_Linea FROM dbo.T_Fact_venta\"\n",
    "df_ventas = pd.read_sql(query_ventas, cnxn)\n",
    "\n",
    "df_ventas['Fecha_Factura'] = df_ventas['Fecha_Factura'].str.replace(r'-', '')\n",
    "df_ventas['Fecha_Factura'] = df_ventas['Fecha_Factura'].astype('int64')\n",
    "\n",
    "df_ventas.head()"
   ]
  },
  {
   "cell_type": "markdown",
   "metadata": {},
   "source": [
    "#### Separación de los datos"
   ]
  },
  {
   "cell_type": "markdown",
   "metadata": {},
   "source": [
    "se divide el dataframe en un set para entrenamiento y uno de pruebas"
   ]
  },
  {
   "cell_type": "code",
   "execution_count": 9,
   "metadata": {},
   "outputs": [
    {
     "name": "stdout",
     "output_type": "stream",
     "text": [
      "# of rows in training set =  8000000\n",
      "# of rows in test set =  2000000\n"
     ]
    }
   ],
   "source": [
    "from sklearn.model_selection import train_test_split\n",
    "bc_train_ventas, bc_test_ventas = train_test_split(df_ventas, test_size=0.2)\n",
    "print(\"# of rows in training set = \",bc_train_ventas.size)\n",
    "print(\"# of rows in test set = \",bc_test_ventas.size)"
   ]
  },
  {
   "cell_type": "markdown",
   "metadata": {},
   "source": [
    "### Entrenamiento de modelo"
   ]
  },
  {
   "cell_type": "markdown",
   "metadata": {},
   "source": [
    "Se entrena el modelo usando el paquete Microsoft for ML"
   ]
  },
  {
   "cell_type": "code",
   "execution_count": 12,
   "metadata": {
    "scrolled": false
   },
   "outputs": [
    {
     "name": "stdout",
     "output_type": "stream",
     "text": [
      "'unbalanced_sets' ignored for method 'regression'\n",
      "Warning: The number of threads specified in trainer arguments is larger than the concurrency factor setting of the environment. Using 2 training threads instead.\n",
      "Not adding a normalizer.\n",
      "Making per-feature arrays\n",
      "Changing data from row-wise to column-wise\n",
      "Beginning processing data.\n",
      "Rows Read: 800000, Read Time: 0.001, Transform Time: 0\n",
      "Beginning processing data.\n",
      "Warning: Skipped 75362 instances with missing features during training\n",
      "Processed 724638 instances\n",
      "Binning and forming Feature objects\n",
      "Reserved memory for tree learner: 260676 bytes\n",
      "Starting to train ...\n",
      "Not training a calibrator because it is not needed.\n",
      "Elapsed time: 00:00:05.8225426\n",
      "Elapsed time: 00:00:00.0300966\n"
     ]
    }
   ],
   "source": [
    "from microsoftml import rx_fast_trees\n",
    "\n",
    "features_ventas = df_ventas.columns.drop([\"Id_Producto\"])\n",
    "model_ventas = rx_fast_trees(\"Id_Producto ~ \" + \"+\".join(features_ventas), data=bc_train_ventas, method=\"regression\")"
   ]
  },
  {
   "cell_type": "markdown",
   "metadata": {},
   "source": [
    "### Predecir"
   ]
  },
  {
   "cell_type": "markdown",
   "metadata": {},
   "source": [
    "se predice el modelo y se imprimen las probabilidades encontradas en la regresión implementada (no binaria)"
   ]
  },
  {
   "cell_type": "code",
   "execution_count": 13,
   "metadata": {
    "scrolled": false
   },
   "outputs": [
    {
     "name": "stdout",
     "output_type": "stream",
     "text": [
      "Beginning processing data.\n",
      "Rows Read: 29431, Read Time: 0, Transform Time: 0\n",
      "Beginning processing data.\n",
      "Elapsed time: 00:00:00.2033937\n",
      "Finished writing 29431 rows.\n",
      "Writing completed.\n"
     ]
    },
    {
     "data": {
      "text/html": [
       "<div>\n",
       "<table border=\"1\" class=\"dataframe\">\n",
       "  <thead>\n",
       "    <tr style=\"text-align: right;\">\n",
       "      <th></th>\n",
       "      <th>PredictedLabel</th>\n",
       "      <th>Score.1</th>\n",
       "      <th>Probability.1</th>\n",
       "    </tr>\n",
       "  </thead>\n",
       "  <tbody>\n",
       "    <tr>\n",
       "      <th>0</th>\n",
       "      <td>0</td>\n",
       "      <td>-9.915150</td>\n",
       "      <td>0.018596</td>\n",
       "    </tr>\n",
       "    <tr>\n",
       "      <th>1</th>\n",
       "      <td>0</td>\n",
       "      <td>-16.141308</td>\n",
       "      <td>0.001568</td>\n",
       "    </tr>\n",
       "    <tr>\n",
       "      <th>2</th>\n",
       "      <td>0</td>\n",
       "      <td>-16.080351</td>\n",
       "      <td>0.001606</td>\n",
       "    </tr>\n",
       "    <tr>\n",
       "      <th>3</th>\n",
       "      <td>0</td>\n",
       "      <td>-3.693698</td>\n",
       "      <td>0.185808</td>\n",
       "    </tr>\n",
       "    <tr>\n",
       "      <th>4</th>\n",
       "      <td>0</td>\n",
       "      <td>-10.094634</td>\n",
       "      <td>0.017330</td>\n",
       "    </tr>\n",
       "  </tbody>\n",
       "</table>\n",
       "</div>"
      ],
      "text/plain": [
       "  PredictedLabel    Score.1  Probability.1\n",
       "0              0  -9.915150       0.018596\n",
       "1              0 -16.141308       0.001568\n",
       "2              0 -16.080351       0.001606\n",
       "3              0  -3.693698       0.185808\n",
       "4              0 -10.094634       0.017330"
      ]
     },
     "execution_count": 13,
     "metadata": {},
     "output_type": "execute_result"
    }
   ],
   "source": [
    "from microsoftml import rx_predict\n",
    "\n",
    "prediction_compras = rx_predict(model_compras, data=bc_test_compras)\n",
    "\n",
    "prediction_compras.head()"
   ]
  },
  {
   "cell_type": "markdown",
   "metadata": {},
   "source": [
    "### dbo.Fact_pedido"
   ]
  },
  {
   "cell_type": "code",
   "execution_count": 14,
   "metadata": {},
   "outputs": [
    {
     "data": {
      "text/html": [
       "<div>\n",
       "<table border=\"1\" class=\"dataframe\">\n",
       "  <thead>\n",
       "    <tr style=\"text-align: right;\">\n",
       "      <th></th>\n",
       "      <th>Id_Producto</th>\n",
       "      <th>Id_Vendedor</th>\n",
       "      <th>Id_Bodega</th>\n",
       "      <th>Fecha_Entrega_Planeada</th>\n",
       "      <th>Pedido_Descuento_Pesos</th>\n",
       "      <th>Pedido_Cantidad_Pendiente</th>\n",
       "      <th>conteo_linea_pedido</th>\n",
       "      <th>Linea_Completa</th>\n",
       "      <th>Linea_Perfecta</th>\n",
       "      <th>Pedido_Cantidad_Facturada</th>\n",
       "      <th>Pedido_Pesos_Facturados</th>\n",
       "      <th>Lead_time_Pedido_teorico</th>\n",
       "      <th>Lead_time_pedido_real_max</th>\n",
       "    </tr>\n",
       "  </thead>\n",
       "  <tbody>\n",
       "    <tr>\n",
       "      <th>0</th>\n",
       "      <td>3108</td>\n",
       "      <td>5958</td>\n",
       "      <td>4</td>\n",
       "      <td>20151121</td>\n",
       "      <td>0.0</td>\n",
       "      <td>0.0</td>\n",
       "      <td>1.0</td>\n",
       "      <td>1.0</td>\n",
       "      <td>1.0</td>\n",
       "      <td>12.0</td>\n",
       "      <td>313920.0</td>\n",
       "      <td>15.0</td>\n",
       "      <td>1.0</td>\n",
       "    </tr>\n",
       "    <tr>\n",
       "      <th>1</th>\n",
       "      <td>2504</td>\n",
       "      <td>5955</td>\n",
       "      <td>3</td>\n",
       "      <td>20151216</td>\n",
       "      <td>0.0</td>\n",
       "      <td>0.0</td>\n",
       "      <td>1.0</td>\n",
       "      <td>1.0</td>\n",
       "      <td>1.0</td>\n",
       "      <td>1.0</td>\n",
       "      <td>51765.0</td>\n",
       "      <td>1.0</td>\n",
       "      <td>0.0</td>\n",
       "    </tr>\n",
       "    <tr>\n",
       "      <th>2</th>\n",
       "      <td>2204</td>\n",
       "      <td>5958</td>\n",
       "      <td>4</td>\n",
       "      <td>20151124</td>\n",
       "      <td>0.0</td>\n",
       "      <td>0.0</td>\n",
       "      <td>1.0</td>\n",
       "      <td>1.0</td>\n",
       "      <td>1.0</td>\n",
       "      <td>24.0</td>\n",
       "      <td>210480.0</td>\n",
       "      <td>1.0</td>\n",
       "      <td>0.0</td>\n",
       "    </tr>\n",
       "    <tr>\n",
       "      <th>3</th>\n",
       "      <td>4983</td>\n",
       "      <td>5958</td>\n",
       "      <td>4</td>\n",
       "      <td>20151126</td>\n",
       "      <td>0.0</td>\n",
       "      <td>0.0</td>\n",
       "      <td>1.0</td>\n",
       "      <td>1.0</td>\n",
       "      <td>1.0</td>\n",
       "      <td>1.0</td>\n",
       "      <td>102181.0</td>\n",
       "      <td>1.0</td>\n",
       "      <td>0.0</td>\n",
       "    </tr>\n",
       "    <tr>\n",
       "      <th>4</th>\n",
       "      <td>2997</td>\n",
       "      <td>5958</td>\n",
       "      <td>4</td>\n",
       "      <td>20140806</td>\n",
       "      <td>0.0</td>\n",
       "      <td>0.0</td>\n",
       "      <td>1.0</td>\n",
       "      <td>1.0</td>\n",
       "      <td>1.0</td>\n",
       "      <td>2000.0</td>\n",
       "      <td>230000.0</td>\n",
       "      <td>1.0</td>\n",
       "      <td>1.0</td>\n",
       "    </tr>\n",
       "  </tbody>\n",
       "</table>\n",
       "</div>"
      ],
      "text/plain": [
       "   Id_Producto  Id_Vendedor  Id_Bodega  Fecha_Entrega_Planeada  \\\n",
       "0         3108         5958          4                20151121   \n",
       "1         2504         5955          3                20151216   \n",
       "2         2204         5958          4                20151124   \n",
       "3         4983         5958          4                20151126   \n",
       "4         2997         5958          4                20140806   \n",
       "\n",
       "   Pedido_Descuento_Pesos  Pedido_Cantidad_Pendiente  conteo_linea_pedido  \\\n",
       "0                     0.0                        0.0                  1.0   \n",
       "1                     0.0                        0.0                  1.0   \n",
       "2                     0.0                        0.0                  1.0   \n",
       "3                     0.0                        0.0                  1.0   \n",
       "4                     0.0                        0.0                  1.0   \n",
       "\n",
       "   Linea_Completa  Linea_Perfecta  Pedido_Cantidad_Facturada  \\\n",
       "0             1.0             1.0                       12.0   \n",
       "1             1.0             1.0                        1.0   \n",
       "2             1.0             1.0                       24.0   \n",
       "3             1.0             1.0                        1.0   \n",
       "4             1.0             1.0                     2000.0   \n",
       "\n",
       "   Pedido_Pesos_Facturados  Lead_time_Pedido_teorico  \\\n",
       "0                 313920.0                      15.0   \n",
       "1                  51765.0                       1.0   \n",
       "2                 210480.0                       1.0   \n",
       "3                 102181.0                       1.0   \n",
       "4                 230000.0                       1.0   \n",
       "\n",
       "   Lead_time_pedido_real_max  \n",
       "0                        1.0  \n",
       "1                        0.0  \n",
       "2                        0.0  \n",
       "3                        0.0  \n",
       "4                        1.0  "
      ]
     },
     "execution_count": 14,
     "metadata": {},
     "output_type": "execute_result"
    }
   ],
   "source": [
    "query_pedido = \"SELECT TOP 1000000 Id_Producto, Id_Vendedor, Id_Bodega, Fecha_Entrega_Planeada, Pedido_Descuento_Pesos, Pedido_Cantidad_Pendiente, conteo_linea_pedido, Linea_Completa, Linea_Perfecta, Pedido_Cantidad_Facturada, Pedido_Pesos_Facturados, Lead_time_Pedido_teorico, Lead_time_pedido_real_max FROM dbo.T_Fact_pedido\"\n",
    "df_pedido = pd.read_sql(query_pedido, cnxn)\n",
    "\n",
    "df_pedido['Fecha_Entrega_Planeada'] = df_pedido['Fecha_Entrega_Planeada'].str.replace(r'-', '')\n",
    "df_pedido['Fecha_Entrega_Planeada'] = df_pedido['Fecha_Entrega_Planeada'].astype('int64')\n",
    "\n",
    "df_pedido.head()"
   ]
  },
  {
   "cell_type": "markdown",
   "metadata": {},
   "source": [
    "#### Separación de los datos"
   ]
  },
  {
   "cell_type": "markdown",
   "metadata": {},
   "source": [
    "se divide el dataframe en un set para entrenamiento y uno de pruebas"
   ]
  },
  {
   "cell_type": "code",
   "execution_count": 15,
   "metadata": {},
   "outputs": [
    {
     "name": "stdout",
     "output_type": "stream",
     "text": [
      "# of rows in training set =  10400000\n",
      "# of rows in test set =  2600000\n"
     ]
    }
   ],
   "source": [
    "from sklearn.model_selection import train_test_split\n",
    "bc_train_pedido, bc_test_pedido = train_test_split(df_pedido, test_size=0.2)\n",
    "print(\"# of rows in training set = \",bc_train_pedido.size)\n",
    "print(\"# of rows in test set = \",bc_test_pedido.size)"
   ]
  },
  {
   "cell_type": "markdown",
   "metadata": {},
   "source": [
    "### Entrenamiento de modelo"
   ]
  },
  {
   "cell_type": "markdown",
   "metadata": {},
   "source": [
    "Se entrena el modelo usando el paquete Microsoft for ML"
   ]
  },
  {
   "cell_type": "code",
   "execution_count": 16,
   "metadata": {
    "scrolled": false
   },
   "outputs": [
    {
     "name": "stdout",
     "output_type": "stream",
     "text": [
      "Beginning processing data.\n",
      "Rows Read: 800000, Read Time: 0, Transform Time: 0\n",
      "Beginning processing data.\n",
      "Warning: The number of threads specified in trainer arguments is larger than the concurrency factor setting of the environment. Using 2 training threads instead.\n",
      "Not adding a normalizer.\n",
      "Making per-feature arrays\n",
      "Changing data from row-wise to column-wise\n",
      "Beginning processing data.\n",
      "Rows Read: 800000, Read Time: 0, Transform Time: 0\n",
      "Beginning processing data.\n",
      "Processed 800000 instances\n",
      "Binning and forming Feature objects\n",
      "Reserved memory for tree learner: 320112 bytes\n",
      "Starting to train ...\n",
      "Not training a calibrator because it is not needed.\n",
      "Elapsed time: 00:00:07.7115646\n",
      "Elapsed time: 00:00:00.0272237\n"
     ]
    }
   ],
   "source": [
    "from microsoftml import rx_fast_trees\n",
    "\n",
    "features_pedido = df_pedido.columns.drop([\"Linea_Perfecta\"])\n",
    "model_pedido = rx_fast_trees(\"Linea_Perfecta ~ \" + \"+\".join(features_pedido), data=bc_train_pedido)"
   ]
  },
  {
   "cell_type": "markdown",
   "metadata": {},
   "source": [
    "### Predecir"
   ]
  },
  {
   "cell_type": "markdown",
   "metadata": {},
   "source": [
    "se predice el modelo y se imprimen las probabilidades encontradas en la regresión implementada (no binaria)"
   ]
  },
  {
   "cell_type": "code",
   "execution_count": 17,
   "metadata": {
    "scrolled": false
   },
   "outputs": [
    {
     "name": "stdout",
     "output_type": "stream",
     "text": [
      "Beginning processing data.\n",
      "Rows Read: 200000, Read Time: 0, Transform Time: 0\n",
      "Beginning processing data.\n",
      "Elapsed time: 00:00:00.5694724\n",
      "Finished writing 200000 rows.\n",
      "Writing completed.\n"
     ]
    },
    {
     "data": {
      "text/html": [
       "<div>\n",
       "<table border=\"1\" class=\"dataframe\">\n",
       "  <thead>\n",
       "    <tr style=\"text-align: right;\">\n",
       "      <th></th>\n",
       "      <th>PredictedLabel</th>\n",
       "      <th>Score.1</th>\n",
       "      <th>Probability.1</th>\n",
       "    </tr>\n",
       "  </thead>\n",
       "  <tbody>\n",
       "    <tr>\n",
       "      <th>0</th>\n",
       "      <td>0</td>\n",
       "      <td>-31.374744</td>\n",
       "      <td>0.000004</td>\n",
       "    </tr>\n",
       "    <tr>\n",
       "      <th>1</th>\n",
       "      <td>1</td>\n",
       "      <td>22.729147</td>\n",
       "      <td>0.999887</td>\n",
       "    </tr>\n",
       "    <tr>\n",
       "      <th>2</th>\n",
       "      <td>1</td>\n",
       "      <td>21.532785</td>\n",
       "      <td>0.999818</td>\n",
       "    </tr>\n",
       "    <tr>\n",
       "      <th>3</th>\n",
       "      <td>0</td>\n",
       "      <td>-31.374744</td>\n",
       "      <td>0.000004</td>\n",
       "    </tr>\n",
       "    <tr>\n",
       "      <th>4</th>\n",
       "      <td>1</td>\n",
       "      <td>23.228197</td>\n",
       "      <td>0.999908</td>\n",
       "    </tr>\n",
       "  </tbody>\n",
       "</table>\n",
       "</div>"
      ],
      "text/plain": [
       "  PredictedLabel    Score.1  Probability.1\n",
       "0              0 -31.374744       0.000004\n",
       "1              1  22.729147       0.999887\n",
       "2              1  21.532785       0.999818\n",
       "3              0 -31.374744       0.000004\n",
       "4              1  23.228197       0.999908"
      ]
     },
     "execution_count": 17,
     "metadata": {},
     "output_type": "execute_result"
    }
   ],
   "source": [
    "from microsoftml import rx_predict\n",
    "\n",
    "prediction_pedido = rx_predict(model_pedido, data=bc_test_pedido)\n",
    "\n",
    "prediction_pedido.head()"
   ]
  },
  {
   "cell_type": "markdown",
   "metadata": {},
   "source": [
    "### dbo.Fact_Inventario"
   ]
  },
  {
   "cell_type": "code",
   "execution_count": 18,
   "metadata": {},
   "outputs": [
    {
     "data": {
      "text/html": [
       "<div>\n",
       "<table border=\"1\" class=\"dataframe\">\n",
       "  <thead>\n",
       "    <tr style=\"text-align: right;\">\n",
       "      <th></th>\n",
       "      <th>Fecha_Inventario</th>\n",
       "      <th>Id_Bodega</th>\n",
       "      <th>Id_Producto</th>\n",
       "      <th>Inventario_Cantidad</th>\n",
       "      <th>Inventario_Pesos</th>\n",
       "    </tr>\n",
       "  </thead>\n",
       "  <tbody>\n",
       "    <tr>\n",
       "      <th>0</th>\n",
       "      <td>20170131</td>\n",
       "      <td>1</td>\n",
       "      <td>4621</td>\n",
       "      <td>-8.0</td>\n",
       "      <td>-138603.52</td>\n",
       "    </tr>\n",
       "    <tr>\n",
       "      <th>1</th>\n",
       "      <td>20170131</td>\n",
       "      <td>1</td>\n",
       "      <td>3297</td>\n",
       "      <td>-1.0</td>\n",
       "      <td>-81704.25</td>\n",
       "    </tr>\n",
       "    <tr>\n",
       "      <th>2</th>\n",
       "      <td>20170131</td>\n",
       "      <td>1</td>\n",
       "      <td>3544</td>\n",
       "      <td>9.0</td>\n",
       "      <td>82800.00</td>\n",
       "    </tr>\n",
       "    <tr>\n",
       "      <th>3</th>\n",
       "      <td>20170131</td>\n",
       "      <td>5</td>\n",
       "      <td>2931</td>\n",
       "      <td>-13.0</td>\n",
       "      <td>-104000.00</td>\n",
       "    </tr>\n",
       "    <tr>\n",
       "      <th>4</th>\n",
       "      <td>20170131</td>\n",
       "      <td>3</td>\n",
       "      <td>4810</td>\n",
       "      <td>-24.0</td>\n",
       "      <td>-151200.72</td>\n",
       "    </tr>\n",
       "  </tbody>\n",
       "</table>\n",
       "</div>"
      ],
      "text/plain": [
       "   Fecha_Inventario  Id_Bodega  Id_Producto  Inventario_Cantidad  \\\n",
       "0          20170131          1         4621                 -8.0   \n",
       "1          20170131          1         3297                 -1.0   \n",
       "2          20170131          1         3544                  9.0   \n",
       "3          20170131          5         2931                -13.0   \n",
       "4          20170131          3         4810                -24.0   \n",
       "\n",
       "   Inventario_Pesos  \n",
       "0        -138603.52  \n",
       "1         -81704.25  \n",
       "2          82800.00  \n",
       "3        -104000.00  \n",
       "4        -151200.72  "
      ]
     },
     "execution_count": 18,
     "metadata": {},
     "output_type": "execute_result"
    }
   ],
   "source": [
    "query_inventario = \"SELECT TOP 1000000 Fecha_Inventario, Id_Bodega, Id_Producto, Inventario_Cantidad, Inventario_Pesos FROM dbo.T_Fact_Inventario\"\n",
    "df_inventario = pd.read_sql(query_inventario, cnxn)\n",
    "\n",
    "df_inventario['Fecha_Inventario'] = df_inventario['Fecha_Inventario'].str.replace(r'-', '')\n",
    "df_inventario['Fecha_Inventario'] = df_inventario['Fecha_Inventario'].astype('int64')\n",
    "\n",
    "df_inventario.head()"
   ]
  },
  {
   "cell_type": "markdown",
   "metadata": {},
   "source": [
    "#### Separación de los datos"
   ]
  },
  {
   "cell_type": "markdown",
   "metadata": {},
   "source": [
    "se divide el dataframe en un set para entrenamiento y uno de pruebas"
   ]
  },
  {
   "cell_type": "code",
   "execution_count": 19,
   "metadata": {},
   "outputs": [
    {
     "name": "stdout",
     "output_type": "stream",
     "text": [
      "# of rows in training set =  4000000\n",
      "# of rows in test set =  1000000\n"
     ]
    }
   ],
   "source": [
    "from sklearn.model_selection import train_test_split\n",
    "bc_train_inventario, bc_test_inventario = train_test_split(df_inventario, test_size=0.2)\n",
    "print(\"# of rows in training set = \",bc_train_inventario.size)\n",
    "print(\"# of rows in test set = \",bc_test_inventario.size)"
   ]
  },
  {
   "cell_type": "markdown",
   "metadata": {},
   "source": [
    "### Entrenamiento de modelo"
   ]
  },
  {
   "cell_type": "markdown",
   "metadata": {},
   "source": [
    "Se entrena el modelo usando el paquete Microsoft for ML"
   ]
  },
  {
   "cell_type": "code",
   "execution_count": 21,
   "metadata": {
    "scrolled": false
   },
   "outputs": [
    {
     "name": "stdout",
     "output_type": "stream",
     "text": [
      "'unbalanced_sets' ignored for method 'regression'\n",
      "Warning: The number of threads specified in trainer arguments is larger than the concurrency factor setting of the environment. Using 2 training threads instead.\n",
      "Not adding a normalizer.\n",
      "Making per-feature arrays\n",
      "Changing data from row-wise to column-wise\n",
      "Beginning processing data.\n",
      "Rows Read: 800000, Read Time: 0, Transform Time: 0\n",
      "Beginning processing data.\n",
      "Processed 800000 instances\n",
      "Binning and forming Feature objects\n",
      "Reserved memory for tree learner: 87984 bytes\n",
      "Starting to train ...\n",
      "Not training a calibrator because it is not needed.\n",
      "Elapsed time: 00:00:03.4242193\n",
      "Elapsed time: 00:00:00.0275564\n"
     ]
    }
   ],
   "source": [
    "from microsoftml import rx_fast_trees\n",
    "\n",
    "features_inventario = df_inventario.columns.drop([\"Inventario_Cantidad\"])\n",
    "model_inventario = rx_fast_trees(\"Inventario_Cantidad ~ \" + \"+\".join(features_inventario), data=bc_train_inventario, method=\"regression\")"
   ]
  },
  {
   "cell_type": "markdown",
   "metadata": {},
   "source": [
    "### Predecir"
   ]
  },
  {
   "cell_type": "markdown",
   "metadata": {},
   "source": [
    "se predice el modelo y se imprimen las probabilidades encontradas en la regresión implementada (no binaria)"
   ]
  },
  {
   "cell_type": "code",
   "execution_count": 22,
   "metadata": {
    "scrolled": false
   },
   "outputs": [
    {
     "name": "stdout",
     "output_type": "stream",
     "text": [
      "Beginning processing data.\n",
      "Rows Read: 29431, Read Time: 0, Transform Time: 0\n",
      "Beginning processing data.\n",
      "Elapsed time: 00:00:00.2303205\n",
      "Finished writing 29431 rows.\n",
      "Writing completed.\n"
     ]
    },
    {
     "data": {
      "text/html": [
       "<div>\n",
       "<table border=\"1\" class=\"dataframe\">\n",
       "  <thead>\n",
       "    <tr style=\"text-align: right;\">\n",
       "      <th></th>\n",
       "      <th>PredictedLabel</th>\n",
       "      <th>Score.1</th>\n",
       "      <th>Probability.1</th>\n",
       "    </tr>\n",
       "  </thead>\n",
       "  <tbody>\n",
       "    <tr>\n",
       "      <th>0</th>\n",
       "      <td>0</td>\n",
       "      <td>-9.915150</td>\n",
       "      <td>0.018596</td>\n",
       "    </tr>\n",
       "    <tr>\n",
       "      <th>1</th>\n",
       "      <td>0</td>\n",
       "      <td>-16.141308</td>\n",
       "      <td>0.001568</td>\n",
       "    </tr>\n",
       "    <tr>\n",
       "      <th>2</th>\n",
       "      <td>0</td>\n",
       "      <td>-16.080351</td>\n",
       "      <td>0.001606</td>\n",
       "    </tr>\n",
       "    <tr>\n",
       "      <th>3</th>\n",
       "      <td>0</td>\n",
       "      <td>-3.693698</td>\n",
       "      <td>0.185808</td>\n",
       "    </tr>\n",
       "    <tr>\n",
       "      <th>4</th>\n",
       "      <td>0</td>\n",
       "      <td>-10.094634</td>\n",
       "      <td>0.017330</td>\n",
       "    </tr>\n",
       "  </tbody>\n",
       "</table>\n",
       "</div>"
      ],
      "text/plain": [
       "  PredictedLabel    Score.1  Probability.1\n",
       "0              0  -9.915150       0.018596\n",
       "1              0 -16.141308       0.001568\n",
       "2              0 -16.080351       0.001606\n",
       "3              0  -3.693698       0.185808\n",
       "4              0 -10.094634       0.017330"
      ]
     },
     "execution_count": 22,
     "metadata": {},
     "output_type": "execute_result"
    }
   ],
   "source": [
    "from microsoftml import rx_predict\n",
    "\n",
    "prediction_compras = rx_predict(model_compras, data=bc_test_compras)\n",
    "\n",
    "prediction_compras.head()"
   ]
  },
  {
   "cell_type": "code",
   "execution_count": null,
   "metadata": {},
   "outputs": [],
   "source": []
  }
 ],
 "metadata": {
  "kernelspec": {
   "display_name": "Python 3",
   "language": "python",
   "name": "python3"
  },
  "language_info": {
   "codemirror_mode": {
    "name": "ipython",
    "version": 3
   },
   "file_extension": ".py",
   "mimetype": "text/x-python",
   "name": "python",
   "nbconvert_exporter": "python",
   "pygments_lexer": "ipython3",
   "version": "3.5.2"
  }
 },
 "nbformat": 4,
 "nbformat_minor": 2
}
