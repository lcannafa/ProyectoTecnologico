{
 "cells": [
  {
   "cell_type": "markdown",
   "metadata": {},
   "source": [
    "# Aprendizaje Supervisado Neural Network"
   ]
  },
  {
   "cell_type": "markdown",
   "metadata": {},
   "source": [
    "Proyecto de gestión de inventarios usando SQL Server"
   ]
  },
  {
   "cell_type": "markdown",
   "metadata": {},
   "source": [
    "## 1 Conexión"
   ]
  },
  {
   "cell_type": "markdown",
   "metadata": {},
   "source": [
    "La conexión mostrada en este proyecto Actualmente se encuentra implementada para un servicio local, por lo tanto puede ser objeto de cambios en cuanto se despliegue la base de datos en un servidor EC2"
   ]
  },
  {
   "cell_type": "code",
   "execution_count": 1,
   "metadata": {},
   "outputs": [],
   "source": [
    "import pyodbc\n",
    "import pandas as pd\n",
    "import numpy as np\n",
    "\n",
    "driver = 'SQL Server'\n",
    "server = 'MARCO'\n",
    "db1 = 'AI_Eafit'\n",
    "tcon = 'yes'\n",
    "uname = 'aieafit'\n",
    "pword = 'marANT1502'\n",
    "\n",
    "cnxn = pyodbc.connect(driver='{SQL Server}', host=server, database=db1,\n",
    "                      trusted_connection=tcon, user=uname, password=pword)"
   ]
  },
  {
   "cell_type": "markdown",
   "metadata": {},
   "source": [
    "# 2 Modelo"
   ]
  },
  {
   "cell_type": "markdown",
   "metadata": {},
   "source": [
    "## 2.1 Neural Network"
   ]
  },
  {
   "cell_type": "markdown",
   "metadata": {},
   "source": [
    "Una vez se ejecuta la conexión se deben seleccionar los datos establecidos en las variables de respuesta escogidas, este paso se dividirá por Queries de cada selección y se utilizará la biblioteca Microsoftml para implementar los modelos"
   ]
  },
  {
   "cell_type": "markdown",
   "metadata": {},
   "source": [
    "### dbo.Fact_compra"
   ]
  },
  {
   "cell_type": "code",
   "execution_count": 2,
   "metadata": {},
   "outputs": [
    {
     "data": {
      "text/html": [
       "<div>\n",
       "<table border=\"1\" class=\"dataframe\">\n",
       "  <thead>\n",
       "    <tr style=\"text-align: right;\">\n",
       "      <th></th>\n",
       "      <th>Id_Producto</th>\n",
       "      <th>Id_Bodega</th>\n",
       "      <th>Id_Comprador</th>\n",
       "      <th>Fecha_Orden_Compra</th>\n",
       "      <th>Compra_Cantidad</th>\n",
       "      <th>Compra_Pesos</th>\n",
       "      <th>Precio_Unitario_Moneda</th>\n",
       "      <th>Linea_Completa</th>\n",
       "      <th>Linea_Perfecta</th>\n",
       "      <th>Lead_Time_Teorico_Compra</th>\n",
       "      <th>Lead_Time_Real_Max_Compra</th>\n",
       "    </tr>\n",
       "  </thead>\n",
       "  <tbody>\n",
       "    <tr>\n",
       "      <th>0</th>\n",
       "      <td>2353</td>\n",
       "      <td>3</td>\n",
       "      <td>15348</td>\n",
       "      <td>20181106</td>\n",
       "      <td>120.0</td>\n",
       "      <td>152640.0</td>\n",
       "      <td>1272.0</td>\n",
       "      <td>0.0</td>\n",
       "      <td>0.0</td>\n",
       "      <td>0.0</td>\n",
       "      <td>0.0</td>\n",
       "    </tr>\n",
       "    <tr>\n",
       "      <th>1</th>\n",
       "      <td>4769</td>\n",
       "      <td>3</td>\n",
       "      <td>15348</td>\n",
       "      <td>20181106</td>\n",
       "      <td>6.0</td>\n",
       "      <td>61566.0</td>\n",
       "      <td>10261.0</td>\n",
       "      <td>0.0</td>\n",
       "      <td>0.0</td>\n",
       "      <td>0.0</td>\n",
       "      <td>0.0</td>\n",
       "    </tr>\n",
       "    <tr>\n",
       "      <th>2</th>\n",
       "      <td>8561</td>\n",
       "      <td>3</td>\n",
       "      <td>15348</td>\n",
       "      <td>20181106</td>\n",
       "      <td>24.0</td>\n",
       "      <td>71544.0</td>\n",
       "      <td>2981.0</td>\n",
       "      <td>0.0</td>\n",
       "      <td>0.0</td>\n",
       "      <td>0.0</td>\n",
       "      <td>0.0</td>\n",
       "    </tr>\n",
       "    <tr>\n",
       "      <th>3</th>\n",
       "      <td>6145</td>\n",
       "      <td>4</td>\n",
       "      <td>5964</td>\n",
       "      <td>20181109</td>\n",
       "      <td>12.0</td>\n",
       "      <td>112320.0</td>\n",
       "      <td>9360.0</td>\n",
       "      <td>1.0</td>\n",
       "      <td>1.0</td>\n",
       "      <td>7.0</td>\n",
       "      <td>7.0</td>\n",
       "    </tr>\n",
       "    <tr>\n",
       "      <th>4</th>\n",
       "      <td>2353</td>\n",
       "      <td>4</td>\n",
       "      <td>5964</td>\n",
       "      <td>20181109</td>\n",
       "      <td>216.0</td>\n",
       "      <td>274752.0</td>\n",
       "      <td>1272.0</td>\n",
       "      <td>1.0</td>\n",
       "      <td>1.0</td>\n",
       "      <td>7.0</td>\n",
       "      <td>7.0</td>\n",
       "    </tr>\n",
       "  </tbody>\n",
       "</table>\n",
       "</div>"
      ],
      "text/plain": [
       "   Id_Producto  Id_Bodega  Id_Comprador  Fecha_Orden_Compra  Compra_Cantidad  \\\n",
       "0         2353          3         15348            20181106            120.0   \n",
       "1         4769          3         15348            20181106              6.0   \n",
       "2         8561          3         15348            20181106             24.0   \n",
       "3         6145          4          5964            20181109             12.0   \n",
       "4         2353          4          5964            20181109            216.0   \n",
       "\n",
       "   Compra_Pesos  Precio_Unitario_Moneda  Linea_Completa  Linea_Perfecta  \\\n",
       "0      152640.0                  1272.0             0.0             0.0   \n",
       "1       61566.0                 10261.0             0.0             0.0   \n",
       "2       71544.0                  2981.0             0.0             0.0   \n",
       "3      112320.0                  9360.0             1.0             1.0   \n",
       "4      274752.0                  1272.0             1.0             1.0   \n",
       "\n",
       "   Lead_Time_Teorico_Compra  Lead_Time_Real_Max_Compra  \n",
       "0                       0.0                        0.0  \n",
       "1                       0.0                        0.0  \n",
       "2                       0.0                        0.0  \n",
       "3                       7.0                        7.0  \n",
       "4                       7.0                        7.0  "
      ]
     },
     "execution_count": 2,
     "metadata": {},
     "output_type": "execute_result"
    }
   ],
   "source": [
    "query_compras = \"SELECT Id_Producto, Id_Bodega, Id_Comprador, Fecha_Orden_Compra, Compra_Cantidad, Compra_Pesos, Precio_Unitario_Moneda, Linea_Completa, Linea_Perfecta, Lead_Time_Teorico_Compra, Lead_Time_Real_Max_Compra FROM dbo.T_Fact_compra\"\n",
    "df_compras = pd.read_sql(query_compras, cnxn)\n",
    "\n",
    "df_compras['Fecha_Orden_Compra'] = df_compras['Fecha_Orden_Compra'].str.replace(r'-', '')\n",
    "df_compras['Fecha_Orden_Compra'] = df_compras['Fecha_Orden_Compra'].astype('int64')\n",
    "\n",
    "df_compras.head()"
   ]
  },
  {
   "cell_type": "markdown",
   "metadata": {},
   "source": [
    "#### Separación de los datos"
   ]
  },
  {
   "cell_type": "markdown",
   "metadata": {},
   "source": [
    "se divide el dataframe en un set para entrenamiento y uno de pruebas"
   ]
  },
  {
   "cell_type": "code",
   "execution_count": 3,
   "metadata": {},
   "outputs": [
    {
     "name": "stdout",
     "output_type": "stream",
     "text": [
      "# of rows in training set =  1294964\n",
      "# of rows in test set =  323741\n"
     ]
    }
   ],
   "source": [
    "from sklearn.model_selection import train_test_split\n",
    "bc_train_compras, bc_test_compras = train_test_split(df_compras, test_size=0.2)\n",
    "print(\"# of rows in training set = \",bc_train_compras.size)\n",
    "print(\"# of rows in test set = \",bc_test_compras.size)"
   ]
  },
  {
   "cell_type": "markdown",
   "metadata": {},
   "source": [
    "### Entrenamiento de modelo"
   ]
  },
  {
   "cell_type": "markdown",
   "metadata": {},
   "source": [
    "Se entrena el modelo usando el paquete Microsoft for ML"
   ]
  },
  {
   "cell_type": "code",
   "execution_count": 4,
   "metadata": {
    "scrolled": false
   },
   "outputs": [
    {
     "name": "stdout",
     "output_type": "stream",
     "text": [
      "\n",
      "Express Edition will continue to be enforced.\n",
      "Beginning processing data.\n",
      "Rows Read: 117724, Read Time: 0, Transform Time: 0\n",
      "Beginning processing data.\n",
      "Automatically adding a MinMax normalization transform, use 'norm=Warn' or 'norm=No' to turn this behavior off.\n",
      "Beginning processing data.\n",
      "Rows Read: 117724, Read Time: 0.001, Transform Time: 0\n",
      "Beginning processing data.\n",
      "Using: AVX Math\n",
      "\n",
      "***** Net definition *****\n",
      "  input Data [10];\n",
      "  hidden H [100] sigmoid { // Depth 1\n",
      "    from Data all;\n",
      "  }\n",
      "  output Result [1] sigmoid { // Depth 0\n",
      "    from H all;\n",
      "  }\n",
      "***** End net definition *****\n",
      "Input count: 10\n",
      "Output count: 1\n",
      "Output Function: Sigmoid\n",
      "Loss Function: LogLoss\n",
      "PreTrainer: NoPreTrainer\n",
      "___________________________________________________________________\n",
      "Starting training...\n",
      "Learning rate: 0.001000\n",
      "Momentum: 0.000000\n",
      "InitWtsDiameter: 0.100000\n",
      "___________________________________________________________________\n",
      "Initializing 1 Hidden Layers, 1201 Weights...\n",
      "Beginning processing data.\n",
      "Rows Read: 117724, Read Time: 0, Transform Time: 0\n",
      "Beginning processing data.\n",
      "Estimated Pre-training MeanError = 0.650893\n",
      "Iter:1/100, MeanErr=0.272450(-58.14%), 394.40M WeightUpdates/sec\n",
      "Iter:2/100, MeanErr=0.271783(-0.24%), 633.01M WeightUpdates/sec\n",
      "Iter:3/100, MeanErr=0.271670(-0.04%), 623.08M WeightUpdates/sec\n",
      "Iter:4/100, MeanErr=0.271439(-0.09%), 617.33M WeightUpdates/sec\n",
      "Iter:5/100, MeanErr=0.271103(-0.12%), 497.64M WeightUpdates/sec\n",
      "Iter:6/100, MeanErr=0.270639(-0.17%), 533.17M WeightUpdates/sec\n",
      "Iter:7/100, MeanErr=0.270046(-0.22%), 670.09M WeightUpdates/sec\n",
      "Iter:8/100, MeanErr=0.269249(-0.30%), 683.25M WeightUpdates/sec\n",
      "Iter:9/100, MeanErr=0.268377(-0.32%), 659.49M WeightUpdates/sec\n",
      "Iter:10/100, MeanErr=0.267298(-0.40%), 516.82M WeightUpdates/sec\n",
      "Iter:11/100, MeanErr=0.266176(-0.42%), 580.73M WeightUpdates/sec\n",
      "Iter:12/100, MeanErr=0.265008(-0.44%), 667.18M WeightUpdates/sec\n",
      "Iter:13/100, MeanErr=0.263894(-0.42%), 648.19M WeightUpdates/sec\n",
      "Iter:14/100, MeanErr=0.262827(-0.40%), 668.97M WeightUpdates/sec\n",
      "Iter:15/100, MeanErr=0.261962(-0.33%), 654.71M WeightUpdates/sec\n",
      "Iter:16/100, MeanErr=0.261092(-0.33%), 408.07M WeightUpdates/sec\n",
      "Iter:17/100, MeanErr=0.260405(-0.26%), 595.23M WeightUpdates/sec\n",
      "Iter:18/100, MeanErr=0.259716(-0.26%), 600.83M WeightUpdates/sec\n",
      "Iter:19/100, MeanErr=0.259101(-0.24%), 643.65M WeightUpdates/sec\n",
      "Iter:20/100, MeanErr=0.258579(-0.20%), 421.03M WeightUpdates/sec\n",
      "Iter:21/100, MeanErr=0.257919(-0.26%), 680.76M WeightUpdates/sec\n",
      "Iter:22/100, MeanErr=0.257397(-0.20%), 678.95M WeightUpdates/sec\n",
      "Iter:23/100, MeanErr=0.256894(-0.20%), 672.76M WeightUpdates/sec\n",
      "Iter:24/100, MeanErr=0.256338(-0.22%), 659.34M WeightUpdates/sec\n",
      "Iter:25/100, MeanErr=0.255753(-0.23%), 663.52M WeightUpdates/sec\n",
      "Iter:26/100, MeanErr=0.255273(-0.19%), 647.32M WeightUpdates/sec\n",
      "Iter:27/100, MeanErr=0.254550(-0.28%), 653.77M WeightUpdates/sec\n",
      "Iter:28/100, MeanErr=0.254048(-0.20%), 662.48M WeightUpdates/sec\n",
      "Iter:29/100, MeanErr=0.253318(-0.29%), 675.22M WeightUpdates/sec\n",
      "Iter:30/100, MeanErr=0.252699(-0.24%), 678.14M WeightUpdates/sec\n",
      "Iter:31/100, MeanErr=0.251897(-0.32%), 675.73M WeightUpdates/sec\n",
      "Iter:32/100, MeanErr=0.251194(-0.28%), 674.15M WeightUpdates/sec\n",
      "Iter:33/100, MeanErr=0.250501(-0.28%), 659.87M WeightUpdates/sec\n",
      "Iter:34/100, MeanErr=0.249516(-0.39%), 675.43M WeightUpdates/sec\n",
      "Iter:35/100, MeanErr=0.248662(-0.34%), 679.73M WeightUpdates/sec\n",
      "Iter:36/100, MeanErr=0.247694(-0.39%), 661.70M WeightUpdates/sec\n",
      "Iter:37/100, MeanErr=0.246690(-0.41%), 677.19M WeightUpdates/sec\n",
      "Iter:38/100, MeanErr=0.245679(-0.41%), 663.66M WeightUpdates/sec\n",
      "Iter:39/100, MeanErr=0.244710(-0.39%), 680.09M WeightUpdates/sec\n",
      "Iter:40/100, MeanErr=0.243538(-0.48%), 674.27M WeightUpdates/sec\n",
      "Iter:41/100, MeanErr=0.242422(-0.46%), 664.66M WeightUpdates/sec\n",
      "Iter:42/100, MeanErr=0.241231(-0.49%), 672.16M WeightUpdates/sec\n",
      "Iter:43/100, MeanErr=0.240101(-0.47%), 659.26M WeightUpdates/sec\n",
      "Iter:44/100, MeanErr=0.238797(-0.54%), 680.67M WeightUpdates/sec\n",
      "Iter:45/100, MeanErr=0.237588(-0.51%), 681.98M WeightUpdates/sec\n",
      "Iter:46/100, MeanErr=0.236177(-0.59%), 515.36M WeightUpdates/sec\n",
      "Iter:47/100, MeanErr=0.234875(-0.55%), 624.86M WeightUpdates/sec\n",
      "Iter:48/100, MeanErr=0.233455(-0.60%), 470.07M WeightUpdates/sec\n",
      "Iter:49/100, MeanErr=0.232039(-0.61%), 517.49M WeightUpdates/sec\n",
      "Iter:50/100, MeanErr=0.230618(-0.61%), 487.19M WeightUpdates/sec\n",
      "Iter:51/100, MeanErr=0.229159(-0.63%), 577.23M WeightUpdates/sec\n",
      "Iter:52/100, MeanErr=0.227642(-0.66%), 583.13M WeightUpdates/sec\n",
      "Iter:53/100, MeanErr=0.226075(-0.69%), 616.16M WeightUpdates/sec\n",
      "Iter:54/100, MeanErr=0.224592(-0.66%), 571.48M WeightUpdates/sec\n",
      "Iter:55/100, MeanErr=0.222971(-0.72%), 596.12M WeightUpdates/sec\n",
      "Iter:56/100, MeanErr=0.221370(-0.72%), 597.51M WeightUpdates/sec\n",
      "Iter:57/100, MeanErr=0.219650(-0.78%), 578.21M WeightUpdates/sec\n",
      "Iter:58/100, MeanErr=0.218077(-0.72%), 576.05M WeightUpdates/sec\n",
      "Iter:59/100, MeanErr=0.216375(-0.78%), 626.20M WeightUpdates/sec\n",
      "Iter:60/100, MeanErr=0.214780(-0.74%), 600.94M WeightUpdates/sec\n",
      "Iter:61/100, MeanErr=0.213049(-0.81%), 596.51M WeightUpdates/sec\n",
      "Iter:62/100, MeanErr=0.211765(-0.60%), 555.35M WeightUpdates/sec\n",
      "Iter:63/100, MeanErr=0.209954(-0.86%), 583.67M WeightUpdates/sec\n",
      "Iter:64/100, MeanErr=0.208186(-0.84%), 611.77M WeightUpdates/sec\n",
      "Iter:65/100, MeanErr=0.206511(-0.80%), 642.67M WeightUpdates/sec\n",
      "Iter:66/100, MeanErr=0.204752(-0.85%), 583.34M WeightUpdates/sec\n",
      "Iter:67/100, MeanErr=0.202897(-0.91%), 583.53M WeightUpdates/sec\n",
      "Iter:68/100, MeanErr=0.201357(-0.76%), 595.79M WeightUpdates/sec\n",
      "Iter:69/100, MeanErr=0.199558(-0.89%), 581.66M WeightUpdates/sec\n",
      "Iter:70/100, MeanErr=0.197883(-0.84%), 563.32M WeightUpdates/sec\n",
      "Iter:71/100, MeanErr=0.196499(-0.70%), 595.71M WeightUpdates/sec\n",
      "Iter:72/100, MeanErr=0.194797(-0.87%), 568.51M WeightUpdates/sec\n",
      "Iter:73/100, MeanErr=0.193335(-0.75%), 548.37M WeightUpdates/sec\n",
      "Iter:74/100, MeanErr=0.191765(-0.81%), 597.65M WeightUpdates/sec\n",
      "Iter:75/100, MeanErr=0.190313(-0.76%), 588.51M WeightUpdates/sec\n",
      "Iter:76/100, MeanErr=0.188994(-0.69%), 606.68M WeightUpdates/sec\n",
      "Iter:77/100, MeanErr=0.187724(-0.67%), 568.21M WeightUpdates/sec\n",
      "Iter:78/100, MeanErr=0.186541(-0.63%), 591.94M WeightUpdates/sec\n",
      "Iter:79/100, MeanErr=0.185281(-0.68%), 591.51M WeightUpdates/sec\n",
      "Iter:80/100, MeanErr=0.184128(-0.62%), 538.02M WeightUpdates/sec\n",
      "Iter:81/100, MeanErr=0.182978(-0.62%), 617.50M WeightUpdates/sec\n",
      "Iter:82/100, MeanErr=0.181891(-0.59%), 528.22M WeightUpdates/sec\n",
      "Iter:83/100, MeanErr=0.180912(-0.54%), 593.74M WeightUpdates/sec\n",
      "Iter:84/100, MeanErr=0.179932(-0.54%), 579.34M WeightUpdates/sec\n",
      "Iter:85/100, MeanErr=0.178957(-0.54%), 515.07M WeightUpdates/sec\n",
      "Iter:86/100, MeanErr=0.178070(-0.50%), 424.14M WeightUpdates/sec\n",
      "Iter:87/100, MeanErr=0.177398(-0.38%), 575.20M WeightUpdates/sec\n",
      "Iter:88/100, MeanErr=0.176522(-0.49%), 601.38M WeightUpdates/sec\n",
      "Iter:89/100, MeanErr=0.175795(-0.41%), 630.41M WeightUpdates/sec\n",
      "Iter:90/100, MeanErr=0.175301(-0.28%), 412.09M WeightUpdates/sec\n",
      "Iter:91/100, MeanErr=0.174444(-0.49%), 530.82M WeightUpdates/sec\n",
      "Iter:92/100, MeanErr=0.174015(-0.25%), 581.47M WeightUpdates/sec\n",
      "Iter:93/100, MeanErr=0.173378(-0.37%), 625.59M WeightUpdates/sec\n",
      "Iter:94/100, MeanErr=0.172721(-0.38%), 405.02M WeightUpdates/sec\n",
      "Iter:95/100, MeanErr=0.172350(-0.21%), 633.26M WeightUpdates/sec\n",
      "Iter:96/100, MeanErr=0.171981(-0.21%), 647.62M WeightUpdates/sec\n",
      "Iter:97/100, MeanErr=0.171444(-0.31%), 621.75M WeightUpdates/sec\n",
      "Iter:98/100, MeanErr=0.170974(-0.27%), 620.08M WeightUpdates/sec\n",
      "Iter:99/100, MeanErr=0.170529(-0.26%), 409.97M WeightUpdates/sec\n",
      "Iter:100/100, MeanErr=0.170266(-0.15%), 569.09M WeightUpdates/sec\n",
      "Done!\n",
      "Estimated Post-training MeanError = 0.172005\n",
      "___________________________________________________________________\n",
      "Not training a calibrator because it is not needed.\n",
      "Elapsed time: 00:00:26.5067973\n",
      "Elapsed time: 00:00:00.1566468\n"
     ]
    }
   ],
   "source": [
    "from microsoftml import rx_neural_network\n",
    "\n",
    "features_compras = df_compras.columns.drop([\"Linea_Perfecta\"])\n",
    "model_compras = rx_neural_network(\"Linea_Perfecta ~ \" + \"+\".join(features_compras), data=bc_train_compras)"
   ]
  },
  {
   "cell_type": "markdown",
   "metadata": {},
   "source": [
    "### Predecir"
   ]
  },
  {
   "cell_type": "markdown",
   "metadata": {},
   "source": [
    "se predice el modelo y se imprimen las probabilidades encontradas en la regresión implementada (no binaria)"
   ]
  },
  {
   "cell_type": "code",
   "execution_count": 5,
   "metadata": {
    "scrolled": true
   },
   "outputs": [
    {
     "name": "stdout",
     "output_type": "stream",
     "text": [
      "Beginning processing data.\n",
      "Rows Read: 29431, Read Time: 0, Transform Time: 0\n",
      "Beginning processing data.\n",
      "Elapsed time: 00:00:00.2848478\n",
      "Finished writing 29431 rows.\n",
      "Writing completed.\n"
     ]
    },
    {
     "data": {
      "text/html": [
       "<div>\n",
       "<table border=\"1\" class=\"dataframe\">\n",
       "  <thead>\n",
       "    <tr style=\"text-align: right;\">\n",
       "      <th></th>\n",
       "      <th>PredictedLabel</th>\n",
       "      <th>Score.1</th>\n",
       "      <th>Probability.1</th>\n",
       "    </tr>\n",
       "  </thead>\n",
       "  <tbody>\n",
       "    <tr>\n",
       "      <th>0</th>\n",
       "      <td>0</td>\n",
       "      <td>-2.219091</td>\n",
       "      <td>0.098049</td>\n",
       "    </tr>\n",
       "    <tr>\n",
       "      <th>1</th>\n",
       "      <td>0</td>\n",
       "      <td>-4.481149</td>\n",
       "      <td>0.011194</td>\n",
       "    </tr>\n",
       "    <tr>\n",
       "      <th>2</th>\n",
       "      <td>0</td>\n",
       "      <td>-3.154158</td>\n",
       "      <td>0.040928</td>\n",
       "    </tr>\n",
       "    <tr>\n",
       "      <th>3</th>\n",
       "      <td>0</td>\n",
       "      <td>-3.390549</td>\n",
       "      <td>0.032592</td>\n",
       "    </tr>\n",
       "    <tr>\n",
       "      <th>4</th>\n",
       "      <td>0</td>\n",
       "      <td>-9.453532</td>\n",
       "      <td>0.000078</td>\n",
       "    </tr>\n",
       "  </tbody>\n",
       "</table>\n",
       "</div>"
      ],
      "text/plain": [
       "  PredictedLabel   Score.1  Probability.1\n",
       "0              0 -2.219091       0.098049\n",
       "1              0 -4.481149       0.011194\n",
       "2              0 -3.154158       0.040928\n",
       "3              0 -3.390549       0.032592\n",
       "4              0 -9.453532       0.000078"
      ]
     },
     "execution_count": 5,
     "metadata": {},
     "output_type": "execute_result"
    }
   ],
   "source": [
    "from microsoftml import rx_predict\n",
    "\n",
    "prediction_compras = rx_predict(model_compras, data=bc_test_compras)\n",
    "\n",
    "prediction_compras.head()"
   ]
  },
  {
   "cell_type": "markdown",
   "metadata": {},
   "source": [
    "### dbo.Fact_Ventas"
   ]
  },
  {
   "cell_type": "code",
   "execution_count": 6,
   "metadata": {},
   "outputs": [
    {
     "data": {
      "text/html": [
       "<div>\n",
       "<table border=\"1\" class=\"dataframe\">\n",
       "  <thead>\n",
       "    <tr style=\"text-align: right;\">\n",
       "      <th></th>\n",
       "      <th>Cod_Compañia</th>\n",
       "      <th>Id_Producto</th>\n",
       "      <th>Id_Vendedor</th>\n",
       "      <th>Id_Bodega</th>\n",
       "      <th>Fecha_Factura</th>\n",
       "      <th>Venta_Cantidad</th>\n",
       "      <th>Venta_Neta</th>\n",
       "      <th>Venta_Costo_Pesos</th>\n",
       "      <th>Venta_margen_pesos</th>\n",
       "      <th>Pedido_Numero_Linea</th>\n",
       "    </tr>\n",
       "  </thead>\n",
       "  <tbody>\n",
       "    <tr>\n",
       "      <th>0</th>\n",
       "      <td>1</td>\n",
       "      <td>3285</td>\n",
       "      <td>18275</td>\n",
       "      <td>12</td>\n",
       "      <td>20181218</td>\n",
       "      <td>6.0</td>\n",
       "      <td>60323.0</td>\n",
       "      <td>52183.32</td>\n",
       "      <td>8139.68</td>\n",
       "      <td>933329.0</td>\n",
       "    </tr>\n",
       "    <tr>\n",
       "      <th>1</th>\n",
       "      <td>1</td>\n",
       "      <td>2196</td>\n",
       "      <td>18275</td>\n",
       "      <td>12</td>\n",
       "      <td>20181218</td>\n",
       "      <td>6.0</td>\n",
       "      <td>70560.0</td>\n",
       "      <td>56448.00</td>\n",
       "      <td>14112.00</td>\n",
       "      <td>933303.0</td>\n",
       "    </tr>\n",
       "    <tr>\n",
       "      <th>2</th>\n",
       "      <td>1</td>\n",
       "      <td>2199</td>\n",
       "      <td>18275</td>\n",
       "      <td>12</td>\n",
       "      <td>20181218</td>\n",
       "      <td>12.0</td>\n",
       "      <td>141120.0</td>\n",
       "      <td>112896.00</td>\n",
       "      <td>28224.00</td>\n",
       "      <td>933306.0</td>\n",
       "    </tr>\n",
       "    <tr>\n",
       "      <th>3</th>\n",
       "      <td>1</td>\n",
       "      <td>2263</td>\n",
       "      <td>18275</td>\n",
       "      <td>12</td>\n",
       "      <td>20181218</td>\n",
       "      <td>2.0</td>\n",
       "      <td>60480.0</td>\n",
       "      <td>48384.00</td>\n",
       "      <td>12096.00</td>\n",
       "      <td>933310.0</td>\n",
       "    </tr>\n",
       "    <tr>\n",
       "      <th>4</th>\n",
       "      <td>1</td>\n",
       "      <td>7275</td>\n",
       "      <td>18275</td>\n",
       "      <td>12</td>\n",
       "      <td>20181218</td>\n",
       "      <td>25.0</td>\n",
       "      <td>106245.0</td>\n",
       "      <td>82724.00</td>\n",
       "      <td>23521.00</td>\n",
       "      <td>933325.0</td>\n",
       "    </tr>\n",
       "  </tbody>\n",
       "</table>\n",
       "</div>"
      ],
      "text/plain": [
       "   Cod_Compañia  Id_Producto  Id_Vendedor  Id_Bodega  Fecha_Factura  \\\n",
       "0             1         3285        18275         12       20181218   \n",
       "1             1         2196        18275         12       20181218   \n",
       "2             1         2199        18275         12       20181218   \n",
       "3             1         2263        18275         12       20181218   \n",
       "4             1         7275        18275         12       20181218   \n",
       "\n",
       "   Venta_Cantidad  Venta_Neta  Venta_Costo_Pesos  Venta_margen_pesos  \\\n",
       "0             6.0     60323.0           52183.32             8139.68   \n",
       "1             6.0     70560.0           56448.00            14112.00   \n",
       "2            12.0    141120.0          112896.00            28224.00   \n",
       "3             2.0     60480.0           48384.00            12096.00   \n",
       "4            25.0    106245.0           82724.00            23521.00   \n",
       "\n",
       "   Pedido_Numero_Linea  \n",
       "0             933329.0  \n",
       "1             933303.0  \n",
       "2             933306.0  \n",
       "3             933310.0  \n",
       "4             933325.0  "
      ]
     },
     "execution_count": 6,
     "metadata": {},
     "output_type": "execute_result"
    }
   ],
   "source": [
    "query_ventas = \"SELECT Cod_Compañia, Id_Producto, Id_Vendedor, Id_Bodega, Fecha_Factura, Venta_Cantidad, Venta_Neta, Venta_Costo_Pesos, Venta_margen_pesos, Pedido_Numero_Linea FROM dbo.T_Fact_venta\"\n",
    "df_ventas = pd.read_sql(query_ventas, cnxn)\n",
    "\n",
    "df_ventas['Fecha_Factura'] = df_ventas['Fecha_Factura'].str.replace(r'-', '')\n",
    "df_ventas['Fecha_Factura'] = df_ventas['Fecha_Factura'].astype('int64')\n",
    "\n",
    "df_ventas.head()"
   ]
  },
  {
   "cell_type": "markdown",
   "metadata": {},
   "source": [
    "#### Separación de los datos"
   ]
  },
  {
   "cell_type": "markdown",
   "metadata": {},
   "source": [
    "se divide el dataframe en un set para entrenamiento y uno de pruebas"
   ]
  },
  {
   "cell_type": "code",
   "execution_count": 7,
   "metadata": {},
   "outputs": [
    {
     "name": "stdout",
     "output_type": "stream",
     "text": [
      "# of rows in training set =  8562620\n",
      "# of rows in test set =  2140660\n"
     ]
    }
   ],
   "source": [
    "from sklearn.model_selection import train_test_split\n",
    "bc_train_ventas, bc_test_ventas = train_test_split(df_ventas, test_size=0.2)\n",
    "print(\"# of rows in training set = \",bc_train_ventas.size)\n",
    "print(\"# of rows in test set = \",bc_test_ventas.size)"
   ]
  },
  {
   "cell_type": "markdown",
   "metadata": {},
   "source": [
    "### Entrenamiento de modelo"
   ]
  },
  {
   "cell_type": "markdown",
   "metadata": {},
   "source": [
    "Se entrena el modelo usando el paquete Microsoft for ML"
   ]
  },
  {
   "cell_type": "code",
   "execution_count": 8,
   "metadata": {
    "scrolled": false
   },
   "outputs": [
    {
     "name": "stdout",
     "output_type": "stream",
     "text": [
      "Automatically adding a MinMax normalization transform, use 'norm=Warn' or 'norm=No' to turn this behavior off.\n",
      "Beginning processing data.\n",
      "Rows Read: 856262, Read Time: 0.001, Transform Time: 0\n",
      "Beginning processing data.\n",
      "Using: AVX Math\n",
      "\n",
      "***** Net definition *****\n",
      "  input Data [9];\n",
      "  hidden H [100] sigmoid { // Depth 1\n",
      "    from Data all;\n",
      "  }\n",
      "  output Result [1] linear { // Depth 0\n",
      "    from H all;\n",
      "  }\n",
      "***** End net definition *****\n",
      "Input count: 9\n",
      "Output count: 1\n",
      "Output Function: Linear\n",
      "Loss Function: SquaredLoss\n",
      "PreTrainer: NoPreTrainer\n",
      "___________________________________________________________________\n",
      "Starting training...\n",
      "Learning rate: 0.001000\n",
      "Momentum: 0.000000\n",
      "InitWtsDiameter: 0.100000\n",
      "___________________________________________________________________\n",
      "Initializing 1 Hidden Layers, 1101 Weights...\n",
      "Beginning processing data.\n",
      "Rows Read: 856262, Read Time: 0, Transform Time: 0\n",
      "Beginning processing data.\n",
      "Estimated Pre-training MeanError = 280610.601366\n",
      "Iter:1/100, MeanErr=366116.695672(30.47%), 563.74M WeightUpdates/sec\n",
      "Iter:2/100, MeanErr=359507.066503(-1.81%), 555.06M WeightUpdates/sec\n",
      "Iter:3/100, MeanErr=358204.061756(-0.36%), 547.26M WeightUpdates/sec\n",
      "Iter:4/100, MeanErr=356704.100799(-0.42%), 538.02M WeightUpdates/sec\n",
      "Iter:5/100, MeanErr=356009.225098(-0.19%), 552.57M WeightUpdates/sec\n",
      "Iter:6/100, MeanErr=355273.463753(-0.21%), 550.48M WeightUpdates/sec\n",
      "Iter:7/100, MeanErr=355351.429805(0.02%), 532.05M WeightUpdates/sec\n",
      "Iter:8/100, MeanErr=354409.006849(-0.27%), 532.59M WeightUpdates/sec\n",
      "Iter:9/100, MeanErr=354268.613660(-0.04%), 515.20M WeightUpdates/sec\n",
      "Iter:10/100, MeanErr=354144.487997(-0.04%), 550.96M WeightUpdates/sec\n",
      "Iter:11/100, MeanErr=354191.824673(0.01%), 541.89M WeightUpdates/sec\n",
      "Iter:12/100, MeanErr=354068.656793(-0.03%), 561.18M WeightUpdates/sec\n",
      "Iter:13/100, MeanErr=354242.239566(0.05%), 523.69M WeightUpdates/sec\n",
      "Iter:14/100, MeanErr=354136.732181(-0.03%), 481.42M WeightUpdates/sec\n",
      "Iter:15/100, MeanErr=353889.847296(-0.07%), 532.66M WeightUpdates/sec\n",
      "Iter:16/100, MeanErr=353672.548648(-0.06%), 523.30M WeightUpdates/sec\n",
      "Iter:17/100, MeanErr=353874.646745(0.06%), 564.49M WeightUpdates/sec\n",
      "Iter:18/100, MeanErr=353816.209490(-0.02%), 573.79M WeightUpdates/sec\n",
      "Iter:19/100, MeanErr=353641.299391(-0.05%), 569.01M WeightUpdates/sec\n",
      "Iter:20/100, MeanErr=353608.713576(-0.01%), 532.35M WeightUpdates/sec\n",
      "Iter:21/100, MeanErr=353612.673189(0.00%), 527.36M WeightUpdates/sec\n",
      "Iter:22/100, MeanErr=353552.374599(-0.02%), 524.88M WeightUpdates/sec\n",
      "Iter:23/100, MeanErr=353302.528932(-0.07%), 498.31M WeightUpdates/sec\n",
      "Iter:24/100, MeanErr=353148.858589(-0.04%), 467.57M WeightUpdates/sec\n",
      "Iter:25/100, MeanErr=352931.092887(-0.06%), 468.79M WeightUpdates/sec\n",
      "Iter:26/100, MeanErr=352468.621723(-0.13%), 467.46M WeightUpdates/sec\n",
      "Iter:27/100, MeanErr=352168.253380(-0.09%), 453.65M WeightUpdates/sec\n",
      "Iter:28/100, MeanErr=352390.186916(0.06%), 456.42M WeightUpdates/sec\n",
      "Iter:29/100, MeanErr=352118.304229(-0.08%), 442.51M WeightUpdates/sec\n",
      "Iter:30/100, MeanErr=352040.468191(-0.02%), 423.99M WeightUpdates/sec\n",
      "Iter:31/100, MeanErr=352313.056836(0.08%), 470.98M WeightUpdates/sec\n",
      "Iter:32/100, MeanErr=352286.153518(-0.01%), 447.22M WeightUpdates/sec\n",
      "Iter:33/100, MeanErr=352404.242859(0.03%), 463.05M WeightUpdates/sec\n",
      "Iter:34/100, MeanErr=352490.480181(0.02%), 416.66M WeightUpdates/sec\n",
      "Iter:35/100, MeanErr=352355.093657(-0.04%), 475.67M WeightUpdates/sec\n",
      "Iter:36/100, MeanErr=352345.740931(0.00%), 466.65M WeightUpdates/sec\n",
      "Iter:37/100, MeanErr=352290.534945(-0.02%), 508.62M WeightUpdates/sec\n",
      "Iter:38/100, MeanErr=352057.324652(-0.07%), 521.35M WeightUpdates/sec\n",
      "Iter:39/100, MeanErr=352323.293385(0.08%), 519.97M WeightUpdates/sec\n",
      "Iter:40/100, MeanErr=352372.968923(0.01%), 544.75M WeightUpdates/sec\n",
      "Iter:41/100, MeanErr=352311.958865(-0.02%), 543.23M WeightUpdates/sec\n",
      "Iter:42/100, MeanErr=352107.263133(-0.06%), 539.98M WeightUpdates/sec\n",
      "Iter:43/100, MeanErr=352088.930614(-0.01%), 550.09M WeightUpdates/sec\n",
      "Iter:44/100, MeanErr=351793.212972(-0.08%), 529.48M WeightUpdates/sec\n",
      "Iter:45/100, MeanErr=351935.732905(0.04%), 548.26M WeightUpdates/sec\n",
      "Iter:46/100, MeanErr=351819.372735(-0.03%), 492.86M WeightUpdates/sec\n",
      "Iter:47/100, MeanErr=351962.591289(0.04%), 536.34M WeightUpdates/sec\n",
      "Iter:48/100, MeanErr=352083.496311(0.03%), 525.54M WeightUpdates/sec\n",
      "Iter:49/100, MeanErr=351959.650819(-0.04%), 513.20M WeightUpdates/sec\n",
      "Iter:50/100, MeanErr=351704.707745(-0.07%), 537.88M WeightUpdates/sec\n",
      "Iter:51/100, MeanErr=351665.914758(-0.01%), 525.70M WeightUpdates/sec\n",
      "Iter:52/100, MeanErr=351621.349814(-0.01%), 453.57M WeightUpdates/sec\n",
      "Iter:53/100, MeanErr=351659.001213(0.01%), 496.13M WeightUpdates/sec\n",
      "Iter:54/100, MeanErr=351592.970326(-0.02%), 458.87M WeightUpdates/sec\n",
      "Iter:55/100, MeanErr=351603.918314(0.00%), 497.23M WeightUpdates/sec\n",
      "Iter:56/100, MeanErr=351545.398026(-0.02%), 491.59M WeightUpdates/sec\n",
      "Iter:57/100, MeanErr=351427.635838(-0.03%), 500.88M WeightUpdates/sec\n",
      "Iter:58/100, MeanErr=351633.913123(0.06%), 474.05M WeightUpdates/sec\n",
      "Iter:59/100, MeanErr=351607.249439(-0.01%), 485.42M WeightUpdates/sec\n",
      "Iter:60/100, MeanErr=351603.974682(0.00%), 454.59M WeightUpdates/sec\n",
      "Iter:61/100, MeanErr=351680.742813(0.02%), 479.25M WeightUpdates/sec\n",
      "Iter:62/100, MeanErr=351444.773633(-0.07%), 521.04M WeightUpdates/sec\n",
      "Iter:63/100, MeanErr=351608.973230(0.05%), 492.85M WeightUpdates/sec\n",
      "Iter:64/100, MeanErr=351583.991975(-0.01%), 388.54M WeightUpdates/sec\n",
      "Iter:65/100, MeanErr=351738.201269(0.04%), 414.68M WeightUpdates/sec\n",
      "Iter:66/100, MeanErr=351746.303046(0.00%), 419.17M WeightUpdates/sec\n",
      "Iter:67/100, MeanErr=351653.859460(-0.03%), 515.53M WeightUpdates/sec\n",
      "Iter:68/100, MeanErr=351530.585654(-0.04%), 519.46M WeightUpdates/sec\n",
      "Iter:69/100, MeanErr=351696.135294(0.05%), 484.31M WeightUpdates/sec\n",
      "Iter:70/100, MeanErr=351719.676000(0.01%), 529.98M WeightUpdates/sec\n",
      "Iter:71/100, MeanErr=351675.036068(-0.01%), 523.12M WeightUpdates/sec\n",
      "Iter:72/100, MeanErr=351600.017003(-0.02%), 522.54M WeightUpdates/sec\n",
      "Iter:73/100, MeanErr=351616.343548(0.00%), 475.77M WeightUpdates/sec\n",
      "Iter:74/100, MeanErr=351564.748075(-0.01%), 445.37M WeightUpdates/sec\n",
      "Iter:75/100, MeanErr=351712.830345(0.04%), 471.90M WeightUpdates/sec\n",
      "Iter:76/100, MeanErr=351774.913191(0.02%), 499.04M WeightUpdates/sec\n",
      "Iter:77/100, MeanErr=351603.830895(-0.05%), 505.68M WeightUpdates/sec\n",
      "Iter:78/100, MeanErr=351620.339792(0.00%), 527.72M WeightUpdates/sec\n",
      "Iter:79/100, MeanErr=351626.772841(0.00%), 538.64M WeightUpdates/sec\n",
      "Iter:80/100, MeanErr=351443.134179(-0.05%), 537.98M WeightUpdates/sec\n",
      "Iter:81/100, MeanErr=351628.067257(0.05%), 543.24M WeightUpdates/sec\n",
      "Iter:82/100, MeanErr=351609.914716(-0.01%), 537.49M WeightUpdates/sec\n",
      "Iter:83/100, MeanErr=351671.502877(0.02%), 507.94M WeightUpdates/sec\n",
      "Iter:84/100, MeanErr=351627.951255(-0.01%), 518.89M WeightUpdates/sec\n",
      "Iter:85/100, MeanErr=351655.616396(0.01%), 483.24M WeightUpdates/sec\n",
      "Iter:86/100, MeanErr=351693.138308(0.01%), 468.58M WeightUpdates/sec\n",
      "Iter:87/100, MeanErr=351530.573456(-0.05%), 493.65M WeightUpdates/sec\n",
      "Iter:88/100, MeanErr=351631.837429(0.03%), 533.56M WeightUpdates/sec\n",
      "Iter:89/100, MeanErr=351654.803231(0.01%), 512.59M WeightUpdates/sec\n",
      "Iter:90/100, MeanErr=351679.341126(0.01%), 464.13M WeightUpdates/sec\n",
      "Iter:91/100, MeanErr=351649.427984(-0.01%), 498.70M WeightUpdates/sec\n",
      "Iter:92/100, MeanErr=351606.508164(-0.01%), 485.49M WeightUpdates/sec\n",
      "Iter:93/100, MeanErr=351649.547590(0.01%), 522.96M WeightUpdates/sec\n",
      "Iter:94/100, MeanErr=351671.388488(0.01%), 545.97M WeightUpdates/sec\n",
      "Iter:95/100, MeanErr=351708.049597(0.01%), 546.94M WeightUpdates/sec\n",
      "Iter:96/100, MeanErr=351399.855818(-0.09%), 542.89M WeightUpdates/sec\n",
      "Iter:97/100, MeanErr=351483.357452(0.02%), 496.41M WeightUpdates/sec\n",
      "Iter:98/100, MeanErr=351584.941979(0.03%), 502.75M WeightUpdates/sec\n",
      "Iter:99/100, MeanErr=351817.197791(0.07%), 503.28M WeightUpdates/sec\n",
      "Iter:100/100, MeanErr=351690.028535(-0.04%), 541.99M WeightUpdates/sec\n",
      "Warning: Skipped 80601 instances with missing features/labels/weights during training.\n",
      "Done!\n",
      "Estimated Post-training MeanError = 412617.388953\n",
      "___________________________________________________________________\n",
      "Not training a calibrator because it is not needed.\n",
      "Elapsed time: 00:02:50.7993320\n",
      "Elapsed time: 00:00:00.0222884\n"
     ]
    }
   ],
   "source": [
    "from microsoftml import rx_neural_network\n",
    "\n",
    "features_ventas = df_ventas.columns.drop([\"Venta_Cantidad\"])\n",
    "model_ventas = rx_neural_network(\"Venta_Cantidad ~ \" + \"+\".join(features_ventas), data=bc_train_ventas, method=\"regression\")"
   ]
  },
  {
   "cell_type": "markdown",
   "metadata": {},
   "source": [
    "### Predecir"
   ]
  },
  {
   "cell_type": "markdown",
   "metadata": {},
   "source": [
    "se predice el modelo y se imprimen las probabilidades encontradas en la regresión implementada (no binaria)"
   ]
  },
  {
   "cell_type": "code",
   "execution_count": 9,
   "metadata": {
    "scrolled": false
   },
   "outputs": [
    {
     "name": "stdout",
     "output_type": "stream",
     "text": [
      "Beginning processing data.\n",
      "Rows Read: 29431, Read Time: 0, Transform Time: 0\n",
      "Beginning processing data.\n",
      "Elapsed time: 00:00:00.1586000\n",
      "Finished writing 29431 rows.\n",
      "Writing completed.\n"
     ]
    },
    {
     "data": {
      "text/html": [
       "<div>\n",
       "<table border=\"1\" class=\"dataframe\">\n",
       "  <thead>\n",
       "    <tr style=\"text-align: right;\">\n",
       "      <th></th>\n",
       "      <th>PredictedLabel</th>\n",
       "      <th>Score.1</th>\n",
       "      <th>Probability.1</th>\n",
       "    </tr>\n",
       "  </thead>\n",
       "  <tbody>\n",
       "    <tr>\n",
       "      <th>0</th>\n",
       "      <td>0</td>\n",
       "      <td>-2.219091</td>\n",
       "      <td>0.098049</td>\n",
       "    </tr>\n",
       "    <tr>\n",
       "      <th>1</th>\n",
       "      <td>0</td>\n",
       "      <td>-4.481149</td>\n",
       "      <td>0.011194</td>\n",
       "    </tr>\n",
       "    <tr>\n",
       "      <th>2</th>\n",
       "      <td>0</td>\n",
       "      <td>-3.154158</td>\n",
       "      <td>0.040928</td>\n",
       "    </tr>\n",
       "    <tr>\n",
       "      <th>3</th>\n",
       "      <td>0</td>\n",
       "      <td>-3.390549</td>\n",
       "      <td>0.032592</td>\n",
       "    </tr>\n",
       "    <tr>\n",
       "      <th>4</th>\n",
       "      <td>0</td>\n",
       "      <td>-9.453532</td>\n",
       "      <td>0.000078</td>\n",
       "    </tr>\n",
       "  </tbody>\n",
       "</table>\n",
       "</div>"
      ],
      "text/plain": [
       "  PredictedLabel   Score.1  Probability.1\n",
       "0              0 -2.219091       0.098049\n",
       "1              0 -4.481149       0.011194\n",
       "2              0 -3.154158       0.040928\n",
       "3              0 -3.390549       0.032592\n",
       "4              0 -9.453532       0.000078"
      ]
     },
     "execution_count": 9,
     "metadata": {},
     "output_type": "execute_result"
    }
   ],
   "source": [
    "from microsoftml import rx_predict\n",
    "\n",
    "prediction_compras = rx_predict(model_compras, data=bc_test_compras)\n",
    "\n",
    "prediction_compras.head()"
   ]
  },
  {
   "cell_type": "markdown",
   "metadata": {},
   "source": [
    "### dbo.Fact_pedido"
   ]
  },
  {
   "cell_type": "code",
   "execution_count": 10,
   "metadata": {},
   "outputs": [
    {
     "data": {
      "text/html": [
       "<div>\n",
       "<table border=\"1\" class=\"dataframe\">\n",
       "  <thead>\n",
       "    <tr style=\"text-align: right;\">\n",
       "      <th></th>\n",
       "      <th>Id_Producto</th>\n",
       "      <th>Id_Vendedor</th>\n",
       "      <th>Id_Bodega</th>\n",
       "      <th>Fecha_Entrega_Planeada</th>\n",
       "      <th>Pedido_Descuento_Pesos</th>\n",
       "      <th>Pedido_Cantidad_Pendiente</th>\n",
       "      <th>conteo_linea_pedido</th>\n",
       "      <th>Linea_Completa</th>\n",
       "      <th>Linea_Perfecta</th>\n",
       "      <th>Pedido_Cantidad_Facturada</th>\n",
       "      <th>Pedido_Pesos_Facturados</th>\n",
       "      <th>Lead_time_Pedido_teorico</th>\n",
       "      <th>Lead_time_pedido_real_max</th>\n",
       "    </tr>\n",
       "  </thead>\n",
       "  <tbody>\n",
       "    <tr>\n",
       "      <th>0</th>\n",
       "      <td>3108</td>\n",
       "      <td>5958</td>\n",
       "      <td>4</td>\n",
       "      <td>20151121</td>\n",
       "      <td>0.0</td>\n",
       "      <td>0.0</td>\n",
       "      <td>1.0</td>\n",
       "      <td>1.0</td>\n",
       "      <td>1.0</td>\n",
       "      <td>12.0</td>\n",
       "      <td>313920.0</td>\n",
       "      <td>15.0</td>\n",
       "      <td>1.0</td>\n",
       "    </tr>\n",
       "    <tr>\n",
       "      <th>1</th>\n",
       "      <td>2504</td>\n",
       "      <td>5955</td>\n",
       "      <td>3</td>\n",
       "      <td>20151216</td>\n",
       "      <td>0.0</td>\n",
       "      <td>0.0</td>\n",
       "      <td>1.0</td>\n",
       "      <td>1.0</td>\n",
       "      <td>1.0</td>\n",
       "      <td>1.0</td>\n",
       "      <td>51765.0</td>\n",
       "      <td>1.0</td>\n",
       "      <td>0.0</td>\n",
       "    </tr>\n",
       "    <tr>\n",
       "      <th>2</th>\n",
       "      <td>2204</td>\n",
       "      <td>5958</td>\n",
       "      <td>4</td>\n",
       "      <td>20151124</td>\n",
       "      <td>0.0</td>\n",
       "      <td>0.0</td>\n",
       "      <td>1.0</td>\n",
       "      <td>1.0</td>\n",
       "      <td>1.0</td>\n",
       "      <td>24.0</td>\n",
       "      <td>210480.0</td>\n",
       "      <td>1.0</td>\n",
       "      <td>0.0</td>\n",
       "    </tr>\n",
       "    <tr>\n",
       "      <th>3</th>\n",
       "      <td>4983</td>\n",
       "      <td>5958</td>\n",
       "      <td>4</td>\n",
       "      <td>20151126</td>\n",
       "      <td>0.0</td>\n",
       "      <td>0.0</td>\n",
       "      <td>1.0</td>\n",
       "      <td>1.0</td>\n",
       "      <td>1.0</td>\n",
       "      <td>1.0</td>\n",
       "      <td>102181.0</td>\n",
       "      <td>1.0</td>\n",
       "      <td>0.0</td>\n",
       "    </tr>\n",
       "    <tr>\n",
       "      <th>4</th>\n",
       "      <td>2997</td>\n",
       "      <td>5958</td>\n",
       "      <td>4</td>\n",
       "      <td>20140806</td>\n",
       "      <td>0.0</td>\n",
       "      <td>0.0</td>\n",
       "      <td>1.0</td>\n",
       "      <td>1.0</td>\n",
       "      <td>1.0</td>\n",
       "      <td>2000.0</td>\n",
       "      <td>230000.0</td>\n",
       "      <td>1.0</td>\n",
       "      <td>1.0</td>\n",
       "    </tr>\n",
       "  </tbody>\n",
       "</table>\n",
       "</div>"
      ],
      "text/plain": [
       "   Id_Producto  Id_Vendedor  Id_Bodega  Fecha_Entrega_Planeada  \\\n",
       "0         3108         5958          4                20151121   \n",
       "1         2504         5955          3                20151216   \n",
       "2         2204         5958          4                20151124   \n",
       "3         4983         5958          4                20151126   \n",
       "4         2997         5958          4                20140806   \n",
       "\n",
       "   Pedido_Descuento_Pesos  Pedido_Cantidad_Pendiente  conteo_linea_pedido  \\\n",
       "0                     0.0                        0.0                  1.0   \n",
       "1                     0.0                        0.0                  1.0   \n",
       "2                     0.0                        0.0                  1.0   \n",
       "3                     0.0                        0.0                  1.0   \n",
       "4                     0.0                        0.0                  1.0   \n",
       "\n",
       "   Linea_Completa  Linea_Perfecta  Pedido_Cantidad_Facturada  \\\n",
       "0             1.0             1.0                       12.0   \n",
       "1             1.0             1.0                        1.0   \n",
       "2             1.0             1.0                       24.0   \n",
       "3             1.0             1.0                        1.0   \n",
       "4             1.0             1.0                     2000.0   \n",
       "\n",
       "   Pedido_Pesos_Facturados  Lead_time_Pedido_teorico  \\\n",
       "0                 313920.0                      15.0   \n",
       "1                  51765.0                       1.0   \n",
       "2                 210480.0                       1.0   \n",
       "3                 102181.0                       1.0   \n",
       "4                 230000.0                       1.0   \n",
       "\n",
       "   Lead_time_pedido_real_max  \n",
       "0                        1.0  \n",
       "1                        0.0  \n",
       "2                        0.0  \n",
       "3                        0.0  \n",
       "4                        1.0  "
      ]
     },
     "execution_count": 10,
     "metadata": {},
     "output_type": "execute_result"
    }
   ],
   "source": [
    "query_pedido = \"SELECT Id_Producto, Id_Vendedor, Id_Bodega, Fecha_Entrega_Planeada, Pedido_Descuento_Pesos, Pedido_Cantidad_Pendiente, conteo_linea_pedido, Linea_Completa, Linea_Perfecta, Pedido_Cantidad_Facturada, Pedido_Pesos_Facturados, Lead_time_Pedido_teorico, Lead_time_pedido_real_max FROM dbo.T_Fact_pedido\"\n",
    "df_pedido = pd.read_sql(query_pedido, cnxn)\n",
    "\n",
    "df_pedido['Fecha_Entrega_Planeada'] = df_pedido['Fecha_Entrega_Planeada'].str.replace(r'-', '')\n",
    "df_pedido['Fecha_Entrega_Planeada'] = df_pedido['Fecha_Entrega_Planeada'].astype('int64')\n",
    "\n",
    "df_pedido.head()"
   ]
  },
  {
   "cell_type": "markdown",
   "metadata": {},
   "source": [
    "#### Separación de los datos"
   ]
  },
  {
   "cell_type": "markdown",
   "metadata": {},
   "source": [
    "se divide el dataframe en un set para entrenamiento y uno de pruebas"
   ]
  },
  {
   "cell_type": "code",
   "execution_count": 11,
   "metadata": {},
   "outputs": [
    {
     "name": "stdout",
     "output_type": "stream",
     "text": [
      "# of rows in training set =  10998000\n",
      "# of rows in test set =  2749500\n"
     ]
    }
   ],
   "source": [
    "from sklearn.model_selection import train_test_split\n",
    "bc_train_pedido, bc_test_pedido = train_test_split(df_pedido, test_size=0.2)\n",
    "print(\"# of rows in training set = \",bc_train_pedido.size)\n",
    "print(\"# of rows in test set = \",bc_test_pedido.size)"
   ]
  },
  {
   "cell_type": "markdown",
   "metadata": {},
   "source": [
    "### Entrenamiento de modelo"
   ]
  },
  {
   "cell_type": "markdown",
   "metadata": {},
   "source": [
    "Se entrena el modelo usando el paquete Microsoft for ML"
   ]
  },
  {
   "cell_type": "code",
   "execution_count": 12,
   "metadata": {
    "scrolled": false
   },
   "outputs": [
    {
     "name": "stdout",
     "output_type": "stream",
     "text": [
      "Beginning processing data.\n",
      "Rows Read: 846000, Read Time: 0, Transform Time: 0\n",
      "Beginning processing data.\n",
      "Automatically adding a MinMax normalization transform, use 'norm=Warn' or 'norm=No' to turn this behavior off.\n",
      "Beginning processing data.\n",
      "Rows Read: 846000, Read Time: 0, Transform Time: 0\n",
      "Beginning processing data.\n",
      "Using: AVX Math\n",
      "\n",
      "***** Net definition *****\n",
      "  input Data [12];\n",
      "  hidden H [100] sigmoid { // Depth 1\n",
      "    from Data all;\n",
      "  }\n",
      "  output Result [1] sigmoid { // Depth 0\n",
      "    from H all;\n",
      "  }\n",
      "***** End net definition *****\n",
      "Input count: 12\n",
      "Output count: 1\n",
      "Output Function: Sigmoid\n",
      "Loss Function: LogLoss\n",
      "PreTrainer: NoPreTrainer\n",
      "___________________________________________________________________\n",
      "Starting training...\n",
      "Learning rate: 0.001000\n",
      "Momentum: 0.000000\n",
      "InitWtsDiameter: 0.100000\n",
      "___________________________________________________________________\n",
      "Initializing 1 Hidden Layers, 1401 Weights...\n",
      "Beginning processing data.\n",
      "Rows Read: 846000, Read Time: 0, Transform Time: 0\n",
      "Beginning processing data.\n",
      "Estimated Pre-training MeanError = 0.642881\n",
      "Iter:1/100, MeanErr=0.461893(-28.15%), 633.70M WeightUpdates/sec\n",
      "Iter:2/100, MeanErr=0.436310(-5.54%), 608.55M WeightUpdates/sec\n",
      "Iter:3/100, MeanErr=0.435634(-0.15%), 517.35M WeightUpdates/sec\n",
      "Iter:4/100, MeanErr=0.435107(-0.12%), 688.28M WeightUpdates/sec\n",
      "Iter:5/100, MeanErr=0.434560(-0.13%), 677.67M WeightUpdates/sec\n",
      "Iter:6/100, MeanErr=0.433938(-0.14%), 698.95M WeightUpdates/sec\n",
      "Iter:7/100, MeanErr=0.433168(-0.18%), 705.61M WeightUpdates/sec\n",
      "Iter:8/100, MeanErr=0.432343(-0.19%), 719.99M WeightUpdates/sec\n",
      "Iter:9/100, MeanErr=0.431323(-0.24%), 714.92M WeightUpdates/sec\n",
      "Iter:10/100, MeanErr=0.430091(-0.29%), 675.16M WeightUpdates/sec\n",
      "Iter:11/100, MeanErr=0.428740(-0.31%), 726.81M WeightUpdates/sec\n",
      "Iter:12/100, MeanErr=0.427118(-0.38%), 718.87M WeightUpdates/sec\n",
      "Iter:13/100, MeanErr=0.425189(-0.45%), 688.50M WeightUpdates/sec\n",
      "Iter:14/100, MeanErr=0.423027(-0.51%), 665.07M WeightUpdates/sec\n",
      "Iter:15/100, MeanErr=0.420425(-0.62%), 688.68M WeightUpdates/sec\n",
      "Iter:16/100, MeanErr=0.417551(-0.68%), 704.00M WeightUpdates/sec\n",
      "Iter:17/100, MeanErr=0.414140(-0.82%), 722.27M WeightUpdates/sec\n",
      "Iter:18/100, MeanErr=0.410261(-0.94%), 645.35M WeightUpdates/sec\n",
      "Iter:19/100, MeanErr=0.406026(-1.03%), 612.92M WeightUpdates/sec\n",
      "Iter:20/100, MeanErr=0.401314(-1.16%), 666.97M WeightUpdates/sec\n",
      "Iter:21/100, MeanErr=0.396143(-1.29%), 691.84M WeightUpdates/sec\n",
      "Iter:22/100, MeanErr=0.390512(-1.42%), 655.31M WeightUpdates/sec\n",
      "Iter:23/100, MeanErr=0.384727(-1.48%), 576.08M WeightUpdates/sec\n",
      "Iter:24/100, MeanErr=0.378801(-1.54%), 545.68M WeightUpdates/sec\n",
      "Iter:25/100, MeanErr=0.372504(-1.66%), 594.28M WeightUpdates/sec\n",
      "Iter:26/100, MeanErr=0.366373(-1.65%), 620.84M WeightUpdates/sec\n",
      "Iter:27/100, MeanErr=0.360020(-1.73%), 625.64M WeightUpdates/sec\n",
      "Iter:28/100, MeanErr=0.353761(-1.74%), 644.65M WeightUpdates/sec\n",
      "Iter:29/100, MeanErr=0.347697(-1.71%), 594.69M WeightUpdates/sec\n",
      "Iter:30/100, MeanErr=0.341682(-1.73%), 548.41M WeightUpdates/sec\n",
      "Iter:31/100, MeanErr=0.335678(-1.76%), 612.27M WeightUpdates/sec\n",
      "Iter:32/100, MeanErr=0.330014(-1.69%), 618.10M WeightUpdates/sec\n",
      "Iter:33/100, MeanErr=0.324246(-1.75%), 667.77M WeightUpdates/sec\n",
      "Iter:34/100, MeanErr=0.318522(-1.77%), 656.33M WeightUpdates/sec\n",
      "Iter:35/100, MeanErr=0.313231(-1.66%), 664.26M WeightUpdates/sec\n",
      "Iter:36/100, MeanErr=0.307868(-1.71%), 670.11M WeightUpdates/sec\n",
      "Iter:37/100, MeanErr=0.302694(-1.68%), 648.65M WeightUpdates/sec\n",
      "Iter:38/100, MeanErr=0.297676(-1.66%), 606.23M WeightUpdates/sec\n",
      "Iter:39/100, MeanErr=0.292840(-1.62%), 607.71M WeightUpdates/sec\n",
      "Iter:40/100, MeanErr=0.287906(-1.68%), 558.58M WeightUpdates/sec\n",
      "Iter:41/100, MeanErr=0.283105(-1.67%), 556.11M WeightUpdates/sec\n",
      "Iter:42/100, MeanErr=0.278417(-1.66%), 651.81M WeightUpdates/sec\n",
      "Iter:43/100, MeanErr=0.273929(-1.61%), 639.26M WeightUpdates/sec\n",
      "Iter:44/100, MeanErr=0.269563(-1.59%), 634.12M WeightUpdates/sec\n",
      "Iter:45/100, MeanErr=0.265264(-1.59%), 582.44M WeightUpdates/sec\n",
      "Iter:46/100, MeanErr=0.260940(-1.63%), 585.72M WeightUpdates/sec\n",
      "Iter:47/100, MeanErr=0.256732(-1.61%), 598.62M WeightUpdates/sec\n",
      "Iter:48/100, MeanErr=0.252713(-1.57%), 603.49M WeightUpdates/sec\n",
      "Iter:49/100, MeanErr=0.248772(-1.56%), 628.20M WeightUpdates/sec\n",
      "Iter:50/100, MeanErr=0.245119(-1.47%), 699.50M WeightUpdates/sec\n",
      "Iter:51/100, MeanErr=0.241305(-1.56%), 555.38M WeightUpdates/sec\n",
      "Iter:52/100, MeanErr=0.237414(-1.61%), 531.03M WeightUpdates/sec\n",
      "Iter:53/100, MeanErr=0.233882(-1.49%), 605.24M WeightUpdates/sec\n",
      "Iter:54/100, MeanErr=0.230494(-1.45%), 578.09M WeightUpdates/sec\n",
      "Iter:55/100, MeanErr=0.226931(-1.55%), 673.66M WeightUpdates/sec\n",
      "Iter:56/100, MeanErr=0.223726(-1.41%), 664.67M WeightUpdates/sec\n",
      "Iter:57/100, MeanErr=0.220253(-1.55%), 665.19M WeightUpdates/sec\n",
      "Iter:58/100, MeanErr=0.217218(-1.38%), 671.00M WeightUpdates/sec\n",
      "Iter:59/100, MeanErr=0.213891(-1.53%), 666.28M WeightUpdates/sec\n",
      "Iter:60/100, MeanErr=0.211028(-1.34%), 643.79M WeightUpdates/sec\n",
      "Iter:61/100, MeanErr=0.208048(-1.41%), 645.09M WeightUpdates/sec\n",
      "Iter:62/100, MeanErr=0.205298(-1.32%), 633.03M WeightUpdates/sec\n",
      "Iter:63/100, MeanErr=0.202490(-1.37%), 638.92M WeightUpdates/sec\n",
      "Iter:64/100, MeanErr=0.199605(-1.42%), 570.47M WeightUpdates/sec\n",
      "Iter:65/100, MeanErr=0.197152(-1.23%), 510.73M WeightUpdates/sec\n",
      "Iter:66/100, MeanErr=0.194578(-1.31%), 511.14M WeightUpdates/sec\n",
      "Iter:67/100, MeanErr=0.191772(-1.44%), 635.00M WeightUpdates/sec\n",
      "Iter:68/100, MeanErr=0.189647(-1.11%), 716.27M WeightUpdates/sec\n",
      "Iter:69/100, MeanErr=0.187031(-1.38%), 697.97M WeightUpdates/sec\n",
      "Iter:70/100, MeanErr=0.184735(-1.23%), 630.14M WeightUpdates/sec\n",
      "Iter:71/100, MeanErr=0.182378(-1.28%), 659.42M WeightUpdates/sec\n",
      "Iter:72/100, MeanErr=0.180270(-1.16%), 677.75M WeightUpdates/sec\n",
      "Iter:73/100, MeanErr=0.177896(-1.32%), 646.33M WeightUpdates/sec\n",
      "Iter:74/100, MeanErr=0.175841(-1.16%), 606.52M WeightUpdates/sec\n",
      "Iter:75/100, MeanErr=0.173716(-1.21%), 637.78M WeightUpdates/sec\n",
      "Iter:76/100, MeanErr=0.171858(-1.07%), 650.00M WeightUpdates/sec\n",
      "Iter:77/100, MeanErr=0.169775(-1.21%), 686.33M WeightUpdates/sec\n",
      "Iter:78/100, MeanErr=0.167953(-1.07%), 693.10M WeightUpdates/sec\n",
      "Iter:79/100, MeanErr=0.165908(-1.22%), 686.09M WeightUpdates/sec\n",
      "Iter:80/100, MeanErr=0.164140(-1.07%), 639.15M WeightUpdates/sec\n",
      "Iter:81/100, MeanErr=0.162402(-1.06%), 694.63M WeightUpdates/sec\n",
      "Iter:82/100, MeanErr=0.160467(-1.19%), 721.11M WeightUpdates/sec\n",
      "Iter:83/100, MeanErr=0.158882(-0.99%), 719.00M WeightUpdates/sec\n",
      "Iter:84/100, MeanErr=0.157086(-1.13%), 711.64M WeightUpdates/sec\n",
      "Iter:85/100, MeanErr=0.155505(-1.01%), 727.28M WeightUpdates/sec\n",
      "Iter:86/100, MeanErr=0.153971(-0.99%), 693.49M WeightUpdates/sec\n",
      "Iter:87/100, MeanErr=0.152446(-0.99%), 691.14M WeightUpdates/sec\n",
      "Iter:88/100, MeanErr=0.150821(-1.07%), 662.83M WeightUpdates/sec\n",
      "Iter:89/100, MeanErr=0.149449(-0.91%), 620.15M WeightUpdates/sec\n",
      "Iter:90/100, MeanErr=0.147987(-0.98%), 624.49M WeightUpdates/sec\n",
      "Iter:91/100, MeanErr=0.146379(-1.09%), 630.57M WeightUpdates/sec\n",
      "Iter:92/100, MeanErr=0.145016(-0.93%), 720.03M WeightUpdates/sec\n",
      "Iter:93/100, MeanErr=0.143652(-0.94%), 736.84M WeightUpdates/sec\n",
      "Iter:94/100, MeanErr=0.142666(-0.69%), 731.89M WeightUpdates/sec\n",
      "Iter:95/100, MeanErr=0.141007(-1.16%), 698.86M WeightUpdates/sec\n",
      "Iter:96/100, MeanErr=0.139817(-0.84%), 686.50M WeightUpdates/sec\n",
      "Iter:97/100, MeanErr=0.138505(-0.94%), 730.18M WeightUpdates/sec\n",
      "Iter:98/100, MeanErr=0.137271(-0.89%), 669.91M WeightUpdates/sec\n",
      "Iter:99/100, MeanErr=0.135976(-0.94%), 705.74M WeightUpdates/sec\n",
      "Iter:100/100, MeanErr=0.134716(-0.93%), 655.44M WeightUpdates/sec\n",
      "Done!\n",
      "Estimated Post-training MeanError = 0.113226\n",
      "___________________________________________________________________\n",
      "Not training a calibrator because it is not needed.\n",
      "Elapsed time: 00:03:05.0228177\n",
      "Elapsed time: 00:00:00.0212722\n"
     ]
    }
   ],
   "source": [
    "from microsoftml import rx_neural_network\n",
    "\n",
    "features_pedido = df_pedido.columns.drop([\"Linea_Perfecta\"])\n",
    "model_pedido = rx_neural_network(\"Linea_Perfecta ~ \" + \"+\".join(features_pedido), data=bc_train_pedido)"
   ]
  },
  {
   "cell_type": "markdown",
   "metadata": {},
   "source": [
    "### Predecir"
   ]
  },
  {
   "cell_type": "markdown",
   "metadata": {},
   "source": [
    "se predice el modelo y se imprimen las probabilidades encontradas en la regresión implementada (no binaria)"
   ]
  },
  {
   "cell_type": "code",
   "execution_count": 13,
   "metadata": {
    "scrolled": false
   },
   "outputs": [
    {
     "name": "stdout",
     "output_type": "stream",
     "text": [
      "Beginning processing data.\n",
      "Rows Read: 211500, Read Time: 0, Transform Time: 0\n",
      "Beginning processing data.\n",
      "Elapsed time: 00:00:00.3420542\n",
      "Finished writing 211500 rows.\n",
      "Writing completed.\n"
     ]
    },
    {
     "data": {
      "text/html": [
       "<div>\n",
       "<table border=\"1\" class=\"dataframe\">\n",
       "  <thead>\n",
       "    <tr style=\"text-align: right;\">\n",
       "      <th></th>\n",
       "      <th>PredictedLabel</th>\n",
       "      <th>Score.1</th>\n",
       "      <th>Probability.1</th>\n",
       "    </tr>\n",
       "  </thead>\n",
       "  <tbody>\n",
       "    <tr>\n",
       "      <th>0</th>\n",
       "      <td>1</td>\n",
       "      <td>3.580317</td>\n",
       "      <td>0.972889</td>\n",
       "    </tr>\n",
       "    <tr>\n",
       "      <th>1</th>\n",
       "      <td>1</td>\n",
       "      <td>3.067210</td>\n",
       "      <td>0.955520</td>\n",
       "    </tr>\n",
       "    <tr>\n",
       "      <th>2</th>\n",
       "      <td>1</td>\n",
       "      <td>2.028890</td>\n",
       "      <td>0.883797</td>\n",
       "    </tr>\n",
       "    <tr>\n",
       "      <th>3</th>\n",
       "      <td>1</td>\n",
       "      <td>3.207335</td>\n",
       "      <td>0.961109</td>\n",
       "    </tr>\n",
       "    <tr>\n",
       "      <th>4</th>\n",
       "      <td>0</td>\n",
       "      <td>-393.887848</td>\n",
       "      <td>0.000000</td>\n",
       "    </tr>\n",
       "  </tbody>\n",
       "</table>\n",
       "</div>"
      ],
      "text/plain": [
       "  PredictedLabel     Score.1  Probability.1\n",
       "0              1    3.580317       0.972889\n",
       "1              1    3.067210       0.955520\n",
       "2              1    2.028890       0.883797\n",
       "3              1    3.207335       0.961109\n",
       "4              0 -393.887848       0.000000"
      ]
     },
     "execution_count": 13,
     "metadata": {},
     "output_type": "execute_result"
    }
   ],
   "source": [
    "from microsoftml import rx_predict\n",
    "\n",
    "prediction_pedido = rx_predict(model_pedido, data=bc_test_pedido)\n",
    "\n",
    "prediction_pedido.head()"
   ]
  },
  {
   "cell_type": "markdown",
   "metadata": {},
   "source": [
    "### dbo.Fact_Inventario"
   ]
  },
  {
   "cell_type": "code",
   "execution_count": 14,
   "metadata": {},
   "outputs": [
    {
     "data": {
      "text/html": [
       "<div>\n",
       "<table border=\"1\" class=\"dataframe\">\n",
       "  <thead>\n",
       "    <tr style=\"text-align: right;\">\n",
       "      <th></th>\n",
       "      <th>Fecha_Inventario</th>\n",
       "      <th>Id_Bodega</th>\n",
       "      <th>Id_Producto</th>\n",
       "      <th>Inventario_Cantidad</th>\n",
       "      <th>Inventario_Pesos</th>\n",
       "    </tr>\n",
       "  </thead>\n",
       "  <tbody>\n",
       "    <tr>\n",
       "      <th>0</th>\n",
       "      <td>20170131</td>\n",
       "      <td>1</td>\n",
       "      <td>4621</td>\n",
       "      <td>-8.0</td>\n",
       "      <td>-138603.52</td>\n",
       "    </tr>\n",
       "    <tr>\n",
       "      <th>1</th>\n",
       "      <td>20170131</td>\n",
       "      <td>1</td>\n",
       "      <td>3297</td>\n",
       "      <td>-1.0</td>\n",
       "      <td>-81704.25</td>\n",
       "    </tr>\n",
       "    <tr>\n",
       "      <th>2</th>\n",
       "      <td>20170131</td>\n",
       "      <td>1</td>\n",
       "      <td>3544</td>\n",
       "      <td>9.0</td>\n",
       "      <td>82800.00</td>\n",
       "    </tr>\n",
       "    <tr>\n",
       "      <th>3</th>\n",
       "      <td>20170131</td>\n",
       "      <td>5</td>\n",
       "      <td>2931</td>\n",
       "      <td>-13.0</td>\n",
       "      <td>-104000.00</td>\n",
       "    </tr>\n",
       "    <tr>\n",
       "      <th>4</th>\n",
       "      <td>20170131</td>\n",
       "      <td>3</td>\n",
       "      <td>4810</td>\n",
       "      <td>-24.0</td>\n",
       "      <td>-151200.72</td>\n",
       "    </tr>\n",
       "  </tbody>\n",
       "</table>\n",
       "</div>"
      ],
      "text/plain": [
       "   Fecha_Inventario  Id_Bodega  Id_Producto  Inventario_Cantidad  \\\n",
       "0          20170131          1         4621                 -8.0   \n",
       "1          20170131          1         3297                 -1.0   \n",
       "2          20170131          1         3544                  9.0   \n",
       "3          20170131          5         2931                -13.0   \n",
       "4          20170131          3         4810                -24.0   \n",
       "\n",
       "   Inventario_Pesos  \n",
       "0        -138603.52  \n",
       "1         -81704.25  \n",
       "2          82800.00  \n",
       "3        -104000.00  \n",
       "4        -151200.72  "
      ]
     },
     "execution_count": 14,
     "metadata": {},
     "output_type": "execute_result"
    }
   ],
   "source": [
    "query_inventario = \"SELECT Fecha_Inventario, Id_Bodega, Id_Producto, Inventario_Cantidad, Inventario_Pesos FROM dbo.T_Fact_Inventario\"\n",
    "df_inventario = pd.read_sql(query_inventario, cnxn)\n",
    "\n",
    "df_inventario['Fecha_Inventario'] = df_inventario['Fecha_Inventario'].str.replace(r'-', '')\n",
    "df_inventario['Fecha_Inventario'] = df_inventario['Fecha_Inventario'].astype('int64')\n",
    "\n",
    "df_inventario.head()"
   ]
  },
  {
   "cell_type": "markdown",
   "metadata": {},
   "source": [
    "#### Separación de los datos"
   ]
  },
  {
   "cell_type": "markdown",
   "metadata": {},
   "source": [
    "se divide el dataframe en un set para entrenamiento y uno de pruebas"
   ]
  },
  {
   "cell_type": "code",
   "execution_count": null,
   "metadata": {},
   "outputs": [
    {
     "name": "stdout",
     "output_type": "stream",
     "text": [
      "# of rows in training set =  85384025\n",
      "# of rows in test set =  21346010\n"
     ]
    }
   ],
   "source": [
    "from sklearn.model_selection import train_test_split\n",
    "bc_train_inventario, bc_test_inventario = train_test_split(df_inventario, test_size=0.2)\n",
    "print(\"# of rows in training set = \",bc_train_inventario.size)\n",
    "print(\"# of rows in test set = \",bc_test_inventario.size)"
   ]
  },
  {
   "cell_type": "markdown",
   "metadata": {},
   "source": [
    "### Entrenamiento de modelo"
   ]
  },
  {
   "cell_type": "markdown",
   "metadata": {},
   "source": [
    "Se entrena el modelo usando el paquete Microsoft for ML"
   ]
  },
  {
   "cell_type": "code",
   "execution_count": null,
   "metadata": {
    "scrolled": false
   },
   "outputs": [
    {
     "name": "stdout",
     "output_type": "stream",
     "text": [
      "Automatically adding a MinMax normalization transform, use 'norm=Warn' or 'norm=No' to turn this behavior off.\n",
      "Beginning processing data.\n",
      "Rows Read: 17076805, Read Time: 0, Transform Time: 0\n",
      "Beginning processing data.\n",
      "Using: AVX Math\n",
      "\n",
      "***** Net definition *****\n",
      "  input Data [4];\n",
      "  hidden H [100] sigmoid { // Depth 1\n",
      "    from Data all;\n",
      "  }\n",
      "  output Result [1] linear { // Depth 0\n",
      "    from H all;\n",
      "  }\n",
      "***** End net definition *****\n",
      "Input count: 4\n",
      "Output count: 1\n",
      "Output Function: Linear\n",
      "Loss Function: SquaredLoss\n",
      "PreTrainer: NoPreTrainer\n",
      "___________________________________________________________________\n",
      "Starting training...\n",
      "Learning rate: 0.001000\n",
      "Momentum: 0.000000\n",
      "InitWtsDiameter: 0.100000\n",
      "___________________________________________________________________\n",
      "Initializing 1 Hidden Layers, 601 Weights...\n",
      "Beginning processing data.\n",
      "Rows Read: 17076805, Read Time: 0, Transform Time: 0\n",
      "Beginning processing data.\n",
      "Estimated Pre-training MeanError = 1974428.284587\n",
      "Iter:1/100, MeanErr=3352748.610443(69.81%), 315.13M WeightUpdates/sec\n",
      "Iter:2/100, MeanErr=3429035.896786(2.28%), 315.74M WeightUpdates/sec\n",
      "Iter:3/100, MeanErr=3550713.488699(3.55%), 286.72M WeightUpdates/sec\n",
      "Iter:4/100, MeanErr=3552055.350969(0.04%), 276.98M WeightUpdates/sec\n",
      "Iter:5/100, MeanErr=3552220.201666(0.00%), 287.42M WeightUpdates/sec\n",
      "Iter:6/100, MeanErr=3551754.012822(-0.01%), 292.11M WeightUpdates/sec\n",
      "Iter:7/100, MeanErr=3551861.729392(0.00%), 298.70M WeightUpdates/sec\n",
      "Iter:8/100, MeanErr=3551545.252714(-0.01%), 300.73M WeightUpdates/sec\n",
      "Iter:9/100, MeanErr=3551680.900684(0.00%), 306.62M WeightUpdates/sec\n",
      "Iter:10/100, MeanErr=3551674.922720(0.00%), 298.51M WeightUpdates/sec\n",
      "Iter:11/100, MeanErr=3551726.133242(0.00%), 283.83M WeightUpdates/sec\n",
      "Iter:12/100, MeanErr=3552010.571465(0.01%), 290.75M WeightUpdates/sec\n"
     ]
    }
   ],
   "source": [
    "from microsoftml import rx_neural_network\n",
    "\n",
    "features_inventario = df_inventario.columns.drop([\"Inventario_Cantidad\"])\n",
    "model_inventario = rx_neural_network(\"Inventario_Cantidad ~ \" + \"+\".join(features_inventario), data=bc_train_inventario, method=\"regression\")"
   ]
  },
  {
   "cell_type": "markdown",
   "metadata": {},
   "source": [
    "### Predecir"
   ]
  },
  {
   "cell_type": "markdown",
   "metadata": {},
   "source": [
    "se predice el modelo y se imprimen las probabilidades encontradas en la regresión implementada (no binaria)"
   ]
  },
  {
   "cell_type": "code",
   "execution_count": null,
   "metadata": {
    "scrolled": false
   },
   "outputs": [],
   "source": [
    "from microsoftml import rx_predict\n",
    "\n",
    "prediction_compras = rx_predict(model_compras, data=bc_test_compras)\n",
    "\n",
    "prediction_compras.head()"
   ]
  }
 ],
 "metadata": {
  "kernelspec": {
   "display_name": "Python 3",
   "language": "python",
   "name": "python3"
  },
  "language_info": {
   "codemirror_mode": {
    "name": "ipython",
    "version": 3
   },
   "file_extension": ".py",
   "mimetype": "text/x-python",
   "name": "python",
   "nbconvert_exporter": "python",
   "pygments_lexer": "ipython3",
   "version": "3.5.2"
  }
 },
 "nbformat": 4,
 "nbformat_minor": 2
}
