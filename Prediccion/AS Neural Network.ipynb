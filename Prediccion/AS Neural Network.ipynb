{
 "cells": [
  {
   "cell_type": "markdown",
   "metadata": {},
   "source": [
    "# Aprendizaje Supervisado Neural Network"
   ]
  },
  {
   "cell_type": "markdown",
   "metadata": {},
   "source": [
    "Proyecto de gestión de inventarios usando SQL Server"
   ]
  },
  {
   "cell_type": "markdown",
   "metadata": {},
   "source": [
    "## 1 Conexión"
   ]
  },
  {
   "cell_type": "markdown",
   "metadata": {},
   "source": [
    "La conexión mostrada en este proyecto Actualmente se encuentra implementada para un servicio local, por lo tanto puede ser objeto de cambios en cuanto se despliegue la base de datos en un servidor EC2"
   ]
  },
  {
   "cell_type": "code",
   "execution_count": 1,
   "metadata": {},
   "outputs": [],
   "source": [
    "import pyodbc\n",
    "import pandas as pd\n",
    "import numpy as np\n",
    "\n",
    "driver = 'SQL Server'\n",
    "server = 'MARCO'\n",
    "db1 = 'AI_Eafit'\n",
    "tcon = 'yes'\n",
    "uname = 'aieafit'\n",
    "pword = 'marANT1502'\n",
    "\n",
    "cnxn = pyodbc.connect(driver='{SQL Server}', host=server, database=db1,\n",
    "                      trusted_connection=tcon, user=uname, password=pword)"
   ]
  },
  {
   "cell_type": "markdown",
   "metadata": {},
   "source": [
    "# 2 Modelo"
   ]
  },
  {
   "cell_type": "markdown",
   "metadata": {},
   "source": [
    "## 2.1 Neural Network"
   ]
  },
  {
   "cell_type": "markdown",
   "metadata": {},
   "source": [
    "Una vez se ejecuta la conexión se deben seleccionar los datos establecidos en las variables de respuesta escogidas, este paso se dividirá por Queries de cada selección y se utilizará la biblioteca Microsoftml para implementar los modelos"
   ]
  },
  {
   "cell_type": "markdown",
   "metadata": {},
   "source": [
    "### dbo.Fact_compra"
   ]
  },
  {
   "cell_type": "code",
   "execution_count": 2,
   "metadata": {},
   "outputs": [
    {
     "data": {
      "text/html": [
       "<div>\n",
       "<table border=\"1\" class=\"dataframe\">\n",
       "  <thead>\n",
       "    <tr style=\"text-align: right;\">\n",
       "      <th></th>\n",
       "      <th>Id_Producto</th>\n",
       "      <th>Id_Bodega</th>\n",
       "      <th>Id_Comprador</th>\n",
       "      <th>Fecha_Orden_Compra</th>\n",
       "      <th>Compra_Cantidad</th>\n",
       "      <th>Compra_Pesos</th>\n",
       "      <th>Precio_Unitario_Moneda</th>\n",
       "      <th>Linea_Completa</th>\n",
       "      <th>Linea_Perfecta</th>\n",
       "      <th>Lead_Time_Teorico_Compra</th>\n",
       "      <th>Lead_Time_Real_Max_Compra</th>\n",
       "    </tr>\n",
       "  </thead>\n",
       "  <tbody>\n",
       "    <tr>\n",
       "      <th>0</th>\n",
       "      <td>2353</td>\n",
       "      <td>3</td>\n",
       "      <td>15348</td>\n",
       "      <td>20181106</td>\n",
       "      <td>120.0</td>\n",
       "      <td>152640.0</td>\n",
       "      <td>1272.0</td>\n",
       "      <td>0.0</td>\n",
       "      <td>0.0</td>\n",
       "      <td>0.0</td>\n",
       "      <td>0.0</td>\n",
       "    </tr>\n",
       "    <tr>\n",
       "      <th>1</th>\n",
       "      <td>4769</td>\n",
       "      <td>3</td>\n",
       "      <td>15348</td>\n",
       "      <td>20181106</td>\n",
       "      <td>6.0</td>\n",
       "      <td>61566.0</td>\n",
       "      <td>10261.0</td>\n",
       "      <td>0.0</td>\n",
       "      <td>0.0</td>\n",
       "      <td>0.0</td>\n",
       "      <td>0.0</td>\n",
       "    </tr>\n",
       "    <tr>\n",
       "      <th>2</th>\n",
       "      <td>8561</td>\n",
       "      <td>3</td>\n",
       "      <td>15348</td>\n",
       "      <td>20181106</td>\n",
       "      <td>24.0</td>\n",
       "      <td>71544.0</td>\n",
       "      <td>2981.0</td>\n",
       "      <td>0.0</td>\n",
       "      <td>0.0</td>\n",
       "      <td>0.0</td>\n",
       "      <td>0.0</td>\n",
       "    </tr>\n",
       "    <tr>\n",
       "      <th>3</th>\n",
       "      <td>6145</td>\n",
       "      <td>4</td>\n",
       "      <td>5964</td>\n",
       "      <td>20181109</td>\n",
       "      <td>12.0</td>\n",
       "      <td>112320.0</td>\n",
       "      <td>9360.0</td>\n",
       "      <td>1.0</td>\n",
       "      <td>1.0</td>\n",
       "      <td>7.0</td>\n",
       "      <td>7.0</td>\n",
       "    </tr>\n",
       "    <tr>\n",
       "      <th>4</th>\n",
       "      <td>2353</td>\n",
       "      <td>4</td>\n",
       "      <td>5964</td>\n",
       "      <td>20181109</td>\n",
       "      <td>216.0</td>\n",
       "      <td>274752.0</td>\n",
       "      <td>1272.0</td>\n",
       "      <td>1.0</td>\n",
       "      <td>1.0</td>\n",
       "      <td>7.0</td>\n",
       "      <td>7.0</td>\n",
       "    </tr>\n",
       "  </tbody>\n",
       "</table>\n",
       "</div>"
      ],
      "text/plain": [
       "   Id_Producto  Id_Bodega  Id_Comprador  Fecha_Orden_Compra  Compra_Cantidad  \\\n",
       "0         2353          3         15348            20181106            120.0   \n",
       "1         4769          3         15348            20181106              6.0   \n",
       "2         8561          3         15348            20181106             24.0   \n",
       "3         6145          4          5964            20181109             12.0   \n",
       "4         2353          4          5964            20181109            216.0   \n",
       "\n",
       "   Compra_Pesos  Precio_Unitario_Moneda  Linea_Completa  Linea_Perfecta  \\\n",
       "0      152640.0                  1272.0             0.0             0.0   \n",
       "1       61566.0                 10261.0             0.0             0.0   \n",
       "2       71544.0                  2981.0             0.0             0.0   \n",
       "3      112320.0                  9360.0             1.0             1.0   \n",
       "4      274752.0                  1272.0             1.0             1.0   \n",
       "\n",
       "   Lead_Time_Teorico_Compra  Lead_Time_Real_Max_Compra  \n",
       "0                       0.0                        0.0  \n",
       "1                       0.0                        0.0  \n",
       "2                       0.0                        0.0  \n",
       "3                       7.0                        7.0  \n",
       "4                       7.0                        7.0  "
      ]
     },
     "execution_count": 2,
     "metadata": {},
     "output_type": "execute_result"
    }
   ],
   "source": [
    "query_compras = \"SELECT TOP 1000000 Id_Producto, Id_Bodega, Id_Comprador, Fecha_Orden_Compra, Compra_Cantidad, Compra_Pesos, Precio_Unitario_Moneda, Linea_Completa, Linea_Perfecta, Lead_Time_Teorico_Compra, Lead_Time_Real_Max_Compra FROM dbo.T_Fact_compra\"\n",
    "df_compras = pd.read_sql(query_compras, cnxn)\n",
    "\n",
    "df_compras['Fecha_Orden_Compra'] = df_compras['Fecha_Orden_Compra'].str.replace(r'-', '')\n",
    "df_compras['Fecha_Orden_Compra'] = df_compras['Fecha_Orden_Compra'].astype('int64')\n",
    "\n",
    "df_compras.head()"
   ]
  },
  {
   "cell_type": "markdown",
   "metadata": {},
   "source": [
    "#### Separación de los datos"
   ]
  },
  {
   "cell_type": "markdown",
   "metadata": {},
   "source": [
    "se divide el dataframe en un set para entrenamiento y uno de pruebas"
   ]
  },
  {
   "cell_type": "code",
   "execution_count": 3,
   "metadata": {},
   "outputs": [
    {
     "name": "stdout",
     "output_type": "stream",
     "text": [
      "# of rows in training set =  1294964\n",
      "# of rows in test set =  323741\n"
     ]
    }
   ],
   "source": [
    "from sklearn.model_selection import train_test_split\n",
    "bc_train_compras, bc_test_compras = train_test_split(df_compras, test_size=0.2)\n",
    "print(\"# of rows in training set = \",bc_train_compras.size)\n",
    "print(\"# of rows in test set = \",bc_test_compras.size)"
   ]
  },
  {
   "cell_type": "markdown",
   "metadata": {},
   "source": [
    "### Entrenamiento de modelo"
   ]
  },
  {
   "cell_type": "markdown",
   "metadata": {},
   "source": [
    "Se entrena el modelo usando el paquete Microsoft for ML"
   ]
  },
  {
   "cell_type": "code",
   "execution_count": 4,
   "metadata": {
    "scrolled": false
   },
   "outputs": [
    {
     "name": "stdout",
     "output_type": "stream",
     "text": [
      "\n",
      "Express Edition will continue to be enforced.\n",
      "Beginning processing data.\n",
      "Rows Read: 117724, Read Time: 0, Transform Time: 0\n",
      "Beginning processing data.\n",
      "Automatically adding a MinMax normalization transform, use 'norm=Warn' or 'norm=No' to turn this behavior off.\n",
      "Beginning processing data.\n",
      "Rows Read: 117724, Read Time: 0, Transform Time: 0\n",
      "Beginning processing data.\n",
      "Using: AVX Math\n",
      "\n",
      "***** Net definition *****\n",
      "  input Data [10];\n",
      "  hidden H [100] sigmoid { // Depth 1\n",
      "    from Data all;\n",
      "  }\n",
      "  output Result [1] sigmoid { // Depth 0\n",
      "    from H all;\n",
      "  }\n",
      "***** End net definition *****\n",
      "Input count: 10\n",
      "Output count: 1\n",
      "Output Function: Sigmoid\n",
      "Loss Function: LogLoss\n",
      "PreTrainer: NoPreTrainer\n",
      "___________________________________________________________________\n",
      "Starting training...\n",
      "Learning rate: 0.001000\n",
      "Momentum: 0.000000\n",
      "InitWtsDiameter: 0.100000\n",
      "___________________________________________________________________\n",
      "Initializing 1 Hidden Layers, 1201 Weights...\n",
      "Beginning processing data.\n",
      "Rows Read: 117724, Read Time: 0, Transform Time: 0\n",
      "Beginning processing data.\n",
      "Estimated Pre-training MeanError = 0.650890\n",
      "Iter:1/100, MeanErr=0.272854(-58.08%), 617.08M WeightUpdates/sec\n",
      "Iter:2/100, MeanErr=0.272251(-0.22%), 664.45M WeightUpdates/sec\n",
      "Iter:3/100, MeanErr=0.272075(-0.06%), 665.70M WeightUpdates/sec\n",
      "Iter:4/100, MeanErr=0.271798(-0.10%), 571.60M WeightUpdates/sec\n",
      "Iter:5/100, MeanErr=0.271488(-0.11%), 668.64M WeightUpdates/sec\n",
      "Iter:6/100, MeanErr=0.271098(-0.14%), 648.43M WeightUpdates/sec\n",
      "Iter:7/100, MeanErr=0.270656(-0.16%), 662.38M WeightUpdates/sec\n",
      "Iter:8/100, MeanErr=0.270071(-0.22%), 658.78M WeightUpdates/sec\n",
      "Iter:9/100, MeanErr=0.269360(-0.26%), 664.10M WeightUpdates/sec\n",
      "Iter:10/100, MeanErr=0.268438(-0.34%), 639.45M WeightUpdates/sec\n",
      "Iter:11/100, MeanErr=0.267636(-0.30%), 636.55M WeightUpdates/sec\n",
      "Iter:12/100, MeanErr=0.266696(-0.35%), 632.31M WeightUpdates/sec\n",
      "Iter:13/100, MeanErr=0.265737(-0.36%), 651.89M WeightUpdates/sec\n",
      "Iter:14/100, MeanErr=0.264848(-0.33%), 622.90M WeightUpdates/sec\n",
      "Iter:15/100, MeanErr=0.264040(-0.31%), 649.13M WeightUpdates/sec\n",
      "Iter:16/100, MeanErr=0.263242(-0.30%), 659.38M WeightUpdates/sec\n",
      "Iter:17/100, MeanErr=0.262613(-0.24%), 649.36M WeightUpdates/sec\n",
      "Iter:18/100, MeanErr=0.261847(-0.29%), 666.77M WeightUpdates/sec\n",
      "Iter:19/100, MeanErr=0.261174(-0.26%), 670.07M WeightUpdates/sec\n",
      "Iter:20/100, MeanErr=0.260546(-0.24%), 663.48M WeightUpdates/sec\n",
      "Iter:21/100, MeanErr=0.259859(-0.26%), 666.06M WeightUpdates/sec\n",
      "Iter:22/100, MeanErr=0.259250(-0.23%), 661.00M WeightUpdates/sec\n",
      "Iter:23/100, MeanErr=0.258521(-0.28%), 644.59M WeightUpdates/sec\n",
      "Iter:24/100, MeanErr=0.257816(-0.27%), 657.95M WeightUpdates/sec\n",
      "Iter:25/100, MeanErr=0.257139(-0.26%), 668.38M WeightUpdates/sec\n",
      "Iter:26/100, MeanErr=0.256385(-0.29%), 666.92M WeightUpdates/sec\n",
      "Iter:27/100, MeanErr=0.255691(-0.27%), 533.48M WeightUpdates/sec\n",
      "Iter:28/100, MeanErr=0.254970(-0.28%), 588.91M WeightUpdates/sec\n",
      "Iter:29/100, MeanErr=0.254124(-0.33%), 639.36M WeightUpdates/sec\n",
      "Iter:30/100, MeanErr=0.253427(-0.27%), 653.05M WeightUpdates/sec\n",
      "Iter:31/100, MeanErr=0.252648(-0.31%), 652.51M WeightUpdates/sec\n",
      "Iter:32/100, MeanErr=0.251766(-0.35%), 646.04M WeightUpdates/sec\n",
      "Iter:33/100, MeanErr=0.250996(-0.31%), 666.45M WeightUpdates/sec\n",
      "Iter:34/100, MeanErr=0.250050(-0.38%), 661.78M WeightUpdates/sec\n",
      "Iter:35/100, MeanErr=0.249162(-0.36%), 658.29M WeightUpdates/sec\n",
      "Iter:36/100, MeanErr=0.248166(-0.40%), 662.82M WeightUpdates/sec\n",
      "Iter:37/100, MeanErr=0.247163(-0.40%), 664.61M WeightUpdates/sec\n",
      "Iter:38/100, MeanErr=0.246241(-0.37%), 662.21M WeightUpdates/sec\n",
      "Iter:39/100, MeanErr=0.245112(-0.46%), 643.29M WeightUpdates/sec\n",
      "Iter:40/100, MeanErr=0.244120(-0.40%), 656.96M WeightUpdates/sec\n",
      "Iter:41/100, MeanErr=0.242914(-0.49%), 658.52M WeightUpdates/sec\n",
      "Iter:42/100, MeanErr=0.241850(-0.44%), 667.43M WeightUpdates/sec\n",
      "Iter:43/100, MeanErr=0.240574(-0.53%), 660.09M WeightUpdates/sec\n",
      "Iter:44/100, MeanErr=0.239357(-0.51%), 667.32M WeightUpdates/sec\n",
      "Iter:45/100, MeanErr=0.238106(-0.52%), 662.43M WeightUpdates/sec\n",
      "Iter:46/100, MeanErr=0.236803(-0.55%), 661.68M WeightUpdates/sec\n",
      "Iter:47/100, MeanErr=0.235499(-0.55%), 661.30M WeightUpdates/sec\n",
      "Iter:48/100, MeanErr=0.234153(-0.57%), 654.83M WeightUpdates/sec\n",
      "Iter:49/100, MeanErr=0.232631(-0.65%), 659.71M WeightUpdates/sec\n",
      "Iter:50/100, MeanErr=0.231210(-0.61%), 654.92M WeightUpdates/sec\n",
      "Iter:51/100, MeanErr=0.229652(-0.67%), 671.34M WeightUpdates/sec\n",
      "Iter:52/100, MeanErr=0.228029(-0.71%), 665.54M WeightUpdates/sec\n",
      "Iter:53/100, MeanErr=0.226654(-0.60%), 662.02M WeightUpdates/sec\n",
      "Iter:54/100, MeanErr=0.224956(-0.75%), 661.55M WeightUpdates/sec\n",
      "Iter:55/100, MeanErr=0.223174(-0.79%), 673.34M WeightUpdates/sec\n",
      "Iter:56/100, MeanErr=0.221707(-0.66%), 668.81M WeightUpdates/sec\n",
      "Iter:57/100, MeanErr=0.220014(-0.76%), 654.06M WeightUpdates/sec\n",
      "Iter:58/100, MeanErr=0.218352(-0.76%), 662.45M WeightUpdates/sec\n",
      "Iter:59/100, MeanErr=0.216605(-0.80%), 659.75M WeightUpdates/sec\n",
      "Iter:60/100, MeanErr=0.214998(-0.74%), 662.97M WeightUpdates/sec\n",
      "Iter:61/100, MeanErr=0.213413(-0.74%), 660.13M WeightUpdates/sec\n",
      "Iter:62/100, MeanErr=0.211662(-0.82%), 661.79M WeightUpdates/sec\n",
      "Iter:63/100, MeanErr=0.209938(-0.81%), 656.54M WeightUpdates/sec\n",
      "Iter:64/100, MeanErr=0.208195(-0.83%), 643.01M WeightUpdates/sec\n",
      "Iter:65/100, MeanErr=0.206375(-0.87%), 670.84M WeightUpdates/sec\n",
      "Iter:66/100, MeanErr=0.204659(-0.83%), 662.82M WeightUpdates/sec\n",
      "Iter:67/100, MeanErr=0.202877(-0.87%), 664.70M WeightUpdates/sec\n",
      "Iter:68/100, MeanErr=0.200982(-0.93%), 662.08M WeightUpdates/sec\n",
      "Iter:69/100, MeanErr=0.199391(-0.79%), 636.09M WeightUpdates/sec\n",
      "Iter:70/100, MeanErr=0.197666(-0.87%), 669.61M WeightUpdates/sec\n",
      "Iter:71/100, MeanErr=0.196217(-0.73%), 659.36M WeightUpdates/sec\n",
      "Iter:72/100, MeanErr=0.194620(-0.81%), 667.86M WeightUpdates/sec\n",
      "Iter:73/100, MeanErr=0.193055(-0.80%), 656.87M WeightUpdates/sec\n",
      "Iter:74/100, MeanErr=0.191587(-0.76%), 657.26M WeightUpdates/sec\n",
      "Iter:75/100, MeanErr=0.190197(-0.73%), 660.30M WeightUpdates/sec\n",
      "Iter:76/100, MeanErr=0.188917(-0.67%), 663.79M WeightUpdates/sec\n",
      "Iter:77/100, MeanErr=0.187637(-0.68%), 664.86M WeightUpdates/sec\n",
      "Iter:78/100, MeanErr=0.186175(-0.78%), 654.85M WeightUpdates/sec\n",
      "Iter:79/100, MeanErr=0.185046(-0.61%), 662.69M WeightUpdates/sec\n",
      "Iter:80/100, MeanErr=0.183812(-0.67%), 664.46M WeightUpdates/sec\n",
      "Iter:81/100, MeanErr=0.182882(-0.51%), 664.06M WeightUpdates/sec\n",
      "Iter:82/100, MeanErr=0.181718(-0.64%), 662.13M WeightUpdates/sec\n",
      "Iter:83/100, MeanErr=0.180712(-0.55%), 673.03M WeightUpdates/sec\n",
      "Iter:84/100, MeanErr=0.179824(-0.49%), 663.46M WeightUpdates/sec\n",
      "Iter:85/100, MeanErr=0.178887(-0.52%), 658.78M WeightUpdates/sec\n",
      "Iter:86/100, MeanErr=0.178219(-0.37%), 658.42M WeightUpdates/sec\n",
      "Iter:87/100, MeanErr=0.177299(-0.52%), 655.96M WeightUpdates/sec\n",
      "Iter:88/100, MeanErr=0.176480(-0.46%), 665.88M WeightUpdates/sec\n",
      "Iter:89/100, MeanErr=0.175948(-0.30%), 666.41M WeightUpdates/sec\n",
      "Iter:90/100, MeanErr=0.175347(-0.34%), 663.39M WeightUpdates/sec\n",
      "Iter:91/100, MeanErr=0.174619(-0.42%), 665.78M WeightUpdates/sec\n",
      "Iter:92/100, MeanErr=0.173984(-0.36%), 661.47M WeightUpdates/sec\n",
      "Iter:93/100, MeanErr=0.173534(-0.26%), 664.60M WeightUpdates/sec\n",
      "Iter:94/100, MeanErr=0.172989(-0.31%), 667.86M WeightUpdates/sec\n",
      "Iter:95/100, MeanErr=0.172387(-0.35%), 666.56M WeightUpdates/sec\n",
      "Iter:96/100, MeanErr=0.171950(-0.25%), 653.40M WeightUpdates/sec\n",
      "Iter:97/100, MeanErr=0.171624(-0.19%), 578.58M WeightUpdates/sec\n",
      "Iter:98/100, MeanErr=0.171199(-0.25%), 665.40M WeightUpdates/sec\n",
      "Iter:99/100, MeanErr=0.170805(-0.23%), 613.33M WeightUpdates/sec\n",
      "Iter:100/100, MeanErr=0.170361(-0.26%), 664.44M WeightUpdates/sec\n",
      "Done!\n",
      "Estimated Post-training MeanError = 0.168007\n",
      "___________________________________________________________________\n",
      "Not training a calibrator because it is not needed.\n",
      "Elapsed time: 00:00:23.0383487\n",
      "Elapsed time: 00:00:00.1785245\n"
     ]
    }
   ],
   "source": [
    "from microsoftml import rx_neural_network\n",
    "\n",
    "features_compras = df_compras.columns.drop([\"Linea_Perfecta\"])\n",
    "model_compras = rx_neural_network(\"Linea_Perfecta ~ \" + \"+\".join(features_compras), data=bc_train_compras)"
   ]
  },
  {
   "cell_type": "markdown",
   "metadata": {},
   "source": [
    "### Predecir"
   ]
  },
  {
   "cell_type": "markdown",
   "metadata": {},
   "source": [
    "se predice el modelo y se imprimen las probabilidades encontradas en la regresión implementada (no binaria)"
   ]
  },
  {
   "cell_type": "code",
   "execution_count": 5,
   "metadata": {
    "scrolled": true
   },
   "outputs": [
    {
     "name": "stdout",
     "output_type": "stream",
     "text": [
      "Beginning processing data.\n",
      "Rows Read: 29431, Read Time: 0.001, Transform Time: 0\n",
      "Beginning processing data.\n",
      "Elapsed time: 00:00:00.3115208\n",
      "Finished writing 29431 rows.\n",
      "Writing completed.\n"
     ]
    },
    {
     "data": {
      "text/html": [
       "<div>\n",
       "<table border=\"1\" class=\"dataframe\">\n",
       "  <thead>\n",
       "    <tr style=\"text-align: right;\">\n",
       "      <th></th>\n",
       "      <th>PredictedLabel</th>\n",
       "      <th>Score.1</th>\n",
       "      <th>Probability.1</th>\n",
       "    </tr>\n",
       "  </thead>\n",
       "  <tbody>\n",
       "    <tr>\n",
       "      <th>0</th>\n",
       "      <td>0</td>\n",
       "      <td>-19.791084</td>\n",
       "      <td>2.540053e-09</td>\n",
       "    </tr>\n",
       "    <tr>\n",
       "      <th>1</th>\n",
       "      <td>0</td>\n",
       "      <td>-5.870216</td>\n",
       "      <td>2.814319e-03</td>\n",
       "    </tr>\n",
       "    <tr>\n",
       "      <th>2</th>\n",
       "      <td>0</td>\n",
       "      <td>-2.966239</td>\n",
       "      <td>4.897445e-02</td>\n",
       "    </tr>\n",
       "    <tr>\n",
       "      <th>3</th>\n",
       "      <td>0</td>\n",
       "      <td>-4.695945</td>\n",
       "      <td>9.049599e-03</td>\n",
       "    </tr>\n",
       "    <tr>\n",
       "      <th>4</th>\n",
       "      <td>0</td>\n",
       "      <td>-3.109878</td>\n",
       "      <td>4.270164e-02</td>\n",
       "    </tr>\n",
       "  </tbody>\n",
       "</table>\n",
       "</div>"
      ],
      "text/plain": [
       "  PredictedLabel    Score.1  Probability.1\n",
       "0              0 -19.791084   2.540053e-09\n",
       "1              0  -5.870216   2.814319e-03\n",
       "2              0  -2.966239   4.897445e-02\n",
       "3              0  -4.695945   9.049599e-03\n",
       "4              0  -3.109878   4.270164e-02"
      ]
     },
     "execution_count": 5,
     "metadata": {},
     "output_type": "execute_result"
    }
   ],
   "source": [
    "from microsoftml import rx_predict\n",
    "\n",
    "prediction_compras = rx_predict(model_compras, data=bc_test_compras)\n",
    "\n",
    "prediction_compras.head()"
   ]
  },
  {
   "cell_type": "markdown",
   "metadata": {},
   "source": [
    "### dbo.Fact_Ventas"
   ]
  },
  {
   "cell_type": "code",
   "execution_count": 6,
   "metadata": {},
   "outputs": [
    {
     "data": {
      "text/html": [
       "<div>\n",
       "<table border=\"1\" class=\"dataframe\">\n",
       "  <thead>\n",
       "    <tr style=\"text-align: right;\">\n",
       "      <th></th>\n",
       "      <th>Cod_Compañia</th>\n",
       "      <th>Id_Producto</th>\n",
       "      <th>Id_Vendedor</th>\n",
       "      <th>Id_Bodega</th>\n",
       "      <th>Fecha_Factura</th>\n",
       "      <th>Venta_Cantidad</th>\n",
       "      <th>Venta_Neta</th>\n",
       "      <th>Venta_Costo_Pesos</th>\n",
       "      <th>Venta_margen_pesos</th>\n",
       "      <th>Pedido_Numero_Linea</th>\n",
       "    </tr>\n",
       "  </thead>\n",
       "  <tbody>\n",
       "    <tr>\n",
       "      <th>0</th>\n",
       "      <td>1</td>\n",
       "      <td>3285</td>\n",
       "      <td>18275</td>\n",
       "      <td>12</td>\n",
       "      <td>20181218</td>\n",
       "      <td>6.0</td>\n",
       "      <td>60323.0</td>\n",
       "      <td>52183.32</td>\n",
       "      <td>8139.68</td>\n",
       "      <td>933329.0</td>\n",
       "    </tr>\n",
       "    <tr>\n",
       "      <th>1</th>\n",
       "      <td>1</td>\n",
       "      <td>2196</td>\n",
       "      <td>18275</td>\n",
       "      <td>12</td>\n",
       "      <td>20181218</td>\n",
       "      <td>6.0</td>\n",
       "      <td>70560.0</td>\n",
       "      <td>56448.00</td>\n",
       "      <td>14112.00</td>\n",
       "      <td>933303.0</td>\n",
       "    </tr>\n",
       "    <tr>\n",
       "      <th>2</th>\n",
       "      <td>1</td>\n",
       "      <td>2199</td>\n",
       "      <td>18275</td>\n",
       "      <td>12</td>\n",
       "      <td>20181218</td>\n",
       "      <td>12.0</td>\n",
       "      <td>141120.0</td>\n",
       "      <td>112896.00</td>\n",
       "      <td>28224.00</td>\n",
       "      <td>933306.0</td>\n",
       "    </tr>\n",
       "    <tr>\n",
       "      <th>3</th>\n",
       "      <td>1</td>\n",
       "      <td>2263</td>\n",
       "      <td>18275</td>\n",
       "      <td>12</td>\n",
       "      <td>20181218</td>\n",
       "      <td>2.0</td>\n",
       "      <td>60480.0</td>\n",
       "      <td>48384.00</td>\n",
       "      <td>12096.00</td>\n",
       "      <td>933310.0</td>\n",
       "    </tr>\n",
       "    <tr>\n",
       "      <th>4</th>\n",
       "      <td>1</td>\n",
       "      <td>7275</td>\n",
       "      <td>18275</td>\n",
       "      <td>12</td>\n",
       "      <td>20181218</td>\n",
       "      <td>25.0</td>\n",
       "      <td>106245.0</td>\n",
       "      <td>82724.00</td>\n",
       "      <td>23521.00</td>\n",
       "      <td>933325.0</td>\n",
       "    </tr>\n",
       "  </tbody>\n",
       "</table>\n",
       "</div>"
      ],
      "text/plain": [
       "   Cod_Compañia  Id_Producto  Id_Vendedor  Id_Bodega  Fecha_Factura  \\\n",
       "0             1         3285        18275         12       20181218   \n",
       "1             1         2196        18275         12       20181218   \n",
       "2             1         2199        18275         12       20181218   \n",
       "3             1         2263        18275         12       20181218   \n",
       "4             1         7275        18275         12       20181218   \n",
       "\n",
       "   Venta_Cantidad  Venta_Neta  Venta_Costo_Pesos  Venta_margen_pesos  \\\n",
       "0             6.0     60323.0           52183.32             8139.68   \n",
       "1             6.0     70560.0           56448.00            14112.00   \n",
       "2            12.0    141120.0          112896.00            28224.00   \n",
       "3             2.0     60480.0           48384.00            12096.00   \n",
       "4            25.0    106245.0           82724.00            23521.00   \n",
       "\n",
       "   Pedido_Numero_Linea  \n",
       "0             933329.0  \n",
       "1             933303.0  \n",
       "2             933306.0  \n",
       "3             933310.0  \n",
       "4             933325.0  "
      ]
     },
     "execution_count": 6,
     "metadata": {},
     "output_type": "execute_result"
    }
   ],
   "source": [
    "query_ventas = \"SELECT TOP 1000000 Cod_Compañia, Id_Producto, Id_Vendedor, Id_Bodega, Fecha_Factura, Venta_Cantidad, Venta_Neta, Venta_Costo_Pesos, Venta_margen_pesos, Pedido_Numero_Linea FROM dbo.T_Fact_venta\"\n",
    "df_ventas = pd.read_sql(query_ventas, cnxn)\n",
    "\n",
    "df_ventas['Fecha_Factura'] = df_ventas['Fecha_Factura'].str.replace(r'-', '')\n",
    "df_ventas['Fecha_Factura'] = df_ventas['Fecha_Factura'].astype('int64')\n",
    "\n",
    "df_ventas.head()"
   ]
  },
  {
   "cell_type": "markdown",
   "metadata": {},
   "source": [
    "#### Separación de los datos"
   ]
  },
  {
   "cell_type": "markdown",
   "metadata": {},
   "source": [
    "se divide el dataframe en un set para entrenamiento y uno de pruebas"
   ]
  },
  {
   "cell_type": "code",
   "execution_count": 7,
   "metadata": {},
   "outputs": [
    {
     "name": "stdout",
     "output_type": "stream",
     "text": [
      "# of rows in training set =  8000000\n",
      "# of rows in test set =  2000000\n"
     ]
    }
   ],
   "source": [
    "from sklearn.model_selection import train_test_split\n",
    "bc_train_ventas, bc_test_ventas = train_test_split(df_ventas, test_size=0.2)\n",
    "print(\"# of rows in training set = \",bc_train_ventas.size)\n",
    "print(\"# of rows in test set = \",bc_test_ventas.size)"
   ]
  },
  {
   "cell_type": "markdown",
   "metadata": {},
   "source": [
    "### Entrenamiento de modelo"
   ]
  },
  {
   "cell_type": "markdown",
   "metadata": {},
   "source": [
    "Se entrena el modelo usando el paquete Microsoft for ML"
   ]
  },
  {
   "cell_type": "code",
   "execution_count": 8,
   "metadata": {
    "scrolled": false
   },
   "outputs": [
    {
     "name": "stdout",
     "output_type": "stream",
     "text": [
      "Automatically adding a MinMax normalization transform, use 'norm=Warn' or 'norm=No' to turn this behavior off.\n",
      "Beginning processing data.\n",
      "Rows Read: 800000, Read Time: 0.001, Transform Time: 0\n",
      "Beginning processing data.\n",
      "Using: AVX Math\n",
      "\n",
      "***** Net definition *****\n",
      "  input Data [9];\n",
      "  hidden H [100] sigmoid { // Depth 1\n",
      "    from Data all;\n",
      "  }\n",
      "  output Result [1] linear { // Depth 0\n",
      "    from H all;\n",
      "  }\n",
      "***** End net definition *****\n",
      "Input count: 9\n",
      "Output count: 1\n",
      "Output Function: Linear\n",
      "Loss Function: SquaredLoss\n",
      "PreTrainer: NoPreTrainer\n",
      "___________________________________________________________________\n",
      "Starting training...\n",
      "Learning rate: 0.001000\n",
      "Momentum: 0.000000\n",
      "InitWtsDiameter: 0.100000\n",
      "___________________________________________________________________\n",
      "Initializing 1 Hidden Layers, 1101 Weights...\n",
      "Beginning processing data.\n",
      "Rows Read: 800000, Read Time: 0, Transform Time: 0\n",
      "Beginning processing data.\n",
      "Estimated Pre-training MeanError = 402693.861352\n",
      "Iter:1/100, MeanErr=363648.264089(-9.70%), 490.87M WeightUpdates/sec\n",
      "Iter:2/100, MeanErr=369663.021353(1.65%), 409.23M WeightUpdates/sec\n",
      "Iter:3/100, MeanErr=370712.788132(0.28%), 473.68M WeightUpdates/sec\n",
      "Iter:4/100, MeanErr=370916.212237(0.05%), 491.51M WeightUpdates/sec\n",
      "Iter:5/100, MeanErr=371687.430305(0.21%), 476.31M WeightUpdates/sec\n",
      "Iter:6/100, MeanErr=371949.716596(0.07%), 503.50M WeightUpdates/sec\n",
      "Iter:7/100, MeanErr=371734.172255(-0.06%), 513.02M WeightUpdates/sec\n",
      "Iter:8/100, MeanErr=371609.227638(-0.03%), 506.10M WeightUpdates/sec\n",
      "Iter:9/100, MeanErr=371829.104642(0.06%), 510.99M WeightUpdates/sec\n",
      "Iter:10/100, MeanErr=371856.069904(0.01%), 511.99M WeightUpdates/sec\n",
      "Iter:11/100, MeanErr=371835.216299(-0.01%), 505.21M WeightUpdates/sec\n",
      "Iter:12/100, MeanErr=371701.767523(-0.04%), 475.93M WeightUpdates/sec\n",
      "Iter:13/100, MeanErr=372085.599536(0.10%), 493.96M WeightUpdates/sec\n",
      "Iter:14/100, MeanErr=372596.197798(0.14%), 500.25M WeightUpdates/sec\n",
      "Iter:15/100, MeanErr=372995.123434(0.11%), 486.06M WeightUpdates/sec\n",
      "Iter:16/100, MeanErr=373153.983106(0.04%), 495.89M WeightUpdates/sec\n",
      "Iter:17/100, MeanErr=372718.942910(-0.12%), 489.85M WeightUpdates/sec\n",
      "Iter:18/100, MeanErr=372155.547269(-0.15%), 496.54M WeightUpdates/sec\n",
      "Iter:19/100, MeanErr=372567.535121(0.11%), 495.07M WeightUpdates/sec\n",
      "Iter:20/100, MeanErr=373211.456723(0.17%), 493.81M WeightUpdates/sec\n",
      "Iter:21/100, MeanErr=373229.085896(0.00%), 483.86M WeightUpdates/sec\n",
      "Iter:22/100, MeanErr=373132.967261(-0.03%), 488.81M WeightUpdates/sec\n",
      "Iter:23/100, MeanErr=373358.550931(0.06%), 498.21M WeightUpdates/sec\n",
      "Iter:24/100, MeanErr=373378.305845(0.01%), 490.59M WeightUpdates/sec\n",
      "Iter:25/100, MeanErr=373361.393868(0.00%), 453.50M WeightUpdates/sec\n",
      "Iter:26/100, MeanErr=373917.351358(0.15%), 458.64M WeightUpdates/sec\n",
      "Iter:27/100, MeanErr=373756.788062(-0.04%), 469.97M WeightUpdates/sec\n",
      "Iter:28/100, MeanErr=373453.221267(-0.08%), 499.64M WeightUpdates/sec\n",
      "Iter:29/100, MeanErr=373815.987666(0.10%), 472.64M WeightUpdates/sec\n",
      "Iter:30/100, MeanErr=373780.347967(-0.01%), 464.47M WeightUpdates/sec\n",
      "Iter:31/100, MeanErr=373642.164806(-0.04%), 474.89M WeightUpdates/sec\n",
      "Iter:32/100, MeanErr=373785.421033(0.04%), 474.27M WeightUpdates/sec\n",
      "Iter:33/100, MeanErr=373474.216288(-0.08%), 502.80M WeightUpdates/sec\n",
      "Iter:34/100, MeanErr=373840.650883(0.10%), 498.01M WeightUpdates/sec\n",
      "Iter:35/100, MeanErr=373536.628333(-0.08%), 501.85M WeightUpdates/sec\n",
      "Iter:36/100, MeanErr=373266.210743(-0.07%), 474.18M WeightUpdates/sec\n",
      "Iter:37/100, MeanErr=373271.893332(0.00%), 502.51M WeightUpdates/sec\n",
      "Iter:38/100, MeanErr=373376.053295(0.03%), 498.99M WeightUpdates/sec\n",
      "Iter:39/100, MeanErr=373435.407241(0.02%), 491.76M WeightUpdates/sec\n",
      "Iter:40/100, MeanErr=373050.827837(-0.10%), 429.16M WeightUpdates/sec\n",
      "Iter:41/100, MeanErr=373095.686839(0.01%), 411.28M WeightUpdates/sec\n",
      "Iter:42/100, MeanErr=372888.342242(-0.06%), 419.61M WeightUpdates/sec\n",
      "Iter:43/100, MeanErr=372568.512815(-0.09%), 440.16M WeightUpdates/sec\n",
      "Iter:44/100, MeanErr=372199.801626(-0.10%), 481.74M WeightUpdates/sec\n",
      "Iter:45/100, MeanErr=372466.527860(0.07%), 479.49M WeightUpdates/sec\n",
      "Iter:46/100, MeanErr=372533.482953(0.02%), 489.93M WeightUpdates/sec\n",
      "Iter:47/100, MeanErr=372549.207830(0.00%), 482.16M WeightUpdates/sec\n",
      "Iter:48/100, MeanErr=372530.535544(-0.01%), 491.04M WeightUpdates/sec\n",
      "Iter:49/100, MeanErr=372472.921523(-0.02%), 432.33M WeightUpdates/sec\n",
      "Iter:50/100, MeanErr=372388.533365(-0.02%), 502.78M WeightUpdates/sec\n",
      "Iter:51/100, MeanErr=372645.356128(0.07%), 439.18M WeightUpdates/sec\n",
      "Iter:52/100, MeanErr=372672.251533(0.01%), 471.87M WeightUpdates/sec\n",
      "Iter:53/100, MeanErr=372643.721844(-0.01%), 505.35M WeightUpdates/sec\n",
      "Iter:54/100, MeanErr=372566.559353(-0.02%), 501.47M WeightUpdates/sec\n",
      "Iter:55/100, MeanErr=372303.209335(-0.07%), 498.80M WeightUpdates/sec\n",
      "Iter:56/100, MeanErr=372171.455783(-0.04%), 502.62M WeightUpdates/sec\n",
      "Iter:57/100, MeanErr=372226.549205(0.01%), 471.52M WeightUpdates/sec\n",
      "Iter:58/100, MeanErr=372566.394100(0.09%), 425.05M WeightUpdates/sec\n",
      "Iter:59/100, MeanErr=372528.613763(-0.01%), 487.02M WeightUpdates/sec\n",
      "Iter:60/100, MeanErr=372321.218212(-0.06%), 497.71M WeightUpdates/sec\n",
      "Iter:61/100, MeanErr=372225.192062(-0.03%), 500.00M WeightUpdates/sec\n",
      "Iter:62/100, MeanErr=372209.351372(0.00%), 502.28M WeightUpdates/sec\n",
      "Iter:63/100, MeanErr=372268.140604(0.02%), 499.53M WeightUpdates/sec\n",
      "Iter:64/100, MeanErr=372189.948981(-0.02%), 492.42M WeightUpdates/sec\n",
      "Iter:65/100, MeanErr=372199.613353(0.00%), 477.66M WeightUpdates/sec\n",
      "Iter:66/100, MeanErr=372106.893575(-0.02%), 496.45M WeightUpdates/sec\n",
      "Iter:67/100, MeanErr=372093.969413(0.00%), 400.14M WeightUpdates/sec\n",
      "Iter:68/100, MeanErr=372086.539291(0.00%), 408.60M WeightUpdates/sec\n",
      "Iter:69/100, MeanErr=372159.864759(0.02%), 371.35M WeightUpdates/sec\n",
      "Iter:70/100, MeanErr=372187.935291(0.01%), 386.46M WeightUpdates/sec\n",
      "Iter:71/100, MeanErr=372081.880115(-0.03%), 399.68M WeightUpdates/sec\n",
      "Iter:72/100, MeanErr=372101.772412(0.01%), 416.69M WeightUpdates/sec\n",
      "Iter:73/100, MeanErr=372147.255989(0.01%), 397.21M WeightUpdates/sec\n",
      "Iter:74/100, MeanErr=372268.393923(0.03%), 390.54M WeightUpdates/sec\n",
      "Iter:75/100, MeanErr=372073.174880(-0.05%), 407.41M WeightUpdates/sec\n",
      "Iter:76/100, MeanErr=372148.947480(0.02%), 402.20M WeightUpdates/sec\n",
      "Iter:77/100, MeanErr=372194.881439(0.01%), 374.70M WeightUpdates/sec\n",
      "Iter:78/100, MeanErr=372310.456164(0.03%), 349.69M WeightUpdates/sec\n",
      "Iter:79/100, MeanErr=372301.247816(0.00%), 349.12M WeightUpdates/sec\n",
      "Iter:80/100, MeanErr=372307.151584(0.00%), 393.41M WeightUpdates/sec\n",
      "Iter:81/100, MeanErr=372079.959786(-0.06%), 388.88M WeightUpdates/sec\n",
      "Iter:82/100, MeanErr=372210.266241(0.04%), 408.69M WeightUpdates/sec\n",
      "Iter:83/100, MeanErr=372031.879926(-0.05%), 401.56M WeightUpdates/sec\n",
      "Iter:84/100, MeanErr=372142.612280(0.03%), 411.52M WeightUpdates/sec\n",
      "Iter:85/100, MeanErr=372165.772013(0.01%), 395.28M WeightUpdates/sec\n",
      "Iter:86/100, MeanErr=372221.378812(0.01%), 392.24M WeightUpdates/sec\n",
      "Iter:87/100, MeanErr=372271.828994(0.01%), 417.24M WeightUpdates/sec\n",
      "Iter:88/100, MeanErr=372073.506735(-0.05%), 397.71M WeightUpdates/sec\n",
      "Iter:89/100, MeanErr=371922.128180(-0.04%), 327.91M WeightUpdates/sec\n",
      "Iter:90/100, MeanErr=371957.245556(0.01%), 367.09M WeightUpdates/sec\n",
      "Iter:91/100, MeanErr=372258.725514(0.08%), 475.29M WeightUpdates/sec\n",
      "Iter:92/100, MeanErr=372059.514420(-0.05%), 456.60M WeightUpdates/sec\n",
      "Iter:93/100, MeanErr=372266.477662(0.06%), 466.39M WeightUpdates/sec\n",
      "Iter:94/100, MeanErr=372122.919516(-0.04%), 480.79M WeightUpdates/sec\n",
      "Iter:95/100, MeanErr=372584.531137(0.12%), 461.72M WeightUpdates/sec\n",
      "Iter:96/100, MeanErr=372632.159801(0.01%), 467.09M WeightUpdates/sec\n",
      "Iter:97/100, MeanErr=372676.363139(0.01%), 480.07M WeightUpdates/sec\n",
      "Iter:98/100, MeanErr=372644.009695(-0.01%), 468.78M WeightUpdates/sec\n",
      "Iter:99/100, MeanErr=372574.036660(-0.02%), 469.48M WeightUpdates/sec\n",
      "Iter:100/100, MeanErr=372626.384829(0.01%), 464.86M WeightUpdates/sec\n",
      "Warning: Skipped 75013 instances with missing features/labels/weights during training.\n",
      "Done!\n",
      "Estimated Post-training MeanError = 221498.016532\n",
      "___________________________________________________________________\n",
      "Not training a calibrator because it is not needed.\n",
      "Elapsed time: 00:02:56.9797107\n",
      "Elapsed time: 00:00:00.0303143\n"
     ]
    }
   ],
   "source": [
    "from microsoftml import rx_neural_network\n",
    "\n",
    "features_ventas = df_ventas.columns.drop([\"Venta_Cantidad\"])\n",
    "model_ventas = rx_neural_network(\"Venta_Cantidad ~ \" + \"+\".join(features_ventas), data=bc_train_ventas, method=\"regression\")"
   ]
  },
  {
   "cell_type": "markdown",
   "metadata": {},
   "source": [
    "### Predecir"
   ]
  },
  {
   "cell_type": "markdown",
   "metadata": {},
   "source": [
    "se predice el modelo y se imprimen las probabilidades encontradas en la regresión implementada (no binaria)"
   ]
  },
  {
   "cell_type": "code",
   "execution_count": 9,
   "metadata": {
    "scrolled": false
   },
   "outputs": [
    {
     "name": "stdout",
     "output_type": "stream",
     "text": [
      "Beginning processing data.\n",
      "Rows Read: 29431, Read Time: 0, Transform Time: 0\n",
      "Beginning processing data.\n",
      "Elapsed time: 00:00:00.1806519\n",
      "Finished writing 29431 rows.\n",
      "Writing completed.\n"
     ]
    },
    {
     "data": {
      "text/html": [
       "<div>\n",
       "<table border=\"1\" class=\"dataframe\">\n",
       "  <thead>\n",
       "    <tr style=\"text-align: right;\">\n",
       "      <th></th>\n",
       "      <th>PredictedLabel</th>\n",
       "      <th>Score.1</th>\n",
       "      <th>Probability.1</th>\n",
       "    </tr>\n",
       "  </thead>\n",
       "  <tbody>\n",
       "    <tr>\n",
       "      <th>0</th>\n",
       "      <td>0</td>\n",
       "      <td>-19.791084</td>\n",
       "      <td>2.540053e-09</td>\n",
       "    </tr>\n",
       "    <tr>\n",
       "      <th>1</th>\n",
       "      <td>0</td>\n",
       "      <td>-5.870216</td>\n",
       "      <td>2.814319e-03</td>\n",
       "    </tr>\n",
       "    <tr>\n",
       "      <th>2</th>\n",
       "      <td>0</td>\n",
       "      <td>-2.966239</td>\n",
       "      <td>4.897445e-02</td>\n",
       "    </tr>\n",
       "    <tr>\n",
       "      <th>3</th>\n",
       "      <td>0</td>\n",
       "      <td>-4.695945</td>\n",
       "      <td>9.049599e-03</td>\n",
       "    </tr>\n",
       "    <tr>\n",
       "      <th>4</th>\n",
       "      <td>0</td>\n",
       "      <td>-3.109878</td>\n",
       "      <td>4.270164e-02</td>\n",
       "    </tr>\n",
       "  </tbody>\n",
       "</table>\n",
       "</div>"
      ],
      "text/plain": [
       "  PredictedLabel    Score.1  Probability.1\n",
       "0              0 -19.791084   2.540053e-09\n",
       "1              0  -5.870216   2.814319e-03\n",
       "2              0  -2.966239   4.897445e-02\n",
       "3              0  -4.695945   9.049599e-03\n",
       "4              0  -3.109878   4.270164e-02"
      ]
     },
     "execution_count": 9,
     "metadata": {},
     "output_type": "execute_result"
    }
   ],
   "source": [
    "from microsoftml import rx_predict\n",
    "\n",
    "prediction_compras = rx_predict(model_compras, data=bc_test_compras)\n",
    "\n",
    "prediction_compras.head()"
   ]
  },
  {
   "cell_type": "markdown",
   "metadata": {},
   "source": [
    "### dbo.Fact_pedido"
   ]
  },
  {
   "cell_type": "code",
   "execution_count": 10,
   "metadata": {},
   "outputs": [
    {
     "data": {
      "text/html": [
       "<div>\n",
       "<table border=\"1\" class=\"dataframe\">\n",
       "  <thead>\n",
       "    <tr style=\"text-align: right;\">\n",
       "      <th></th>\n",
       "      <th>Id_Producto</th>\n",
       "      <th>Id_Vendedor</th>\n",
       "      <th>Id_Bodega</th>\n",
       "      <th>Fecha_Entrega_Planeada</th>\n",
       "      <th>Pedido_Descuento_Pesos</th>\n",
       "      <th>Pedido_Cantidad_Pendiente</th>\n",
       "      <th>conteo_linea_pedido</th>\n",
       "      <th>Linea_Completa</th>\n",
       "      <th>Linea_Perfecta</th>\n",
       "      <th>Pedido_Cantidad_Facturada</th>\n",
       "      <th>Pedido_Pesos_Facturados</th>\n",
       "      <th>Lead_time_Pedido_teorico</th>\n",
       "      <th>Lead_time_pedido_real_max</th>\n",
       "    </tr>\n",
       "  </thead>\n",
       "  <tbody>\n",
       "    <tr>\n",
       "      <th>0</th>\n",
       "      <td>3108</td>\n",
       "      <td>5958</td>\n",
       "      <td>4</td>\n",
       "      <td>20151121</td>\n",
       "      <td>0.0</td>\n",
       "      <td>0.0</td>\n",
       "      <td>1.0</td>\n",
       "      <td>1.0</td>\n",
       "      <td>1.0</td>\n",
       "      <td>12.0</td>\n",
       "      <td>313920.0</td>\n",
       "      <td>15.0</td>\n",
       "      <td>1.0</td>\n",
       "    </tr>\n",
       "    <tr>\n",
       "      <th>1</th>\n",
       "      <td>2504</td>\n",
       "      <td>5955</td>\n",
       "      <td>3</td>\n",
       "      <td>20151216</td>\n",
       "      <td>0.0</td>\n",
       "      <td>0.0</td>\n",
       "      <td>1.0</td>\n",
       "      <td>1.0</td>\n",
       "      <td>1.0</td>\n",
       "      <td>1.0</td>\n",
       "      <td>51765.0</td>\n",
       "      <td>1.0</td>\n",
       "      <td>0.0</td>\n",
       "    </tr>\n",
       "    <tr>\n",
       "      <th>2</th>\n",
       "      <td>2204</td>\n",
       "      <td>5958</td>\n",
       "      <td>4</td>\n",
       "      <td>20151124</td>\n",
       "      <td>0.0</td>\n",
       "      <td>0.0</td>\n",
       "      <td>1.0</td>\n",
       "      <td>1.0</td>\n",
       "      <td>1.0</td>\n",
       "      <td>24.0</td>\n",
       "      <td>210480.0</td>\n",
       "      <td>1.0</td>\n",
       "      <td>0.0</td>\n",
       "    </tr>\n",
       "    <tr>\n",
       "      <th>3</th>\n",
       "      <td>4983</td>\n",
       "      <td>5958</td>\n",
       "      <td>4</td>\n",
       "      <td>20151126</td>\n",
       "      <td>0.0</td>\n",
       "      <td>0.0</td>\n",
       "      <td>1.0</td>\n",
       "      <td>1.0</td>\n",
       "      <td>1.0</td>\n",
       "      <td>1.0</td>\n",
       "      <td>102181.0</td>\n",
       "      <td>1.0</td>\n",
       "      <td>0.0</td>\n",
       "    </tr>\n",
       "    <tr>\n",
       "      <th>4</th>\n",
       "      <td>2997</td>\n",
       "      <td>5958</td>\n",
       "      <td>4</td>\n",
       "      <td>20140806</td>\n",
       "      <td>0.0</td>\n",
       "      <td>0.0</td>\n",
       "      <td>1.0</td>\n",
       "      <td>1.0</td>\n",
       "      <td>1.0</td>\n",
       "      <td>2000.0</td>\n",
       "      <td>230000.0</td>\n",
       "      <td>1.0</td>\n",
       "      <td>1.0</td>\n",
       "    </tr>\n",
       "  </tbody>\n",
       "</table>\n",
       "</div>"
      ],
      "text/plain": [
       "   Id_Producto  Id_Vendedor  Id_Bodega  Fecha_Entrega_Planeada  \\\n",
       "0         3108         5958          4                20151121   \n",
       "1         2504         5955          3                20151216   \n",
       "2         2204         5958          4                20151124   \n",
       "3         4983         5958          4                20151126   \n",
       "4         2997         5958          4                20140806   \n",
       "\n",
       "   Pedido_Descuento_Pesos  Pedido_Cantidad_Pendiente  conteo_linea_pedido  \\\n",
       "0                     0.0                        0.0                  1.0   \n",
       "1                     0.0                        0.0                  1.0   \n",
       "2                     0.0                        0.0                  1.0   \n",
       "3                     0.0                        0.0                  1.0   \n",
       "4                     0.0                        0.0                  1.0   \n",
       "\n",
       "   Linea_Completa  Linea_Perfecta  Pedido_Cantidad_Facturada  \\\n",
       "0             1.0             1.0                       12.0   \n",
       "1             1.0             1.0                        1.0   \n",
       "2             1.0             1.0                       24.0   \n",
       "3             1.0             1.0                        1.0   \n",
       "4             1.0             1.0                     2000.0   \n",
       "\n",
       "   Pedido_Pesos_Facturados  Lead_time_Pedido_teorico  \\\n",
       "0                 313920.0                      15.0   \n",
       "1                  51765.0                       1.0   \n",
       "2                 210480.0                       1.0   \n",
       "3                 102181.0                       1.0   \n",
       "4                 230000.0                       1.0   \n",
       "\n",
       "   Lead_time_pedido_real_max  \n",
       "0                        1.0  \n",
       "1                        0.0  \n",
       "2                        0.0  \n",
       "3                        0.0  \n",
       "4                        1.0  "
      ]
     },
     "execution_count": 10,
     "metadata": {},
     "output_type": "execute_result"
    }
   ],
   "source": [
    "query_pedido = \"SELECT TOP 1000000 Id_Producto, Id_Vendedor, Id_Bodega, Fecha_Entrega_Planeada, Pedido_Descuento_Pesos, Pedido_Cantidad_Pendiente, conteo_linea_pedido, Linea_Completa, Linea_Perfecta, Pedido_Cantidad_Facturada, Pedido_Pesos_Facturados, Lead_time_Pedido_teorico, Lead_time_pedido_real_max FROM dbo.T_Fact_pedido\"\n",
    "df_pedido = pd.read_sql(query_pedido, cnxn)\n",
    "\n",
    "df_pedido['Fecha_Entrega_Planeada'] = df_pedido['Fecha_Entrega_Planeada'].str.replace(r'-', '')\n",
    "df_pedido['Fecha_Entrega_Planeada'] = df_pedido['Fecha_Entrega_Planeada'].astype('int64')\n",
    "\n",
    "df_pedido.head()"
   ]
  },
  {
   "cell_type": "markdown",
   "metadata": {},
   "source": [
    "#### Separación de los datos"
   ]
  },
  {
   "cell_type": "markdown",
   "metadata": {},
   "source": [
    "se divide el dataframe en un set para entrenamiento y uno de pruebas"
   ]
  },
  {
   "cell_type": "code",
   "execution_count": 11,
   "metadata": {},
   "outputs": [
    {
     "name": "stdout",
     "output_type": "stream",
     "text": [
      "# of rows in training set =  10400000\n",
      "# of rows in test set =  2600000\n"
     ]
    }
   ],
   "source": [
    "from sklearn.model_selection import train_test_split\n",
    "bc_train_pedido, bc_test_pedido = train_test_split(df_pedido, test_size=0.2)\n",
    "print(\"# of rows in training set = \",bc_train_pedido.size)\n",
    "print(\"# of rows in test set = \",bc_test_pedido.size)"
   ]
  },
  {
   "cell_type": "markdown",
   "metadata": {},
   "source": [
    "### Entrenamiento de modelo"
   ]
  },
  {
   "cell_type": "markdown",
   "metadata": {},
   "source": [
    "Se entrena el modelo usando el paquete Microsoft for ML"
   ]
  },
  {
   "cell_type": "code",
   "execution_count": 12,
   "metadata": {
    "scrolled": false
   },
   "outputs": [
    {
     "name": "stdout",
     "output_type": "stream",
     "text": [
      "Beginning processing data.\n",
      "Rows Read: 800000, Read Time: 0, Transform Time: 0\n",
      "Beginning processing data.\n",
      "Automatically adding a MinMax normalization transform, use 'norm=Warn' or 'norm=No' to turn this behavior off.\n",
      "Beginning processing data.\n",
      "Rows Read: 800000, Read Time: 0, Transform Time: 0\n",
      "Beginning processing data.\n",
      "Using: AVX Math\n",
      "\n",
      "***** Net definition *****\n",
      "  input Data [12];\n",
      "  hidden H [100] sigmoid { // Depth 1\n",
      "    from Data all;\n",
      "  }\n",
      "  output Result [1] sigmoid { // Depth 0\n",
      "    from H all;\n",
      "  }\n",
      "***** End net definition *****\n",
      "Input count: 12\n",
      "Output count: 1\n",
      "Output Function: Sigmoid\n",
      "Loss Function: LogLoss\n",
      "PreTrainer: NoPreTrainer\n",
      "___________________________________________________________________\n",
      "Starting training...\n",
      "Learning rate: 0.001000\n",
      "Momentum: 0.000000\n",
      "InitWtsDiameter: 0.100000\n",
      "___________________________________________________________________\n",
      "Initializing 1 Hidden Layers, 1401 Weights...\n",
      "Beginning processing data.\n",
      "Rows Read: 800000, Read Time: 0, Transform Time: 0\n",
      "Beginning processing data.\n",
      "Estimated Pre-training MeanError = 0.643693\n",
      "Iter:1/100, MeanErr=0.465018(-27.76%), 725.27M WeightUpdates/sec\n",
      "Iter:2/100, MeanErr=0.438025(-5.80%), 587.12M WeightUpdates/sec\n",
      "Iter:3/100, MeanErr=0.437408(-0.14%), 614.90M WeightUpdates/sec\n",
      "Iter:4/100, MeanErr=0.436935(-0.11%), 611.12M WeightUpdates/sec\n",
      "Iter:5/100, MeanErr=0.436354(-0.13%), 672.59M WeightUpdates/sec\n",
      "Iter:6/100, MeanErr=0.435787(-0.13%), 700.61M WeightUpdates/sec\n",
      "Iter:7/100, MeanErr=0.435127(-0.15%), 668.00M WeightUpdates/sec\n",
      "Iter:8/100, MeanErr=0.434420(-0.16%), 657.99M WeightUpdates/sec\n",
      "Iter:9/100, MeanErr=0.433507(-0.21%), 687.59M WeightUpdates/sec\n",
      "Iter:10/100, MeanErr=0.432468(-0.24%), 692.98M WeightUpdates/sec\n",
      "Iter:11/100, MeanErr=0.431375(-0.25%), 706.74M WeightUpdates/sec\n",
      "Iter:12/100, MeanErr=0.429879(-0.35%), 713.35M WeightUpdates/sec\n",
      "Iter:13/100, MeanErr=0.428320(-0.36%), 702.50M WeightUpdates/sec\n",
      "Iter:14/100, MeanErr=0.426432(-0.44%), 704.36M WeightUpdates/sec\n",
      "Iter:15/100, MeanErr=0.424276(-0.51%), 711.98M WeightUpdates/sec\n",
      "Iter:16/100, MeanErr=0.421829(-0.58%), 703.40M WeightUpdates/sec\n",
      "Iter:17/100, MeanErr=0.418949(-0.68%), 683.45M WeightUpdates/sec\n",
      "Iter:18/100, MeanErr=0.415823(-0.75%), 714.92M WeightUpdates/sec\n",
      "Iter:19/100, MeanErr=0.412285(-0.85%), 675.19M WeightUpdates/sec\n",
      "Iter:20/100, MeanErr=0.408201(-0.99%), 694.08M WeightUpdates/sec\n",
      "Iter:21/100, MeanErr=0.403864(-1.06%), 713.66M WeightUpdates/sec\n",
      "Iter:22/100, MeanErr=0.398877(-1.23%), 654.77M WeightUpdates/sec\n",
      "Iter:23/100, MeanErr=0.393990(-1.23%), 540.69M WeightUpdates/sec\n",
      "Iter:24/100, MeanErr=0.388483(-1.40%), 552.65M WeightUpdates/sec\n",
      "Iter:25/100, MeanErr=0.382866(-1.45%), 471.44M WeightUpdates/sec\n",
      "Iter:26/100, MeanErr=0.377087(-1.51%), 493.40M WeightUpdates/sec\n",
      "Iter:27/100, MeanErr=0.371082(-1.59%), 577.81M WeightUpdates/sec\n",
      "Iter:28/100, MeanErr=0.365154(-1.60%), 593.79M WeightUpdates/sec\n",
      "Iter:29/100, MeanErr=0.359249(-1.62%), 528.93M WeightUpdates/sec\n",
      "Iter:30/100, MeanErr=0.353432(-1.62%), 541.89M WeightUpdates/sec\n",
      "Iter:31/100, MeanErr=0.347616(-1.65%), 602.72M WeightUpdates/sec\n",
      "Iter:32/100, MeanErr=0.341899(-1.64%), 644.20M WeightUpdates/sec\n",
      "Iter:33/100, MeanErr=0.336424(-1.60%), 654.14M WeightUpdates/sec\n",
      "Iter:34/100, MeanErr=0.330986(-1.62%), 672.09M WeightUpdates/sec\n",
      "Iter:35/100, MeanErr=0.325441(-1.68%), 658.68M WeightUpdates/sec\n",
      "Iter:36/100, MeanErr=0.320074(-1.65%), 663.63M WeightUpdates/sec\n",
      "Iter:37/100, MeanErr=0.315230(-1.51%), 683.32M WeightUpdates/sec\n",
      "Iter:38/100, MeanErr=0.310200(-1.60%), 668.34M WeightUpdates/sec\n",
      "Iter:39/100, MeanErr=0.305174(-1.62%), 637.48M WeightUpdates/sec\n",
      "Iter:40/100, MeanErr=0.300298(-1.60%), 552.70M WeightUpdates/sec\n",
      "Iter:41/100, MeanErr=0.295608(-1.56%), 539.04M WeightUpdates/sec\n",
      "Iter:42/100, MeanErr=0.290955(-1.57%), 612.74M WeightUpdates/sec\n",
      "Iter:43/100, MeanErr=0.286525(-1.52%), 640.83M WeightUpdates/sec\n",
      "Iter:44/100, MeanErr=0.282193(-1.51%), 654.86M WeightUpdates/sec\n",
      "Iter:45/100, MeanErr=0.277806(-1.55%), 621.67M WeightUpdates/sec\n",
      "Iter:46/100, MeanErr=0.273451(-1.57%), 699.63M WeightUpdates/sec\n",
      "Iter:47/100, MeanErr=0.269254(-1.53%), 654.24M WeightUpdates/sec\n",
      "Iter:48/100, MeanErr=0.265336(-1.46%), 683.98M WeightUpdates/sec\n",
      "Iter:49/100, MeanErr=0.261111(-1.59%), 706.47M WeightUpdates/sec\n",
      "Iter:50/100, MeanErr=0.257401(-1.42%), 705.98M WeightUpdates/sec\n",
      "Iter:51/100, MeanErr=0.253644(-1.46%), 712.43M WeightUpdates/sec\n",
      "Iter:52/100, MeanErr=0.249747(-1.54%), 708.06M WeightUpdates/sec\n",
      "Iter:53/100, MeanErr=0.246153(-1.44%), 706.16M WeightUpdates/sec\n",
      "Iter:54/100, MeanErr=0.242715(-1.40%), 712.98M WeightUpdates/sec\n",
      "Iter:55/100, MeanErr=0.239030(-1.52%), 710.41M WeightUpdates/sec\n",
      "Iter:56/100, MeanErr=0.235585(-1.44%), 668.44M WeightUpdates/sec\n",
      "Iter:57/100, MeanErr=0.232255(-1.41%), 700.99M WeightUpdates/sec\n",
      "Iter:58/100, MeanErr=0.228962(-1.42%), 679.60M WeightUpdates/sec\n",
      "Iter:59/100, MeanErr=0.225778(-1.39%), 660.00M WeightUpdates/sec\n",
      "Iter:60/100, MeanErr=0.222735(-1.35%), 612.11M WeightUpdates/sec\n",
      "Iter:61/100, MeanErr=0.219691(-1.37%), 513.06M WeightUpdates/sec\n",
      "Iter:62/100, MeanErr=0.216797(-1.32%), 507.53M WeightUpdates/sec\n",
      "Iter:63/100, MeanErr=0.213729(-1.42%), 492.57M WeightUpdates/sec\n",
      "Iter:64/100, MeanErr=0.211146(-1.21%), 515.80M WeightUpdates/sec\n",
      "Iter:65/100, MeanErr=0.208162(-1.41%), 564.82M WeightUpdates/sec\n",
      "Iter:66/100, MeanErr=0.205404(-1.33%), 508.23M WeightUpdates/sec\n",
      "Iter:67/100, MeanErr=0.202804(-1.27%), 498.07M WeightUpdates/sec\n",
      "Iter:68/100, MeanErr=0.200302(-1.23%), 505.30M WeightUpdates/sec\n",
      "Iter:69/100, MeanErr=0.197724(-1.29%), 628.68M WeightUpdates/sec\n",
      "Iter:70/100, MeanErr=0.195285(-1.23%), 677.15M WeightUpdates/sec\n",
      "Iter:71/100, MeanErr=0.192836(-1.25%), 679.69M WeightUpdates/sec\n",
      "Iter:72/100, MeanErr=0.190704(-1.11%), 610.57M WeightUpdates/sec\n",
      "Iter:73/100, MeanErr=0.188313(-1.25%), 668.83M WeightUpdates/sec\n",
      "Iter:74/100, MeanErr=0.186211(-1.12%), 701.03M WeightUpdates/sec\n",
      "Iter:75/100, MeanErr=0.183945(-1.22%), 706.09M WeightUpdates/sec\n",
      "Iter:76/100, MeanErr=0.181667(-1.24%), 600.29M WeightUpdates/sec\n",
      "Iter:77/100, MeanErr=0.179541(-1.17%), 577.68M WeightUpdates/sec\n",
      "Iter:78/100, MeanErr=0.177611(-1.08%), 568.14M WeightUpdates/sec\n",
      "Iter:79/100, MeanErr=0.175708(-1.07%), 602.16M WeightUpdates/sec\n",
      "Iter:80/100, MeanErr=0.173737(-1.12%), 660.77M WeightUpdates/sec\n",
      "Iter:81/100, MeanErr=0.171659(-1.20%), 680.86M WeightUpdates/sec\n",
      "Iter:82/100, MeanErr=0.169960(-0.99%), 679.82M WeightUpdates/sec\n",
      "Iter:83/100, MeanErr=0.168024(-1.14%), 708.46M WeightUpdates/sec\n",
      "Iter:84/100, MeanErr=0.166210(-1.08%), 681.77M WeightUpdates/sec\n",
      "Iter:85/100, MeanErr=0.164470(-1.05%), 698.50M WeightUpdates/sec\n",
      "Iter:86/100, MeanErr=0.162857(-0.98%), 633.21M WeightUpdates/sec\n",
      "Iter:87/100, MeanErr=0.161137(-1.06%), 683.27M WeightUpdates/sec\n",
      "Iter:88/100, MeanErr=0.159681(-0.90%), 668.22M WeightUpdates/sec\n",
      "Iter:89/100, MeanErr=0.158085(-1.00%), 663.09M WeightUpdates/sec\n",
      "Iter:90/100, MeanErr=0.156471(-1.02%), 673.59M WeightUpdates/sec\n",
      "Iter:91/100, MeanErr=0.155092(-0.88%), 692.14M WeightUpdates/sec\n",
      "Iter:92/100, MeanErr=0.153627(-0.94%), 689.28M WeightUpdates/sec\n",
      "Iter:93/100, MeanErr=0.151899(-1.13%), 701.87M WeightUpdates/sec\n",
      "Iter:94/100, MeanErr=0.150293(-1.06%), 580.10M WeightUpdates/sec\n",
      "Iter:95/100, MeanErr=0.148952(-0.89%), 710.12M WeightUpdates/sec\n",
      "Iter:96/100, MeanErr=0.147794(-0.78%), 693.64M WeightUpdates/sec\n",
      "Iter:97/100, MeanErr=0.146434(-0.92%), 686.24M WeightUpdates/sec\n",
      "Iter:98/100, MeanErr=0.145082(-0.92%), 702.66M WeightUpdates/sec\n",
      "Iter:99/100, MeanErr=0.143948(-0.78%), 685.83M WeightUpdates/sec\n",
      "Iter:100/100, MeanErr=0.142555(-0.97%), 676.67M WeightUpdates/sec\n",
      "Done!\n",
      "Estimated Post-training MeanError = 0.131834\n",
      "___________________________________________________________________\n",
      "Not training a calibrator because it is not needed.\n",
      "Elapsed time: 00:02:56.8390679\n",
      "Elapsed time: 00:00:00.0235954\n"
     ]
    }
   ],
   "source": [
    "from microsoftml import rx_neural_network\n",
    "\n",
    "features_pedido = df_pedido.columns.drop([\"Linea_Perfecta\"])\n",
    "model_pedido = rx_neural_network(\"Linea_Perfecta ~ \" + \"+\".join(features_pedido), data=bc_train_pedido)"
   ]
  },
  {
   "cell_type": "markdown",
   "metadata": {},
   "source": [
    "### Predecir"
   ]
  },
  {
   "cell_type": "markdown",
   "metadata": {},
   "source": [
    "se predice el modelo y se imprimen las probabilidades encontradas en la regresión implementada (no binaria)"
   ]
  },
  {
   "cell_type": "code",
   "execution_count": 13,
   "metadata": {
    "scrolled": false
   },
   "outputs": [
    {
     "name": "stdout",
     "output_type": "stream",
     "text": [
      "Beginning processing data.\n",
      "Rows Read: 200000, Read Time: 0.001, Transform Time: 0\n",
      "Beginning processing data.\n",
      "Elapsed time: 00:00:00.3565393\n",
      "Finished writing 200000 rows.\n",
      "Writing completed.\n"
     ]
    },
    {
     "data": {
      "text/html": [
       "<div>\n",
       "<table border=\"1\" class=\"dataframe\">\n",
       "  <thead>\n",
       "    <tr style=\"text-align: right;\">\n",
       "      <th></th>\n",
       "      <th>PredictedLabel</th>\n",
       "      <th>Score.1</th>\n",
       "      <th>Probability.1</th>\n",
       "    </tr>\n",
       "  </thead>\n",
       "  <tbody>\n",
       "    <tr>\n",
       "      <th>0</th>\n",
       "      <td>1</td>\n",
       "      <td>1.499730</td>\n",
       "      <td>0.817534</td>\n",
       "    </tr>\n",
       "    <tr>\n",
       "      <th>1</th>\n",
       "      <td>1</td>\n",
       "      <td>4.038845</td>\n",
       "      <td>0.982687</td>\n",
       "    </tr>\n",
       "    <tr>\n",
       "      <th>2</th>\n",
       "      <td>1</td>\n",
       "      <td>4.038188</td>\n",
       "      <td>0.982676</td>\n",
       "    </tr>\n",
       "    <tr>\n",
       "      <th>3</th>\n",
       "      <td>1</td>\n",
       "      <td>4.970834</td>\n",
       "      <td>0.993110</td>\n",
       "    </tr>\n",
       "    <tr>\n",
       "      <th>4</th>\n",
       "      <td>1</td>\n",
       "      <td>0.248729</td>\n",
       "      <td>0.561864</td>\n",
       "    </tr>\n",
       "  </tbody>\n",
       "</table>\n",
       "</div>"
      ],
      "text/plain": [
       "  PredictedLabel   Score.1  Probability.1\n",
       "0              1  1.499730       0.817534\n",
       "1              1  4.038845       0.982687\n",
       "2              1  4.038188       0.982676\n",
       "3              1  4.970834       0.993110\n",
       "4              1  0.248729       0.561864"
      ]
     },
     "execution_count": 13,
     "metadata": {},
     "output_type": "execute_result"
    }
   ],
   "source": [
    "from microsoftml import rx_predict\n",
    "\n",
    "prediction_pedido = rx_predict(model_pedido, data=bc_test_pedido)\n",
    "\n",
    "prediction_pedido.head()"
   ]
  },
  {
   "cell_type": "markdown",
   "metadata": {},
   "source": [
    "### dbo.Fact_Inventario"
   ]
  },
  {
   "cell_type": "code",
   "execution_count": 18,
   "metadata": {},
   "outputs": [
    {
     "data": {
      "text/html": [
       "<div>\n",
       "<table border=\"1\" class=\"dataframe\">\n",
       "  <thead>\n",
       "    <tr style=\"text-align: right;\">\n",
       "      <th></th>\n",
       "      <th>Fecha_Inventario</th>\n",
       "      <th>Id_Bodega</th>\n",
       "      <th>Id_Producto</th>\n",
       "      <th>Inventario_Cantidad</th>\n",
       "    </tr>\n",
       "  </thead>\n",
       "  <tbody>\n",
       "    <tr>\n",
       "      <th>0</th>\n",
       "      <td>20170131</td>\n",
       "      <td>1</td>\n",
       "      <td>4621</td>\n",
       "      <td>-8.0</td>\n",
       "    </tr>\n",
       "    <tr>\n",
       "      <th>1</th>\n",
       "      <td>20170131</td>\n",
       "      <td>1</td>\n",
       "      <td>3297</td>\n",
       "      <td>-1.0</td>\n",
       "    </tr>\n",
       "    <tr>\n",
       "      <th>2</th>\n",
       "      <td>20170131</td>\n",
       "      <td>1</td>\n",
       "      <td>3544</td>\n",
       "      <td>9.0</td>\n",
       "    </tr>\n",
       "    <tr>\n",
       "      <th>3</th>\n",
       "      <td>20170131</td>\n",
       "      <td>5</td>\n",
       "      <td>2931</td>\n",
       "      <td>-13.0</td>\n",
       "    </tr>\n",
       "    <tr>\n",
       "      <th>4</th>\n",
       "      <td>20170131</td>\n",
       "      <td>3</td>\n",
       "      <td>4810</td>\n",
       "      <td>-24.0</td>\n",
       "    </tr>\n",
       "  </tbody>\n",
       "</table>\n",
       "</div>"
      ],
      "text/plain": [
       "   Fecha_Inventario  Id_Bodega  Id_Producto  Inventario_Cantidad\n",
       "0          20170131          1         4621                 -8.0\n",
       "1          20170131          1         3297                 -1.0\n",
       "2          20170131          1         3544                  9.0\n",
       "3          20170131          5         2931                -13.0\n",
       "4          20170131          3         4810                -24.0"
      ]
     },
     "execution_count": 18,
     "metadata": {},
     "output_type": "execute_result"
    }
   ],
   "source": [
    "query_inventario = \"SELECT TOP 1000000 Fecha_Inventario, Id_Bodega, Id_Producto, Inventario_Cantidad FROM dbo.T_Fact_Inventario\"\n",
    "df_inventario = pd.read_sql(query_inventario, cnxn)\n",
    "\n",
    "df_inventario['Fecha_Inventario'] = df_inventario['Fecha_Inventario'].str.replace(r'-', '')\n",
    "df_inventario['Fecha_Inventario'] = df_inventario['Fecha_Inventario'].astype('int64')\n",
    "\n",
    "df_inventario.head()"
   ]
  },
  {
   "cell_type": "markdown",
   "metadata": {},
   "source": [
    "#### Separación de los datos"
   ]
  },
  {
   "cell_type": "markdown",
   "metadata": {},
   "source": [
    "se divide el dataframe en un set para entrenamiento y uno de pruebas"
   ]
  },
  {
   "cell_type": "code",
   "execution_count": 19,
   "metadata": {},
   "outputs": [
    {
     "name": "stdout",
     "output_type": "stream",
     "text": [
      "# of rows in training set =  3200000\n",
      "# of rows in test set =  800000\n"
     ]
    }
   ],
   "source": [
    "from sklearn.model_selection import train_test_split\n",
    "bc_train_inventario, bc_test_inventario = train_test_split(df_inventario, test_size=0.2)\n",
    "print(\"# of rows in training set = \",bc_train_inventario.size)\n",
    "print(\"# of rows in test set = \",bc_test_inventario.size)"
   ]
  },
  {
   "cell_type": "markdown",
   "metadata": {},
   "source": [
    "### Entrenamiento de modelo"
   ]
  },
  {
   "cell_type": "markdown",
   "metadata": {},
   "source": [
    "Se entrena el modelo usando el paquete Microsoft for ML"
   ]
  },
  {
   "cell_type": "code",
   "execution_count": 22,
   "metadata": {
    "scrolled": false
   },
   "outputs": [
    {
     "name": "stdout",
     "output_type": "stream",
     "text": [
      "Automatically adding a MinMax normalization transform, use 'norm=Warn' or 'norm=No' to turn this behavior off.\n",
      "Beginning processing data.\n",
      "Rows Read: 800000, Read Time: 0, Transform Time: 0\n",
      "Beginning processing data.\n",
      "Using: AVX Math\n",
      "\n",
      "***** Net definition *****\n",
      "  input Data [3];\n",
      "  hidden H [100] sigmoid { // Depth 1\n",
      "    from Data all;\n",
      "  }\n",
      "  output Result [1] linear { // Depth 0\n",
      "    from H all;\n",
      "  }\n",
      "***** End net definition *****\n",
      "Input count: 3\n",
      "Output count: 1\n",
      "Output Function: Linear\n",
      "Loss Function: SquaredLoss\n",
      "PreTrainer: NoPreTrainer\n",
      "___________________________________________________________________\n",
      "Starting training...\n",
      "Learning rate: 0.001000\n",
      "Momentum: 0.000000\n",
      "InitWtsDiameter: 0.100000\n",
      "___________________________________________________________________\n",
      "Initializing 1 Hidden Layers, 501 Weights...\n",
      "Beginning processing data.\n",
      "Rows Read: 800000, Read Time: 0, Transform Time: 0\n",
      "Beginning processing data.\n",
      "Estimated Pre-training MeanError = 17157982.531915\n",
      "Iter:1/100, MeanErr=2712277.588305(-84.19%), 292.70M WeightUpdates/sec\n",
      "Iter:2/100, MeanErr=2715134.001387(0.11%), 274.21M WeightUpdates/sec\n",
      "Iter:3/100, MeanErr=2715290.883312(0.01%), 272.15M WeightUpdates/sec\n",
      "Iter:4/100, MeanErr=2714153.156880(-0.04%), 281.57M WeightUpdates/sec\n",
      "Iter:5/100, MeanErr=2711875.910634(-0.08%), 273.36M WeightUpdates/sec\n",
      "Iter:6/100, MeanErr=2714046.581224(0.08%), 262.35M WeightUpdates/sec\n",
      "Iter:7/100, MeanErr=2712577.316390(-0.05%), 217.67M WeightUpdates/sec\n",
      "Iter:8/100, MeanErr=2713313.186354(0.03%), 248.52M WeightUpdates/sec\n",
      "Iter:9/100, MeanErr=2713052.200175(-0.01%), 224.39M WeightUpdates/sec\n",
      "Iter:10/100, MeanErr=2712909.524891(-0.01%), 276.04M WeightUpdates/sec\n",
      "Iter:11/100, MeanErr=2713869.097317(0.04%), 276.72M WeightUpdates/sec\n",
      "Iter:12/100, MeanErr=2712449.187653(-0.05%), 243.81M WeightUpdates/sec\n",
      "Iter:13/100, MeanErr=2712744.829419(0.01%), 259.63M WeightUpdates/sec\n",
      "Iter:14/100, MeanErr=2714408.290045(0.06%), 237.29M WeightUpdates/sec\n",
      "Iter:15/100, MeanErr=2712455.092225(-0.07%), 270.64M WeightUpdates/sec\n",
      "Iter:16/100, MeanErr=2711709.462524(-0.03%), 276.79M WeightUpdates/sec\n",
      "Iter:17/100, MeanErr=2713626.515523(0.07%), 280.41M WeightUpdates/sec\n",
      "Iter:18/100, MeanErr=2712660.721878(-0.04%), 254.86M WeightUpdates/sec\n",
      "Iter:19/100, MeanErr=2712842.328044(0.01%), 276.48M WeightUpdates/sec\n",
      "Iter:20/100, MeanErr=2712791.823998(0.00%), 285.27M WeightUpdates/sec\n",
      "Iter:21/100, MeanErr=2714897.166278(0.08%), 281.22M WeightUpdates/sec\n",
      "Iter:22/100, MeanErr=2714873.394491(0.00%), 274.57M WeightUpdates/sec\n",
      "Iter:23/100, MeanErr=2713742.843295(-0.04%), 278.20M WeightUpdates/sec\n",
      "Iter:24/100, MeanErr=2712362.650138(-0.05%), 292.48M WeightUpdates/sec\n",
      "Iter:25/100, MeanErr=2713108.525992(0.03%), 258.21M WeightUpdates/sec\n",
      "Iter:26/100, MeanErr=2712978.847204(0.00%), 284.92M WeightUpdates/sec\n",
      "Iter:27/100, MeanErr=2710828.510580(-0.08%), 271.45M WeightUpdates/sec\n",
      "Iter:28/100, MeanErr=2713432.477938(0.10%), 264.70M WeightUpdates/sec\n",
      "Iter:29/100, MeanErr=2710609.455701(-0.10%), 288.26M WeightUpdates/sec\n",
      "Iter:30/100, MeanErr=2711952.506488(0.05%), 264.45M WeightUpdates/sec\n",
      "Iter:31/100, MeanErr=2712490.894320(0.02%), 232.90M WeightUpdates/sec\n",
      "Iter:32/100, MeanErr=2712505.525150(0.00%), 230.49M WeightUpdates/sec\n",
      "Iter:33/100, MeanErr=2712977.801085(0.02%), 263.71M WeightUpdates/sec\n",
      "Iter:34/100, MeanErr=2713136.114559(0.01%), 273.49M WeightUpdates/sec\n",
      "Iter:35/100, MeanErr=2713187.656055(0.00%), 277.21M WeightUpdates/sec\n",
      "Iter:36/100, MeanErr=2713117.644001(0.00%), 256.81M WeightUpdates/sec\n",
      "Iter:37/100, MeanErr=2712688.779453(-0.02%), 248.40M WeightUpdates/sec\n",
      "Iter:38/100, MeanErr=2712468.546310(-0.01%), 269.70M WeightUpdates/sec\n",
      "Iter:39/100, MeanErr=2711683.842186(-0.03%), 274.66M WeightUpdates/sec\n",
      "Iter:40/100, MeanErr=2712847.075716(0.04%), 285.91M WeightUpdates/sec\n",
      "Iter:41/100, MeanErr=2711623.090007(-0.05%), 292.01M WeightUpdates/sec\n",
      "Iter:42/100, MeanErr=2713915.667625(0.08%), 294.80M WeightUpdates/sec\n",
      "Iter:43/100, MeanErr=2713624.677972(-0.01%), 298.25M WeightUpdates/sec\n",
      "Iter:44/100, MeanErr=2713740.880540(0.00%), 289.50M WeightUpdates/sec\n",
      "Iter:45/100, MeanErr=2715461.242598(0.06%), 294.26M WeightUpdates/sec\n",
      "Iter:46/100, MeanErr=2711006.489244(-0.16%), 297.49M WeightUpdates/sec\n",
      "Iter:47/100, MeanErr=2713623.854638(0.10%), 298.22M WeightUpdates/sec\n",
      "Iter:48/100, MeanErr=2712361.666264(-0.05%), 293.63M WeightUpdates/sec\n",
      "Iter:49/100, MeanErr=2712450.409493(0.00%), 271.57M WeightUpdates/sec\n",
      "Iter:50/100, MeanErr=2713413.788086(0.04%), 286.07M WeightUpdates/sec\n",
      "Iter:51/100, MeanErr=2714737.566660(0.05%), 225.00M WeightUpdates/sec\n",
      "Iter:52/100, MeanErr=2712691.669484(-0.08%), 238.87M WeightUpdates/sec\n",
      "Iter:53/100, MeanErr=2712733.187536(0.00%), 238.87M WeightUpdates/sec\n",
      "Iter:54/100, MeanErr=2713209.052933(0.02%), 274.86M WeightUpdates/sec\n",
      "Iter:55/100, MeanErr=2714066.714723(0.03%), 270.57M WeightUpdates/sec\n",
      "Iter:56/100, MeanErr=2715070.907844(0.04%), 285.97M WeightUpdates/sec\n",
      "Iter:57/100, MeanErr=2712987.267406(-0.08%), 279.29M WeightUpdates/sec\n",
      "Iter:58/100, MeanErr=2712887.134133(0.00%), 278.93M WeightUpdates/sec\n",
      "Iter:59/100, MeanErr=2713704.900617(0.03%), 303.09M WeightUpdates/sec\n",
      "Iter:60/100, MeanErr=2712794.064863(-0.03%), 289.56M WeightUpdates/sec\n",
      "Iter:61/100, MeanErr=2712575.614892(-0.01%), 298.14M WeightUpdates/sec\n",
      "Iter:62/100, MeanErr=2711558.734009(-0.04%), 299.54M WeightUpdates/sec\n",
      "Iter:63/100, MeanErr=2713052.367036(0.06%), 298.01M WeightUpdates/sec\n",
      "Iter:64/100, MeanErr=2712642.760989(-0.02%), 289.93M WeightUpdates/sec\n",
      "Iter:65/100, MeanErr=2711645.519301(-0.04%), 262.42M WeightUpdates/sec\n",
      "Iter:66/100, MeanErr=2714061.273313(0.09%), 250.17M WeightUpdates/sec\n",
      "Iter:67/100, MeanErr=2714039.402032(0.00%), 258.08M WeightUpdates/sec\n",
      "Iter:68/100, MeanErr=2712504.886799(-0.06%), 293.29M WeightUpdates/sec\n",
      "Iter:69/100, MeanErr=2711344.103442(-0.04%), 281.49M WeightUpdates/sec\n",
      "Iter:70/100, MeanErr=2713075.849056(0.06%), 287.10M WeightUpdates/sec\n",
      "Iter:71/100, MeanErr=2714192.934672(0.04%), 282.06M WeightUpdates/sec\n",
      "Iter:72/100, MeanErr=2710806.482296(-0.12%), 238.45M WeightUpdates/sec\n",
      "Iter:73/100, MeanErr=2711653.281082(0.03%), 217.22M WeightUpdates/sec\n",
      "Iter:74/100, MeanErr=2712046.978093(0.01%), 235.08M WeightUpdates/sec\n",
      "Iter:75/100, MeanErr=2713527.989174(0.05%), 246.01M WeightUpdates/sec\n",
      "Iter:76/100, MeanErr=2711981.668863(-0.06%), 247.62M WeightUpdates/sec\n",
      "Iter:77/100, MeanErr=2712414.394788(0.02%), 228.66M WeightUpdates/sec\n",
      "Iter:78/100, MeanErr=2713275.062345(0.03%), 251.83M WeightUpdates/sec\n",
      "Iter:79/100, MeanErr=2712833.351957(-0.02%), 284.53M WeightUpdates/sec\n",
      "Iter:80/100, MeanErr=2712256.362908(-0.02%), 285.18M WeightUpdates/sec\n",
      "Iter:81/100, MeanErr=2713505.507707(0.05%), 279.23M WeightUpdates/sec\n",
      "Iter:82/100, MeanErr=2712635.066998(-0.03%), 289.33M WeightUpdates/sec\n",
      "Iter:83/100, MeanErr=2714261.766695(0.06%), 272.10M WeightUpdates/sec\n",
      "Iter:84/100, MeanErr=2712185.199240(-0.08%), 300.06M WeightUpdates/sec\n",
      "Iter:85/100, MeanErr=2711136.582454(-0.04%), 297.88M WeightUpdates/sec\n",
      "Iter:86/100, MeanErr=2712610.341790(0.05%), 291.11M WeightUpdates/sec\n",
      "Iter:87/100, MeanErr=2712829.901391(0.01%), 301.43M WeightUpdates/sec\n",
      "Iter:88/100, MeanErr=2713149.341320(0.01%), 289.37M WeightUpdates/sec\n",
      "Iter:89/100, MeanErr=2714173.508407(0.04%), 299.94M WeightUpdates/sec\n",
      "Iter:90/100, MeanErr=2712169.321015(-0.07%), 297.00M WeightUpdates/sec\n",
      "Iter:91/100, MeanErr=2713319.834401(0.04%), 287.77M WeightUpdates/sec\n",
      "Iter:92/100, MeanErr=2712117.165540(-0.04%), 298.47M WeightUpdates/sec\n",
      "Iter:93/100, MeanErr=2711619.258100(-0.02%), 270.71M WeightUpdates/sec\n",
      "Iter:94/100, MeanErr=2712581.953366(0.04%), 254.73M WeightUpdates/sec\n",
      "Iter:95/100, MeanErr=2713448.014544(0.03%), 277.29M WeightUpdates/sec\n",
      "Iter:96/100, MeanErr=2713110.117930(-0.01%), 191.03M WeightUpdates/sec\n",
      "Iter:97/100, MeanErr=2713560.402969(0.02%), 234.68M WeightUpdates/sec\n",
      "Iter:98/100, MeanErr=2712720.564238(-0.03%), 222.81M WeightUpdates/sec\n",
      "Iter:99/100, MeanErr=2713440.756379(0.03%), 263.54M WeightUpdates/sec\n",
      "Iter:100/100, MeanErr=2713170.832424(-0.01%), 267.26M WeightUpdates/sec\n",
      "Done!\n",
      "Estimated Post-training MeanError = 2433651.954397\n",
      "___________________________________________________________________\n",
      "Not training a calibrator because it is not needed.\n",
      "Elapsed time: 00:02:30.0393828\n",
      "Elapsed time: 00:00:00.0257341\n"
     ]
    }
   ],
   "source": [
    "from microsoftml import rx_neural_network\n",
    "\n",
    "features_inventario = df_inventario.columns.drop([\"Id_Producto\"])\n",
    "model_inventario = rx_neural_network(\"Id_Producto ~ \" + \"+\".join(features_inventario), data=bc_train_inventario, method=\"regression\")"
   ]
  },
  {
   "cell_type": "markdown",
   "metadata": {},
   "source": [
    "### Predecir"
   ]
  },
  {
   "cell_type": "markdown",
   "metadata": {},
   "source": [
    "se predice el modelo y se imprimen las probabilidades encontradas en la regresión implementada (no binaria)"
   ]
  },
  {
   "cell_type": "code",
   "execution_count": 23,
   "metadata": {
    "scrolled": false
   },
   "outputs": [
    {
     "name": "stdout",
     "output_type": "stream",
     "text": [
      "Beginning processing data.\n",
      "Rows Read: 29431, Read Time: 0, Transform Time: 0\n",
      "Beginning processing data.\n",
      "Elapsed time: 00:00:00.1994212\n",
      "Finished writing 29431 rows.\n",
      "Writing completed.\n"
     ]
    },
    {
     "data": {
      "text/html": [
       "<div>\n",
       "<table border=\"1\" class=\"dataframe\">\n",
       "  <thead>\n",
       "    <tr style=\"text-align: right;\">\n",
       "      <th></th>\n",
       "      <th>PredictedLabel</th>\n",
       "      <th>Score.1</th>\n",
       "      <th>Probability.1</th>\n",
       "    </tr>\n",
       "  </thead>\n",
       "  <tbody>\n",
       "    <tr>\n",
       "      <th>0</th>\n",
       "      <td>0</td>\n",
       "      <td>-19.791084</td>\n",
       "      <td>2.540053e-09</td>\n",
       "    </tr>\n",
       "    <tr>\n",
       "      <th>1</th>\n",
       "      <td>0</td>\n",
       "      <td>-5.870216</td>\n",
       "      <td>2.814319e-03</td>\n",
       "    </tr>\n",
       "    <tr>\n",
       "      <th>2</th>\n",
       "      <td>0</td>\n",
       "      <td>-2.966239</td>\n",
       "      <td>4.897445e-02</td>\n",
       "    </tr>\n",
       "    <tr>\n",
       "      <th>3</th>\n",
       "      <td>0</td>\n",
       "      <td>-4.695945</td>\n",
       "      <td>9.049599e-03</td>\n",
       "    </tr>\n",
       "    <tr>\n",
       "      <th>4</th>\n",
       "      <td>0</td>\n",
       "      <td>-3.109878</td>\n",
       "      <td>4.270164e-02</td>\n",
       "    </tr>\n",
       "  </tbody>\n",
       "</table>\n",
       "</div>"
      ],
      "text/plain": [
       "  PredictedLabel    Score.1  Probability.1\n",
       "0              0 -19.791084   2.540053e-09\n",
       "1              0  -5.870216   2.814319e-03\n",
       "2              0  -2.966239   4.897445e-02\n",
       "3              0  -4.695945   9.049599e-03\n",
       "4              0  -3.109878   4.270164e-02"
      ]
     },
     "execution_count": 23,
     "metadata": {},
     "output_type": "execute_result"
    }
   ],
   "source": [
    "from microsoftml import rx_predict\n",
    "\n",
    "prediction_compras = rx_predict(model_compras, data=bc_test_compras)\n",
    "\n",
    "prediction_compras.head()"
   ]
  },
  {
   "cell_type": "code",
   "execution_count": null,
   "metadata": {},
   "outputs": [],
   "source": []
  }
 ],
 "metadata": {
  "kernelspec": {
   "display_name": "Python 3",
   "language": "python",
   "name": "python3"
  },
  "language_info": {
   "codemirror_mode": {
    "name": "ipython",
    "version": 3
   },
   "file_extension": ".py",
   "mimetype": "text/x-python",
   "name": "python",
   "nbconvert_exporter": "python",
   "pygments_lexer": "ipython3",
   "version": "3.5.2"
  }
 },
 "nbformat": 4,
 "nbformat_minor": 2
}
