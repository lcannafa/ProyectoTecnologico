{
 "cells": [
  {
   "cell_type": "markdown",
   "metadata": {},
   "source": [
    "# Limpieza y Correlación de datos "
   ]
  },
  {
   "cell_type": "markdown",
   "metadata": {},
   "source": [
    "En este cuaderno se documentará el proceso de limpieza de datos y análisis de relación de los mismos para determinar los parámetros a utilizar dentro del proyecto Betty"
   ]
  },
  {
   "cell_type": "markdown",
   "metadata": {},
   "source": [
    "## Datos"
   ]
  },
  {
   "cell_type": "markdown",
   "metadata": {},
   "source": [
    "Se usará el backup de una base de datos en SQL Server que provee **Exek S.A.S.**. El código siguiente representa la conexión a la base de datos"
   ]
  },
  {
   "cell_type": "code",
   "execution_count": 1,
   "metadata": {},
   "outputs": [],
   "source": [
    "import pyodbc\n",
    "import pandas as pd\n",
    "import numpy as np\n",
    "\n",
    "driver = 'SQL Server'\n",
    "server = 'MARCO'\n",
    "db1 = 'AI_Eafit'\n",
    "tcon = 'yes'\n",
    "uname = 'aieafit'\n",
    "pword = 'marANT1502'\n",
    "\n",
    "cnxn = pyodbc.connect(driver='{SQL Server}', host=server, database=db1,\n",
    "                      trusted_connection=tcon, user=uname, password=pword)"
   ]
  },
  {
   "cell_type": "markdown",
   "metadata": {},
   "source": [
    "### Seleccionar y normalizar los datos a Analizar"
   ]
  },
  {
   "cell_type": "markdown",
   "metadata": {},
   "source": [
    "Se trabajará con datos de las tablas *dbo.Fact_Compra*, *dbo.T_Fact_pedido*, *dbo.T_Fact_Inventario*, *dbo.T_Fact_venta*. El proceso de normalización se ejecutará al pasar todos los datos a formato entero o de punto flotante. Para más información revisar documento conjunto a este cuaderno"
   ]
  },
  {
   "cell_type": "markdown",
   "metadata": {},
   "source": [
    "#### Datos dbo.Fact_Compra"
   ]
  },
  {
   "cell_type": "code",
   "execution_count": 80,
   "metadata": {
    "scrolled": true
   },
   "outputs": [
    {
     "data": {
      "text/html": [
       "<div>\n",
       "<table border=\"1\" class=\"dataframe\">\n",
       "  <thead>\n",
       "    <tr style=\"text-align: right;\">\n",
       "      <th></th>\n",
       "      <th>Id_Producto</th>\n",
       "      <th>Id_Bodega</th>\n",
       "      <th>Id_Comprador</th>\n",
       "      <th>Fecha_Orden_Compra</th>\n",
       "      <th>Fecha_Entrega_Planeada</th>\n",
       "      <th>Linea_Orden_Compra</th>\n",
       "      <th>Compra_Cantidad</th>\n",
       "      <th>Compra_Pesos</th>\n",
       "      <th>Precio_Unitario_Moneda</th>\n",
       "      <th>Linea_a_Tiempo</th>\n",
       "      <th>Linea_Completa</th>\n",
       "      <th>Linea_Perfecta</th>\n",
       "      <th>Lead_Time_Teorico_Compra</th>\n",
       "      <th>Lead_Time_Real_Min_Compra</th>\n",
       "      <th>Lead_Time_Real_Max_Compra</th>\n",
       "    </tr>\n",
       "  </thead>\n",
       "  <tbody>\n",
       "    <tr>\n",
       "      <th>0</th>\n",
       "      <td>2353</td>\n",
       "      <td>3</td>\n",
       "      <td>15348</td>\n",
       "      <td>20181106</td>\n",
       "      <td>20181106</td>\n",
       "      <td>116669</td>\n",
       "      <td>120.0</td>\n",
       "      <td>152640.0</td>\n",
       "      <td>1272.0</td>\n",
       "      <td>0.0</td>\n",
       "      <td>0.0</td>\n",
       "      <td>0.0</td>\n",
       "      <td>0.0</td>\n",
       "      <td>0.0</td>\n",
       "      <td>0.0</td>\n",
       "    </tr>\n",
       "    <tr>\n",
       "      <th>1</th>\n",
       "      <td>4769</td>\n",
       "      <td>3</td>\n",
       "      <td>15348</td>\n",
       "      <td>20181106</td>\n",
       "      <td>20181106</td>\n",
       "      <td>116680</td>\n",
       "      <td>6.0</td>\n",
       "      <td>61566.0</td>\n",
       "      <td>10261.0</td>\n",
       "      <td>0.0</td>\n",
       "      <td>0.0</td>\n",
       "      <td>0.0</td>\n",
       "      <td>0.0</td>\n",
       "      <td>0.0</td>\n",
       "      <td>0.0</td>\n",
       "    </tr>\n",
       "    <tr>\n",
       "      <th>2</th>\n",
       "      <td>8561</td>\n",
       "      <td>3</td>\n",
       "      <td>15348</td>\n",
       "      <td>20181106</td>\n",
       "      <td>20181106</td>\n",
       "      <td>116705</td>\n",
       "      <td>24.0</td>\n",
       "      <td>71544.0</td>\n",
       "      <td>2981.0</td>\n",
       "      <td>0.0</td>\n",
       "      <td>0.0</td>\n",
       "      <td>0.0</td>\n",
       "      <td>0.0</td>\n",
       "      <td>0.0</td>\n",
       "      <td>0.0</td>\n",
       "    </tr>\n",
       "    <tr>\n",
       "      <th>3</th>\n",
       "      <td>6145</td>\n",
       "      <td>4</td>\n",
       "      <td>5964</td>\n",
       "      <td>20181109</td>\n",
       "      <td>20181116</td>\n",
       "      <td>117044</td>\n",
       "      <td>12.0</td>\n",
       "      <td>112320.0</td>\n",
       "      <td>9360.0</td>\n",
       "      <td>1.0</td>\n",
       "      <td>1.0</td>\n",
       "      <td>1.0</td>\n",
       "      <td>7.0</td>\n",
       "      <td>7.0</td>\n",
       "      <td>7.0</td>\n",
       "    </tr>\n",
       "    <tr>\n",
       "      <th>4</th>\n",
       "      <td>2353</td>\n",
       "      <td>4</td>\n",
       "      <td>5964</td>\n",
       "      <td>20181109</td>\n",
       "      <td>20181116</td>\n",
       "      <td>117088</td>\n",
       "      <td>216.0</td>\n",
       "      <td>274752.0</td>\n",
       "      <td>1272.0</td>\n",
       "      <td>1.0</td>\n",
       "      <td>1.0</td>\n",
       "      <td>1.0</td>\n",
       "      <td>7.0</td>\n",
       "      <td>7.0</td>\n",
       "      <td>7.0</td>\n",
       "    </tr>\n",
       "  </tbody>\n",
       "</table>\n",
       "</div>"
      ],
      "text/plain": [
       "   Id_Producto  Id_Bodega  Id_Comprador  Fecha_Orden_Compra  \\\n",
       "0         2353          3         15348            20181106   \n",
       "1         4769          3         15348            20181106   \n",
       "2         8561          3         15348            20181106   \n",
       "3         6145          4          5964            20181109   \n",
       "4         2353          4          5964            20181109   \n",
       "\n",
       "   Fecha_Entrega_Planeada  Linea_Orden_Compra  Compra_Cantidad  Compra_Pesos  \\\n",
       "0                20181106              116669            120.0      152640.0   \n",
       "1                20181106              116680              6.0       61566.0   \n",
       "2                20181106              116705             24.0       71544.0   \n",
       "3                20181116              117044             12.0      112320.0   \n",
       "4                20181116              117088            216.0      274752.0   \n",
       "\n",
       "   Precio_Unitario_Moneda  Linea_a_Tiempo  Linea_Completa  Linea_Perfecta  \\\n",
       "0                  1272.0             0.0             0.0             0.0   \n",
       "1                 10261.0             0.0             0.0             0.0   \n",
       "2                  2981.0             0.0             0.0             0.0   \n",
       "3                  9360.0             1.0             1.0             1.0   \n",
       "4                  1272.0             1.0             1.0             1.0   \n",
       "\n",
       "   Lead_Time_Teorico_Compra  Lead_Time_Real_Min_Compra  \\\n",
       "0                       0.0                        0.0   \n",
       "1                       0.0                        0.0   \n",
       "2                       0.0                        0.0   \n",
       "3                       7.0                        7.0   \n",
       "4                       7.0                        7.0   \n",
       "\n",
       "   Lead_Time_Real_Max_Compra  \n",
       "0                        0.0  \n",
       "1                        0.0  \n",
       "2                        0.0  \n",
       "3                        7.0  \n",
       "4                        7.0  "
      ]
     },
     "execution_count": 80,
     "metadata": {},
     "output_type": "execute_result"
    }
   ],
   "source": [
    "query_compras = \"SELECT Id_Producto, Id_Bodega, Id_Comprador, Fecha_Orden_Compra, Fecha_Entrega_Planeada, Linea_Orden_Compra, Compra_Cantidad, Compra_Pesos, Precio_Unitario_Moneda, Linea_a_Tiempo, Linea_Completa, Linea_Perfecta, Lead_Time_Teorico_Compra, Lead_Time_Real_Min_Compra, Lead_Time_Real_Max_Compra FROM dbo.T_Fact_compra\"\n",
    "df_compras = pd.read_sql(query_compras, cnxn)\n",
    "\n",
    "df_compras['Fecha_Orden_Compra'] = df_compras['Fecha_Orden_Compra'].str.replace(r'-', '')\n",
    "df_compras['Fecha_Orden_Compra'] = df_compras['Fecha_Orden_Compra'].astype('int64')\n",
    "df_compras['Fecha_Entrega_Planeada'] = df_compras['Fecha_Entrega_Planeada'].str.replace(r'-', '')\n",
    "df_compras['Fecha_Entrega_Planeada'] = df_compras['Fecha_Entrega_Planeada'].astype('int64')\n",
    "\n",
    "df_compras.head()"
   ]
  },
  {
   "cell_type": "markdown",
   "metadata": {},
   "source": [
    "#### dbo.Fact_pedido"
   ]
  },
  {
   "cell_type": "code",
   "execution_count": 65,
   "metadata": {},
   "outputs": [
    {
     "data": {
      "text/html": [
       "<div>\n",
       "<table border=\"1\" class=\"dataframe\">\n",
       "  <thead>\n",
       "    <tr style=\"text-align: right;\">\n",
       "      <th></th>\n",
       "      <th>Id_Producto</th>\n",
       "      <th>Id_Vendedor</th>\n",
       "      <th>Id_Bodega</th>\n",
       "      <th>Fecha_Pedido</th>\n",
       "      <th>Fecha_Entrega_Planeada</th>\n",
       "      <th>Pedidos_Pesos_bruto</th>\n",
       "      <th>Pedido_Cantidad</th>\n",
       "      <th>Pedido_Descuento_Pesos</th>\n",
       "      <th>Pedido_Cantidad_Pendiente</th>\n",
       "      <th>conteo_linea_pedido</th>\n",
       "      <th>Linea_a_Tiempo</th>\n",
       "      <th>Linea_Completa</th>\n",
       "      <th>Linea_Perfecta</th>\n",
       "      <th>Pedido_Cantidad_Facturada</th>\n",
       "      <th>Pedido_Pesos_Facturados</th>\n",
       "      <th>Lead_time_Pedido_teorico</th>\n",
       "      <th>Lead_time_pedido_real_min</th>\n",
       "      <th>Lead_time_pedido_real_max</th>\n",
       "    </tr>\n",
       "  </thead>\n",
       "  <tbody>\n",
       "    <tr>\n",
       "      <th>0</th>\n",
       "      <td>3108</td>\n",
       "      <td>5958</td>\n",
       "      <td>4</td>\n",
       "      <td>20151106</td>\n",
       "      <td>20151121</td>\n",
       "      <td>313920.0</td>\n",
       "      <td>12.0</td>\n",
       "      <td>0.0</td>\n",
       "      <td>0.0</td>\n",
       "      <td>1.0</td>\n",
       "      <td>1.0</td>\n",
       "      <td>1.0</td>\n",
       "      <td>1.0</td>\n",
       "      <td>12.0</td>\n",
       "      <td>313920.0</td>\n",
       "      <td>15.0</td>\n",
       "      <td>1.0</td>\n",
       "      <td>1.0</td>\n",
       "    </tr>\n",
       "    <tr>\n",
       "      <th>1</th>\n",
       "      <td>2504</td>\n",
       "      <td>5955</td>\n",
       "      <td>3</td>\n",
       "      <td>20151215</td>\n",
       "      <td>20151216</td>\n",
       "      <td>51765.0</td>\n",
       "      <td>1.0</td>\n",
       "      <td>0.0</td>\n",
       "      <td>0.0</td>\n",
       "      <td>1.0</td>\n",
       "      <td>1.0</td>\n",
       "      <td>1.0</td>\n",
       "      <td>1.0</td>\n",
       "      <td>1.0</td>\n",
       "      <td>51765.0</td>\n",
       "      <td>1.0</td>\n",
       "      <td>0.0</td>\n",
       "      <td>0.0</td>\n",
       "    </tr>\n",
       "    <tr>\n",
       "      <th>2</th>\n",
       "      <td>2204</td>\n",
       "      <td>5958</td>\n",
       "      <td>4</td>\n",
       "      <td>20151123</td>\n",
       "      <td>20151124</td>\n",
       "      <td>210480.0</td>\n",
       "      <td>24.0</td>\n",
       "      <td>0.0</td>\n",
       "      <td>0.0</td>\n",
       "      <td>1.0</td>\n",
       "      <td>1.0</td>\n",
       "      <td>1.0</td>\n",
       "      <td>1.0</td>\n",
       "      <td>24.0</td>\n",
       "      <td>210480.0</td>\n",
       "      <td>1.0</td>\n",
       "      <td>0.0</td>\n",
       "      <td>0.0</td>\n",
       "    </tr>\n",
       "    <tr>\n",
       "      <th>3</th>\n",
       "      <td>4983</td>\n",
       "      <td>5958</td>\n",
       "      <td>4</td>\n",
       "      <td>20151125</td>\n",
       "      <td>20151126</td>\n",
       "      <td>102181.0</td>\n",
       "      <td>1.0</td>\n",
       "      <td>0.0</td>\n",
       "      <td>0.0</td>\n",
       "      <td>1.0</td>\n",
       "      <td>1.0</td>\n",
       "      <td>1.0</td>\n",
       "      <td>1.0</td>\n",
       "      <td>1.0</td>\n",
       "      <td>102181.0</td>\n",
       "      <td>1.0</td>\n",
       "      <td>0.0</td>\n",
       "      <td>0.0</td>\n",
       "    </tr>\n",
       "    <tr>\n",
       "      <th>4</th>\n",
       "      <td>2997</td>\n",
       "      <td>5958</td>\n",
       "      <td>4</td>\n",
       "      <td>20140805</td>\n",
       "      <td>20140806</td>\n",
       "      <td>230000.0</td>\n",
       "      <td>2000.0</td>\n",
       "      <td>0.0</td>\n",
       "      <td>0.0</td>\n",
       "      <td>1.0</td>\n",
       "      <td>1.0</td>\n",
       "      <td>1.0</td>\n",
       "      <td>1.0</td>\n",
       "      <td>2000.0</td>\n",
       "      <td>230000.0</td>\n",
       "      <td>1.0</td>\n",
       "      <td>1.0</td>\n",
       "      <td>1.0</td>\n",
       "    </tr>\n",
       "  </tbody>\n",
       "</table>\n",
       "</div>"
      ],
      "text/plain": [
       "   Id_Producto  Id_Vendedor  Id_Bodega  Fecha_Pedido  Fecha_Entrega_Planeada  \\\n",
       "0         3108         5958          4      20151106                20151121   \n",
       "1         2504         5955          3      20151215                20151216   \n",
       "2         2204         5958          4      20151123                20151124   \n",
       "3         4983         5958          4      20151125                20151126   \n",
       "4         2997         5958          4      20140805                20140806   \n",
       "\n",
       "   Pedidos_Pesos_bruto  Pedido_Cantidad  Pedido_Descuento_Pesos  \\\n",
       "0             313920.0             12.0                     0.0   \n",
       "1              51765.0              1.0                     0.0   \n",
       "2             210480.0             24.0                     0.0   \n",
       "3             102181.0              1.0                     0.0   \n",
       "4             230000.0           2000.0                     0.0   \n",
       "\n",
       "   Pedido_Cantidad_Pendiente  conteo_linea_pedido  Linea_a_Tiempo  \\\n",
       "0                        0.0                  1.0             1.0   \n",
       "1                        0.0                  1.0             1.0   \n",
       "2                        0.0                  1.0             1.0   \n",
       "3                        0.0                  1.0             1.0   \n",
       "4                        0.0                  1.0             1.0   \n",
       "\n",
       "   Linea_Completa  Linea_Perfecta  Pedido_Cantidad_Facturada  \\\n",
       "0             1.0             1.0                       12.0   \n",
       "1             1.0             1.0                        1.0   \n",
       "2             1.0             1.0                       24.0   \n",
       "3             1.0             1.0                        1.0   \n",
       "4             1.0             1.0                     2000.0   \n",
       "\n",
       "   Pedido_Pesos_Facturados  Lead_time_Pedido_teorico  \\\n",
       "0                 313920.0                      15.0   \n",
       "1                  51765.0                       1.0   \n",
       "2                 210480.0                       1.0   \n",
       "3                 102181.0                       1.0   \n",
       "4                 230000.0                       1.0   \n",
       "\n",
       "   Lead_time_pedido_real_min  Lead_time_pedido_real_max  \n",
       "0                        1.0                        1.0  \n",
       "1                        0.0                        0.0  \n",
       "2                        0.0                        0.0  \n",
       "3                        0.0                        0.0  \n",
       "4                        1.0                        1.0  "
      ]
     },
     "execution_count": 65,
     "metadata": {},
     "output_type": "execute_result"
    }
   ],
   "source": [
    "query_pedidos = \"SELECT Id_Producto, Id_Vendedor, Id_Bodega, Fecha_Pedido, Fecha_Entrega_Planeada, Pedidos_Pesos_bruto, Pedido_Cantidad, Pedido_Descuento_Pesos, Pedido_Cantidad_Pendiente, conteo_linea_pedido, Linea_a_Tiempo, Linea_Completa, Linea_Perfecta, Pedido_Cantidad_Facturada, Pedido_Pesos_Facturados, Lead_time_Pedido_teorico, Lead_time_pedido_real_min, Lead_time_pedido_real_max FROM dbo.T_Fact_pedido\"\n",
    "df_pedidos = pd.read_sql(query_pedidos, cnxn)\n",
    "\n",
    "df_pedidos['Fecha_Pedido'] = df_pedidos['Fecha_Pedido'].str.replace(r'-', '')\n",
    "df_pedidos['Fecha_Pedido'] = df_pedidos['Fecha_Pedido'].astype('int64')\n",
    "df_pedidos['Fecha_Entrega_Planeada'] = df_pedidos['Fecha_Entrega_Planeada'].str.replace(r'-', '')\n",
    "df_pedidos['Fecha_Entrega_Planeada'] = df_pedidos['Fecha_Entrega_Planeada'].astype('int64')\n",
    "\n",
    "df_pedidos.head()"
   ]
  },
  {
   "cell_type": "markdown",
   "metadata": {},
   "source": [
    "#### dbo.T_Fact_Inventario"
   ]
  },
  {
   "cell_type": "code",
   "execution_count": 62,
   "metadata": {},
   "outputs": [
    {
     "name": "stdout",
     "output_type": "stream",
     "text": [
      "Fecha_Inventario         int64\n",
      "Id_Bodega                int64\n",
      "Id_Producto              int64\n",
      "Inventario_Cantidad    float64\n",
      "Inventario_Pesos       float64\n",
      "dtype: object\n"
     ]
    },
    {
     "data": {
      "text/html": [
       "<div>\n",
       "<table border=\"1\" class=\"dataframe\">\n",
       "  <thead>\n",
       "    <tr style=\"text-align: right;\">\n",
       "      <th></th>\n",
       "      <th>Fecha_Inventario</th>\n",
       "      <th>Id_Bodega</th>\n",
       "      <th>Id_Producto</th>\n",
       "      <th>Inventario_Cantidad</th>\n",
       "      <th>Inventario_Pesos</th>\n",
       "    </tr>\n",
       "  </thead>\n",
       "  <tbody>\n",
       "    <tr>\n",
       "      <th>0</th>\n",
       "      <td>20170131</td>\n",
       "      <td>1</td>\n",
       "      <td>4621</td>\n",
       "      <td>-8.0</td>\n",
       "      <td>-138603.52</td>\n",
       "    </tr>\n",
       "    <tr>\n",
       "      <th>1</th>\n",
       "      <td>20170131</td>\n",
       "      <td>1</td>\n",
       "      <td>3297</td>\n",
       "      <td>-1.0</td>\n",
       "      <td>-81704.25</td>\n",
       "    </tr>\n",
       "    <tr>\n",
       "      <th>2</th>\n",
       "      <td>20170131</td>\n",
       "      <td>1</td>\n",
       "      <td>3544</td>\n",
       "      <td>9.0</td>\n",
       "      <td>82800.00</td>\n",
       "    </tr>\n",
       "    <tr>\n",
       "      <th>3</th>\n",
       "      <td>20170131</td>\n",
       "      <td>5</td>\n",
       "      <td>2931</td>\n",
       "      <td>-13.0</td>\n",
       "      <td>-104000.00</td>\n",
       "    </tr>\n",
       "    <tr>\n",
       "      <th>4</th>\n",
       "      <td>20170131</td>\n",
       "      <td>3</td>\n",
       "      <td>4810</td>\n",
       "      <td>-24.0</td>\n",
       "      <td>-151200.72</td>\n",
       "    </tr>\n",
       "  </tbody>\n",
       "</table>\n",
       "</div>"
      ],
      "text/plain": [
       "   Fecha_Inventario  Id_Bodega  Id_Producto  Inventario_Cantidad  \\\n",
       "0          20170131          1         4621                 -8.0   \n",
       "1          20170131          1         3297                 -1.0   \n",
       "2          20170131          1         3544                  9.0   \n",
       "3          20170131          5         2931                -13.0   \n",
       "4          20170131          3         4810                -24.0   \n",
       "\n",
       "   Inventario_Pesos  \n",
       "0        -138603.52  \n",
       "1         -81704.25  \n",
       "2          82800.00  \n",
       "3        -104000.00  \n",
       "4        -151200.72  "
      ]
     },
     "execution_count": 62,
     "metadata": {},
     "output_type": "execute_result"
    }
   ],
   "source": [
    "query_inventario = \"SELECT Fecha_Inventario, Id_Bodega, Id_Producto, Inventario_Cantidad, Inventario_Pesos FROM dbo.T_Fact_Inventario\"\n",
    "df_inventario = pd.read_sql(query_inventario, cnxn)\n",
    "\n",
    "df_inventario['Fecha_Inventario'] = df_inventario['Fecha_Inventario'].str.replace(r'-', '')\n",
    "df_inventario['Fecha_Inventario'] = df_inventario['Fecha_Inventario'].astype('int64')\n",
    "\n",
    "print(df_inventario.dtypes)\n",
    "df_inventario.head()"
   ]
  },
  {
   "cell_type": "markdown",
   "metadata": {},
   "source": [
    "#### dbo.T_Fact_venta"
   ]
  },
  {
   "cell_type": "code",
   "execution_count": 63,
   "metadata": {},
   "outputs": [
    {
     "name": "stdout",
     "output_type": "stream",
     "text": [
      "Id_Producto              int64\n",
      "Id_Vendedor              int64\n",
      "Id_Bodega                int64\n",
      "Fecha_Factura            int64\n",
      "Venta_Cantidad         float64\n",
      "Venta_Neta             float64\n",
      "Venta_Costo_Pesos      float64\n",
      "Venta_margen_pesos     float64\n",
      "Pedido_Numero_Linea    float64\n",
      "dtype: object\n"
     ]
    },
    {
     "data": {
      "text/html": [
       "<div>\n",
       "<table border=\"1\" class=\"dataframe\">\n",
       "  <thead>\n",
       "    <tr style=\"text-align: right;\">\n",
       "      <th></th>\n",
       "      <th>Id_Producto</th>\n",
       "      <th>Id_Vendedor</th>\n",
       "      <th>Id_Bodega</th>\n",
       "      <th>Fecha_Factura</th>\n",
       "      <th>Venta_Cantidad</th>\n",
       "      <th>Venta_Neta</th>\n",
       "      <th>Venta_Costo_Pesos</th>\n",
       "      <th>Venta_margen_pesos</th>\n",
       "      <th>Pedido_Numero_Linea</th>\n",
       "    </tr>\n",
       "  </thead>\n",
       "  <tbody>\n",
       "    <tr>\n",
       "      <th>0</th>\n",
       "      <td>3285</td>\n",
       "      <td>18275</td>\n",
       "      <td>12</td>\n",
       "      <td>20181218</td>\n",
       "      <td>6.0</td>\n",
       "      <td>60323.0</td>\n",
       "      <td>52183.32</td>\n",
       "      <td>8139.68</td>\n",
       "      <td>933329.0</td>\n",
       "    </tr>\n",
       "    <tr>\n",
       "      <th>1</th>\n",
       "      <td>2196</td>\n",
       "      <td>18275</td>\n",
       "      <td>12</td>\n",
       "      <td>20181218</td>\n",
       "      <td>6.0</td>\n",
       "      <td>70560.0</td>\n",
       "      <td>56448.00</td>\n",
       "      <td>14112.00</td>\n",
       "      <td>933303.0</td>\n",
       "    </tr>\n",
       "    <tr>\n",
       "      <th>2</th>\n",
       "      <td>2199</td>\n",
       "      <td>18275</td>\n",
       "      <td>12</td>\n",
       "      <td>20181218</td>\n",
       "      <td>12.0</td>\n",
       "      <td>141120.0</td>\n",
       "      <td>112896.00</td>\n",
       "      <td>28224.00</td>\n",
       "      <td>933306.0</td>\n",
       "    </tr>\n",
       "    <tr>\n",
       "      <th>3</th>\n",
       "      <td>2263</td>\n",
       "      <td>18275</td>\n",
       "      <td>12</td>\n",
       "      <td>20181218</td>\n",
       "      <td>2.0</td>\n",
       "      <td>60480.0</td>\n",
       "      <td>48384.00</td>\n",
       "      <td>12096.00</td>\n",
       "      <td>933310.0</td>\n",
       "    </tr>\n",
       "    <tr>\n",
       "      <th>4</th>\n",
       "      <td>7275</td>\n",
       "      <td>18275</td>\n",
       "      <td>12</td>\n",
       "      <td>20181218</td>\n",
       "      <td>25.0</td>\n",
       "      <td>106245.0</td>\n",
       "      <td>82724.00</td>\n",
       "      <td>23521.00</td>\n",
       "      <td>933325.0</td>\n",
       "    </tr>\n",
       "  </tbody>\n",
       "</table>\n",
       "</div>"
      ],
      "text/plain": [
       "   Id_Producto  Id_Vendedor  Id_Bodega  Fecha_Factura  Venta_Cantidad  \\\n",
       "0         3285        18275         12       20181218             6.0   \n",
       "1         2196        18275         12       20181218             6.0   \n",
       "2         2199        18275         12       20181218            12.0   \n",
       "3         2263        18275         12       20181218             2.0   \n",
       "4         7275        18275         12       20181218            25.0   \n",
       "\n",
       "   Venta_Neta  Venta_Costo_Pesos  Venta_margen_pesos  Pedido_Numero_Linea  \n",
       "0     60323.0           52183.32             8139.68             933329.0  \n",
       "1     70560.0           56448.00            14112.00             933303.0  \n",
       "2    141120.0          112896.00            28224.00             933306.0  \n",
       "3     60480.0           48384.00            12096.00             933310.0  \n",
       "4    106245.0           82724.00            23521.00             933325.0  "
      ]
     },
     "execution_count": 63,
     "metadata": {},
     "output_type": "execute_result"
    }
   ],
   "source": [
    "query_venta = \"SELECT Id_Producto, Id_Vendedor, Id_Bodega, Fecha_Factura, Venta_Cantidad, Venta_Neta, Venta_Costo_Pesos, Venta_margen_pesos, Pedido_Numero_Linea FROM dbo.T_Fact_venta\"\n",
    "df_venta = pd.read_sql(query_venta, cnxn)\n",
    "\n",
    "df_venta['Fecha_Factura'] = df_venta['Fecha_Factura'].str.replace(r'-', '')\n",
    "df_venta['Fecha_Factura'] = df_venta['Fecha_Factura'].astype('int64')\n",
    "\n",
    "print(df_venta.dtypes)\n",
    "df_venta.head()"
   ]
  },
  {
   "cell_type": "markdown",
   "metadata": {},
   "source": [
    "## Correlación de datos a analizar"
   ]
  },
  {
   "cell_type": "markdown",
   "metadata": {},
   "source": [
    "A continuación se analizará la correlación de los datos por dataframe a utilizar"
   ]
  },
  {
   "cell_type": "markdown",
   "metadata": {},
   "source": [
    "### Correlación dbo.Fact_Compra"
   ]
  },
  {
   "cell_type": "code",
   "execution_count": 85,
   "metadata": {
    "scrolled": true
   },
   "outputs": [
    {
     "data": {
      "image/png": "[encoded data removed]",
      "text/plain": [
       "<matplotlib.figure.Figure at 0x235ca868ba8>"
      ]
     },
     "metadata": {},
     "output_type": "display_data"
    }
   ],
   "source": [
    "import matplotlib.pyplot as plt\n",
    "corr_compras = df_compras.corr()\n",
    "plt.matshow(corr_compras)\n",
    "plt.show()"
   ]
  },
  {
   "cell_type": "markdown",
   "metadata": {},
   "source": [
    "### Correlación dbo.Fact_pedidos"
   ]
  },
  {
   "cell_type": "code",
   "execution_count": 86,
   "metadata": {
    "scrolled": true
   },
   "outputs": [
    {
     "data": {
      "image/png": "[encoded data removed]",
      "text/plain": [
       "<matplotlib.figure.Figure at 0x235d14f8588>"
      ]
     },
     "metadata": {},
     "output_type": "display_data"
    }
   ],
   "source": [
    "import matplotlib.pyplot as plt\n",
    "corr_pedidos = df_pedidos.corr()\n",
    "plt.matshow(corr_pedidos)\n",
    "plt.show()"
   ]
  },
  {
   "cell_type": "markdown",
   "metadata": {},
   "source": [
    "### Correlación dbo.Fact_Inventario"
   ]
  },
  {
   "cell_type": "code",
   "execution_count": 73,
   "metadata": {},
   "outputs": [
    {
     "data": {
      "image/png": "[encoded data removed]",
      "text/plain": [
       "<matplotlib.figure.Figure at 0x235cb581fd0>"
      ]
     },
     "metadata": {},
     "output_type": "display_data"
    }
   ],
   "source": [
    "import matplotlib.pyplot as plt\n",
    "\n",
    "labels = ['Fecha_Inventario' , 'Id_Bodega' , 'Id_Producto' , 'Inventario_Cantidad' , 'Inventario_Pesos']\n",
    "corr_inventario = df_inventario.corr()\n",
    "plt.matshow(corr_inventario)\n",
    "plt.show()"
   ]
  },
  {
   "cell_type": "markdown",
   "metadata": {},
   "source": [
    "### Correlación dbo.Fact_Ventas"
   ]
  },
  {
   "cell_type": "code",
   "execution_count": 67,
   "metadata": {},
   "outputs": [
    {
     "data": {
      "image/png": "[encoded data removed]",
      "text/plain": [
       "<matplotlib.figure.Figure at 0x235c92f6240>"
      ]
     },
     "metadata": {},
     "output_type": "display_data"
    }
   ],
   "source": [
    "import matplotlib.pyplot as plt\n",
    "corr_ventas = df_inventario.corr()\n",
    "plt.matshow(corr_ventas)\n",
    "plt.show()"
   ]
  },
  {
   "cell_type": "markdown",
   "metadata": {},
   "source": [
    "## Limpieza de Variables"
   ]
  },
  {
   "cell_type": "markdown",
   "metadata": {},
   "source": [
    "Se van a eliminar de los data frames las variables que pueden causar multicolinealidad en el modelo"
   ]
  },
  {
   "cell_type": "markdown",
   "metadata": {},
   "source": [
    "## dbo.Fact_Compras"
   ]
  },
  {
   "cell_type": "code",
   "execution_count": 84,
   "metadata": {
    "scrolled": true
   },
   "outputs": [
    {
     "ename": "KeyError",
     "evalue": "'Fecha_Entrega_Planeada'",
     "output_type": "error",
     "traceback": [
      "\u001b[1;31m---------------------------------------------------------------------------\u001b[0m",
      "\u001b[1;31mKeyError\u001b[0m                                  Traceback (most recent call last)",
      "\u001b[1;32mC:\\Program Files\\Microsoft\\PyForMLS\\lib\\site-packages\\pandas\\indexes\\base.py\u001b[0m in \u001b[0;36mget_loc\u001b[1;34m(self, key, method, tolerance)\u001b[0m\n\u001b[0;32m   2133\u001b[0m             \u001b[1;32mtry\u001b[0m\u001b[1;33m:\u001b[0m\u001b[1;33m\u001b[0m\u001b[0m\n\u001b[1;32m-> 2134\u001b[1;33m                 \u001b[1;32mreturn\u001b[0m \u001b[0mself\u001b[0m\u001b[1;33m.\u001b[0m\u001b[0m_engine\u001b[0m\u001b[1;33m.\u001b[0m\u001b[0mget_loc\u001b[0m\u001b[1;33m(\u001b[0m\u001b[0mkey\u001b[0m\u001b[1;33m)\u001b[0m\u001b[1;33m\u001b[0m\u001b[0m\n\u001b[0m\u001b[0;32m   2135\u001b[0m             \u001b[1;32mexcept\u001b[0m \u001b[0mKeyError\u001b[0m\u001b[1;33m:\u001b[0m\u001b[1;33m\u001b[0m\u001b[0m\n",
      "\u001b[1;32mpandas\\index.pyx\u001b[0m in \u001b[0;36mpandas.index.IndexEngine.get_loc (pandas\\index.c:4433)\u001b[1;34m()\u001b[0m\n",
      "\u001b[1;32mpandas\\index.pyx\u001b[0m in \u001b[0;36mpandas.index.IndexEngine.get_loc (pandas\\index.c:4279)\u001b[1;34m()\u001b[0m\n",
      "\u001b[1;32mpandas\\src\\hashtable_class_helper.pxi\u001b[0m in \u001b[0;36mpandas.hashtable.PyObjectHashTable.get_item (pandas\\hashtable.c:13742)\u001b[1;34m()\u001b[0m\n",
      "\u001b[1;32mpandas\\src\\hashtable_class_helper.pxi\u001b[0m in \u001b[0;36mpandas.hashtable.PyObjectHashTable.get_item (pandas\\hashtable.c:13696)\u001b[1;34m()\u001b[0m\n",
      "\u001b[1;31mKeyError\u001b[0m: 'Fecha_Entrega_Planeada'",
      "\nDuring handling of the above exception, another exception occurred:\n",
      "\u001b[1;31mKeyError\u001b[0m                                  Traceback (most recent call last)",
      "\u001b[1;32m<ipython-input-84-b30f4cb1f7d1>\u001b[0m in \u001b[0;36m<module>\u001b[1;34m()\u001b[0m\n\u001b[1;32m----> 1\u001b[1;33m \u001b[1;32mdel\u001b[0m \u001b[0mdf_compras\u001b[0m\u001b[1;33m[\u001b[0m\u001b[1;34m'Fecha_Entrega_Planeada'\u001b[0m\u001b[1;33m]\u001b[0m\u001b[1;33m\u001b[0m\u001b[0m\n\u001b[0m\u001b[0;32m      2\u001b[0m \u001b[1;32mdel\u001b[0m \u001b[0mdf_compras\u001b[0m\u001b[1;33m[\u001b[0m\u001b[1;34m'Linea_Orden_Compra'\u001b[0m\u001b[1;33m]\u001b[0m\u001b[1;33m\u001b[0m\u001b[0m\n\u001b[0;32m      3\u001b[0m \u001b[1;32mdel\u001b[0m \u001b[0mdf_compras\u001b[0m\u001b[1;33m[\u001b[0m\u001b[1;34m'Linea_a_Tiempo'\u001b[0m\u001b[1;33m]\u001b[0m\u001b[1;33m\u001b[0m\u001b[0m\n\u001b[0;32m      4\u001b[0m \u001b[1;32mdel\u001b[0m \u001b[0mdf_compras\u001b[0m\u001b[1;33m[\u001b[0m\u001b[1;34m'Lead_Time_Real_Min_Compra'\u001b[0m\u001b[1;33m]\u001b[0m\u001b[1;33m\u001b[0m\u001b[0m\n\u001b[0;32m      5\u001b[0m \u001b[0mdf_compras\u001b[0m\u001b[1;33m.\u001b[0m\u001b[0mhead\u001b[0m\u001b[1;33m(\u001b[0m\u001b[1;33m)\u001b[0m\u001b[1;33m\u001b[0m\u001b[0m\n",
      "\u001b[1;32mC:\\Program Files\\Microsoft\\PyForMLS\\lib\\site-packages\\pandas\\core\\generic.py\u001b[0m in \u001b[0;36m__delitem__\u001b[1;34m(self, key)\u001b[0m\n\u001b[0;32m   1640\u001b[0m             \u001b[1;31m# there was no match, this call should raise the appropriate\u001b[0m\u001b[1;33m\u001b[0m\u001b[1;33m\u001b[0m\u001b[0m\n\u001b[0;32m   1641\u001b[0m             \u001b[1;31m# exception:\u001b[0m\u001b[1;33m\u001b[0m\u001b[1;33m\u001b[0m\u001b[0m\n\u001b[1;32m-> 1642\u001b[1;33m             \u001b[0mself\u001b[0m\u001b[1;33m.\u001b[0m\u001b[0m_data\u001b[0m\u001b[1;33m.\u001b[0m\u001b[0mdelete\u001b[0m\u001b[1;33m(\u001b[0m\u001b[0mkey\u001b[0m\u001b[1;33m)\u001b[0m\u001b[1;33m\u001b[0m\u001b[0m\n\u001b[0m\u001b[0;32m   1643\u001b[0m \u001b[1;33m\u001b[0m\u001b[0m\n\u001b[0;32m   1644\u001b[0m         \u001b[1;31m# delete from the caches\u001b[0m\u001b[1;33m\u001b[0m\u001b[1;33m\u001b[0m\u001b[0m\n",
      "\u001b[1;32mC:\\Program Files\\Microsoft\\PyForMLS\\lib\\site-packages\\pandas\\core\\internals.py\u001b[0m in \u001b[0;36mdelete\u001b[1;34m(self, item)\u001b[0m\n\u001b[0;32m   3600\u001b[0m         \u001b[0mDelete\u001b[0m \u001b[0mselected\u001b[0m \u001b[0mitem\u001b[0m \u001b[1;33m(\u001b[0m\u001b[0mitems\u001b[0m \u001b[1;32mif\u001b[0m \u001b[0mnon\u001b[0m\u001b[1;33m-\u001b[0m\u001b[0munique\u001b[0m\u001b[1;33m)\u001b[0m \u001b[1;32min\u001b[0m\u001b[1;33m-\u001b[0m\u001b[0mplace\u001b[0m\u001b[1;33m.\u001b[0m\u001b[1;33m\u001b[0m\u001b[0m\n\u001b[0;32m   3601\u001b[0m         \"\"\"\n\u001b[1;32m-> 3602\u001b[1;33m         \u001b[0mindexer\u001b[0m \u001b[1;33m=\u001b[0m \u001b[0mself\u001b[0m\u001b[1;33m.\u001b[0m\u001b[0mitems\u001b[0m\u001b[1;33m.\u001b[0m\u001b[0mget_loc\u001b[0m\u001b[1;33m(\u001b[0m\u001b[0mitem\u001b[0m\u001b[1;33m)\u001b[0m\u001b[1;33m\u001b[0m\u001b[0m\n\u001b[0m\u001b[0;32m   3603\u001b[0m \u001b[1;33m\u001b[0m\u001b[0m\n\u001b[0;32m   3604\u001b[0m         \u001b[0mis_deleted\u001b[0m \u001b[1;33m=\u001b[0m \u001b[0mnp\u001b[0m\u001b[1;33m.\u001b[0m\u001b[0mzeros\u001b[0m\u001b[1;33m(\u001b[0m\u001b[0mself\u001b[0m\u001b[1;33m.\u001b[0m\u001b[0mshape\u001b[0m\u001b[1;33m[\u001b[0m\u001b[1;36m0\u001b[0m\u001b[1;33m]\u001b[0m\u001b[1;33m,\u001b[0m \u001b[0mdtype\u001b[0m\u001b[1;33m=\u001b[0m\u001b[0mnp\u001b[0m\u001b[1;33m.\u001b[0m\u001b[0mbool_\u001b[0m\u001b[1;33m)\u001b[0m\u001b[1;33m\u001b[0m\u001b[0m\n",
      "\u001b[1;32mC:\\Program Files\\Microsoft\\PyForMLS\\lib\\site-packages\\pandas\\indexes\\base.py\u001b[0m in \u001b[0;36mget_loc\u001b[1;34m(self, key, method, tolerance)\u001b[0m\n\u001b[0;32m   2134\u001b[0m                 \u001b[1;32mreturn\u001b[0m \u001b[0mself\u001b[0m\u001b[1;33m.\u001b[0m\u001b[0m_engine\u001b[0m\u001b[1;33m.\u001b[0m\u001b[0mget_loc\u001b[0m\u001b[1;33m(\u001b[0m\u001b[0mkey\u001b[0m\u001b[1;33m)\u001b[0m\u001b[1;33m\u001b[0m\u001b[0m\n\u001b[0;32m   2135\u001b[0m             \u001b[1;32mexcept\u001b[0m \u001b[0mKeyError\u001b[0m\u001b[1;33m:\u001b[0m\u001b[1;33m\u001b[0m\u001b[0m\n\u001b[1;32m-> 2136\u001b[1;33m                 \u001b[1;32mreturn\u001b[0m \u001b[0mself\u001b[0m\u001b[1;33m.\u001b[0m\u001b[0m_engine\u001b[0m\u001b[1;33m.\u001b[0m\u001b[0mget_loc\u001b[0m\u001b[1;33m(\u001b[0m\u001b[0mself\u001b[0m\u001b[1;33m.\u001b[0m\u001b[0m_maybe_cast_indexer\u001b[0m\u001b[1;33m(\u001b[0m\u001b[0mkey\u001b[0m\u001b[1;33m)\u001b[0m\u001b[1;33m)\u001b[0m\u001b[1;33m\u001b[0m\u001b[0m\n\u001b[0m\u001b[0;32m   2137\u001b[0m \u001b[1;33m\u001b[0m\u001b[0m\n\u001b[0;32m   2138\u001b[0m         \u001b[0mindexer\u001b[0m \u001b[1;33m=\u001b[0m \u001b[0mself\u001b[0m\u001b[1;33m.\u001b[0m\u001b[0mget_indexer\u001b[0m\u001b[1;33m(\u001b[0m\u001b[1;33m[\u001b[0m\u001b[0mkey\u001b[0m\u001b[1;33m]\u001b[0m\u001b[1;33m,\u001b[0m \u001b[0mmethod\u001b[0m\u001b[1;33m=\u001b[0m\u001b[0mmethod\u001b[0m\u001b[1;33m,\u001b[0m \u001b[0mtolerance\u001b[0m\u001b[1;33m=\u001b[0m\u001b[0mtolerance\u001b[0m\u001b[1;33m)\u001b[0m\u001b[1;33m\u001b[0m\u001b[0m\n",
      "\u001b[1;32mpandas\\index.pyx\u001b[0m in \u001b[0;36mpandas.index.IndexEngine.get_loc (pandas\\index.c:4433)\u001b[1;34m()\u001b[0m\n",
      "\u001b[1;32mpandas\\index.pyx\u001b[0m in \u001b[0;36mpandas.index.IndexEngine.get_loc (pandas\\index.c:4279)\u001b[1;34m()\u001b[0m\n",
      "\u001b[1;32mpandas\\src\\hashtable_class_helper.pxi\u001b[0m in \u001b[0;36mpandas.hashtable.PyObjectHashTable.get_item (pandas\\hashtable.c:13742)\u001b[1;34m()\u001b[0m\n",
      "\u001b[1;32mpandas\\src\\hashtable_class_helper.pxi\u001b[0m in \u001b[0;36mpandas.hashtable.PyObjectHashTable.get_item (pandas\\hashtable.c:13696)\u001b[1;34m()\u001b[0m\n",
      "\u001b[1;31mKeyError\u001b[0m: 'Fecha_Entrega_Planeada'"
     ]
    }
   ],
   "source": [
    "del df_compras['Fecha_Entrega_Planeada']\n",
    "del df_compras['Linea_Orden_Compra']\n",
    "del df_compras['Linea_a_Tiempo']\n",
    "del df_compras['Lead_Time_Real_Min_Compra']\n",
    "df_compras.head()"
   ]
  },
  {
   "cell_type": "markdown",
   "metadata": {},
   "source": [
    "## dbo.Fact_pedidos"
   ]
  },
  {
   "cell_type": "code",
   "execution_count": 83,
   "metadata": {},
   "outputs": [
    {
     "data": {
      "text/html": [
       "<div>\n",
       "<table border=\"1\" class=\"dataframe\">\n",
       "  <thead>\n",
       "    <tr style=\"text-align: right;\">\n",
       "      <th></th>\n",
       "      <th>Id_Producto</th>\n",
       "      <th>Id_Vendedor</th>\n",
       "      <th>Id_Bodega</th>\n",
       "      <th>Fecha_Entrega_Planeada</th>\n",
       "      <th>Pedido_Descuento_Pesos</th>\n",
       "      <th>Pedido_Cantidad_Pendiente</th>\n",
       "      <th>conteo_linea_pedido</th>\n",
       "      <th>Linea_Completa</th>\n",
       "      <th>Linea_Perfecta</th>\n",
       "      <th>Pedido_Cantidad_Facturada</th>\n",
       "      <th>Pedido_Pesos_Facturados</th>\n",
       "      <th>Lead_time_Pedido_teorico</th>\n",
       "      <th>Lead_time_pedido_real_max</th>\n",
       "    </tr>\n",
       "  </thead>\n",
       "  <tbody>\n",
       "    <tr>\n",
       "      <th>0</th>\n",
       "      <td>3108</td>\n",
       "      <td>5958</td>\n",
       "      <td>4</td>\n",
       "      <td>20151121</td>\n",
       "      <td>0.0</td>\n",
       "      <td>0.0</td>\n",
       "      <td>1.0</td>\n",
       "      <td>1.0</td>\n",
       "      <td>1.0</td>\n",
       "      <td>12.0</td>\n",
       "      <td>313920.0</td>\n",
       "      <td>15.0</td>\n",
       "      <td>1.0</td>\n",
       "    </tr>\n",
       "    <tr>\n",
       "      <th>1</th>\n",
       "      <td>2504</td>\n",
       "      <td>5955</td>\n",
       "      <td>3</td>\n",
       "      <td>20151216</td>\n",
       "      <td>0.0</td>\n",
       "      <td>0.0</td>\n",
       "      <td>1.0</td>\n",
       "      <td>1.0</td>\n",
       "      <td>1.0</td>\n",
       "      <td>1.0</td>\n",
       "      <td>51765.0</td>\n",
       "      <td>1.0</td>\n",
       "      <td>0.0</td>\n",
       "    </tr>\n",
       "    <tr>\n",
       "      <th>2</th>\n",
       "      <td>2204</td>\n",
       "      <td>5958</td>\n",
       "      <td>4</td>\n",
       "      <td>20151124</td>\n",
       "      <td>0.0</td>\n",
       "      <td>0.0</td>\n",
       "      <td>1.0</td>\n",
       "      <td>1.0</td>\n",
       "      <td>1.0</td>\n",
       "      <td>24.0</td>\n",
       "      <td>210480.0</td>\n",
       "      <td>1.0</td>\n",
       "      <td>0.0</td>\n",
       "    </tr>\n",
       "    <tr>\n",
       "      <th>3</th>\n",
       "      <td>4983</td>\n",
       "      <td>5958</td>\n",
       "      <td>4</td>\n",
       "      <td>20151126</td>\n",
       "      <td>0.0</td>\n",
       "      <td>0.0</td>\n",
       "      <td>1.0</td>\n",
       "      <td>1.0</td>\n",
       "      <td>1.0</td>\n",
       "      <td>1.0</td>\n",
       "      <td>102181.0</td>\n",
       "      <td>1.0</td>\n",
       "      <td>0.0</td>\n",
       "    </tr>\n",
       "    <tr>\n",
       "      <th>4</th>\n",
       "      <td>2997</td>\n",
       "      <td>5958</td>\n",
       "      <td>4</td>\n",
       "      <td>20140806</td>\n",
       "      <td>0.0</td>\n",
       "      <td>0.0</td>\n",
       "      <td>1.0</td>\n",
       "      <td>1.0</td>\n",
       "      <td>1.0</td>\n",
       "      <td>2000.0</td>\n",
       "      <td>230000.0</td>\n",
       "      <td>1.0</td>\n",
       "      <td>1.0</td>\n",
       "    </tr>\n",
       "  </tbody>\n",
       "</table>\n",
       "</div>"
      ],
      "text/plain": [
       "   Id_Producto  Id_Vendedor  Id_Bodega  Fecha_Entrega_Planeada  \\\n",
       "0         3108         5958          4                20151121   \n",
       "1         2504         5955          3                20151216   \n",
       "2         2204         5958          4                20151124   \n",
       "3         4983         5958          4                20151126   \n",
       "4         2997         5958          4                20140806   \n",
       "\n",
       "   Pedido_Descuento_Pesos  Pedido_Cantidad_Pendiente  conteo_linea_pedido  \\\n",
       "0                     0.0                        0.0                  1.0   \n",
       "1                     0.0                        0.0                  1.0   \n",
       "2                     0.0                        0.0                  1.0   \n",
       "3                     0.0                        0.0                  1.0   \n",
       "4                     0.0                        0.0                  1.0   \n",
       "\n",
       "   Linea_Completa  Linea_Perfecta  Pedido_Cantidad_Facturada  \\\n",
       "0             1.0             1.0                       12.0   \n",
       "1             1.0             1.0                        1.0   \n",
       "2             1.0             1.0                       24.0   \n",
       "3             1.0             1.0                        1.0   \n",
       "4             1.0             1.0                     2000.0   \n",
       "\n",
       "   Pedido_Pesos_Facturados  Lead_time_Pedido_teorico  \\\n",
       "0                 313920.0                      15.0   \n",
       "1                  51765.0                       1.0   \n",
       "2                 210480.0                       1.0   \n",
       "3                 102181.0                       1.0   \n",
       "4                 230000.0                       1.0   \n",
       "\n",
       "   Lead_time_pedido_real_max  \n",
       "0                        1.0  \n",
       "1                        0.0  \n",
       "2                        0.0  \n",
       "3                        0.0  \n",
       "4                        1.0  "
      ]
     },
     "execution_count": 83,
     "metadata": {},
     "output_type": "execute_result"
    }
   ],
   "source": [
    "del df_pedidos['Fecha_Pedido']\n",
    "del df_pedidos['Pedidos_Pesos_bruto']\n",
    "del df_pedidos['Pedido_Cantidad']\n",
    "del df_pedidos['Linea_a_Tiempo']\n",
    "del df_pedidos['Lead_time_pedido_real_min']\n",
    "df_pedidos.head()"
   ]
  },
  {
   "cell_type": "code",
   "execution_count": null,
   "metadata": {},
   "outputs": [],
   "source": []
  }
 ],
 "metadata": {
  "kernelspec": {
   "display_name": "Python 3",
   "language": "python",
   "name": "python3"
  },
  "language_info": {
   "codemirror_mode": {
    "name": "ipython",
    "version": 3
   },
   "file_extension": ".py",
   "mimetype": "text/x-python",
   "name": "python",
   "nbconvert_exporter": "python",
   "pygments_lexer": "ipython3",
   "version": "3.5.2"
  }
 },
 "nbformat": 4,
 "nbformat_minor": 2
}
