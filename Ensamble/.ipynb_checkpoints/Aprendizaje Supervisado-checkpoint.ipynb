{
 "cells": [
  {
   "cell_type": "markdown",
   "metadata": {},
   "source": [
    "# Aprendizaje Supervisado"
   ]
  },
  {
   "cell_type": "markdown",
   "metadata": {},
   "source": [
    "Proyecto de gestión de inventarios usando SQL Server"
   ]
  },
  {
   "cell_type": "markdown",
   "metadata": {},
   "source": [
    "## 1 Conexión"
   ]
  },
  {
   "cell_type": "markdown",
   "metadata": {},
   "source": [
    "La conexión mostrada en este proyecto Actualmente se encuentra implementada para un servicio local, por lo tanto puede ser objeto de cambios en cuanto se despliegue la base de datos en un servidor EC2"
   ]
  },
  {
   "cell_type": "code",
   "execution_count": null,
   "metadata": {},
   "outputs": [],
   "source": [
    "import pyodbc\n",
    "import pandas as pd\n",
    "import numpy as np\n",
    "\n",
    "driver = 'SQL Server'\n",
    "server = 'MARCO'\n",
    "db1 = 'AI_Eafit'\n",
    "tcon = 'yes'\n",
    "uname = 'aieafit'\n",
    "pword = 'marANT1502'\n",
    "\n",
    "cnxn = pyodbc.connect(driver='{SQL Server}', host=server, database=db1,\n",
    "                      trusted_connection=tcon, user=uname, password=pword)"
   ]
  },
  {
   "cell_type": "markdown",
   "metadata": {},
   "source": [
    "# 2 Modelos"
   ]
  },
  {
   "cell_type": "markdown",
   "metadata": {},
   "source": [
    "## 2.1 Regresión Logística"
   ]
  },
  {
   "cell_type": "markdown",
   "metadata": {},
   "source": [
    "Una vez se ejecuta la conexión se deben seleccionar los datos establecidos en las variables de respuesta escogidas, este paso se dividirá por Queries de cada selección y se utilizará la biblioteca Microsoftml para implementar los modelos"
   ]
  },
  {
   "cell_type": "markdown",
   "metadata": {},
   "source": [
    "### dbo.Fact_compra"
   ]
  },
  {
   "cell_type": "code",
   "execution_count": null,
   "metadata": {},
   "outputs": [],
   "source": [
    "query_compras = \"SELECT Id_Producto, Id_Bodega, Id_Comprador, Fecha_Orden_Compra, Compra_Cantidad, Compra_Pesos, Precio_Unitario_Moneda, Linea_Completa, Linea_Perfecta, Lead_Time_Teorico_Compra, Lead_Time_Real_Max_Compra FROM dbo.T_Fact_compra\"\n",
    "df_compras = pd.read_sql(query_compras, cnxn)\n",
    "\n",
    "df_compras['Fecha_Orden_Compra'] = df_compras['Fecha_Orden_Compra'].str.replace(r'-', '')\n",
    "df_compras['Fecha_Orden_Compra'] = df_compras['Fecha_Orden_Compra'].astype('int64')\n",
    "\n",
    "df_compras.head()"
   ]
  },
  {
   "cell_type": "markdown",
   "metadata": {},
   "source": [
    "#### Separación de los datos"
   ]
  },
  {
   "cell_type": "markdown",
   "metadata": {},
   "source": [
    "se divide el dataframe en un set para entrenamiento y uno de pruebas"
   ]
  },
  {
   "cell_type": "code",
   "execution_count": null,
   "metadata": {},
   "outputs": [],
   "source": [
    "from sklearn.model_selection import train_test_split\n",
    "bc_train_compras, bc_test_compras = train_test_split(df_compras, test_size=0.2)\n",
    "print(\"# of rows in training set = \",bc_train_compras.size)\n",
    "print(\"# of rows in test set = \",bc_test_compras.size)"
   ]
  },
  {
   "cell_type": "markdown",
   "metadata": {},
   "source": [
    "### Entrenamiento de modelo"
   ]
  },
  {
   "cell_type": "markdown",
   "metadata": {},
   "source": [
    "Se entrena el modelo usando el paquete Microsoft for ML"
   ]
  },
  {
   "cell_type": "code",
   "execution_count": null,
   "metadata": {},
   "outputs": [],
   "source": [
    "from microsoftml import rx_logistic_regression\n",
    "from microsoftml import rx_ensemble\n",
    "from microsoftml import rx_neural_network\n",
    "from microsoftml import rx_fast_forest\n",
    "\n",
    "features_compras = df_compras.columns.drop([\"Linea_Perfecta\"])\n",
    "model_compras = rx_ensemble(\"Linea_Perfecta ~ \" + \"+\".join(features_compras), data=bc_train_compras, trainers = [\n",
    "                            rx_logistic_regression(\"Linea_Perfecta ~ \" + \"+\".join(features_compras), data=bc_train_compras),\n",
    "                            rx_neural_network(\"Linea_Perfecta ~ \" + \"+\".join(features_compras), data=bc_train_compras),\n",
    "                            rx_fast_forest(\"Linea_Perfecta ~ \" + \"+\".join(features_compras), data=bc_train_compras)]\n",
    "                           )"
   ]
  },
  {
   "cell_type": "markdown",
   "metadata": {},
   "source": [
    "### Predecir"
   ]
  },
  {
   "cell_type": "markdown",
   "metadata": {},
   "source": [
    "se predice el modelo y se imprimen las probabilidades encontradas en la regresión implementada (no binaria)"
   ]
  },
  {
   "cell_type": "code",
   "execution_count": null,
   "metadata": {
    "scrolled": true
   },
   "outputs": [],
   "source": [
    "from microsoftml import rx_predict\n",
    "\n",
    "prediction_compras = rx_predict(model_compras, data=bc_test_compras)\n",
    "\n",
    "prediction_compras.head()\n",
    "print(model_compras.coef_)"
   ]
  },
  {
   "cell_type": "markdown",
   "metadata": {},
   "source": [
    "### dbo.Fact_Ventas"
   ]
  },
  {
   "cell_type": "code",
   "execution_count": null,
   "metadata": {
    "scrolled": true
   },
   "outputs": [],
   "source": [
    "query_ventas = \"SELECT Cod_Compañia, Id_Producto, Id_Vendedor, Id_Bodega, Fecha_Factura, Venta_Cantidad, Venta_Neta, Venta_Costo_Pesos, Venta_margen_pesos, Pedido_Numero_Linea FROM dbo.T_Fact_venta\"\n",
    "df_ventas = pd.read_sql(query_ventas, cnxn)\n",
    "\n",
    "df_ventas['Fecha_Factura'] = df_ventas['Fecha_Factura'].str.replace(r'-', '')\n",
    "df_ventas['Fecha_Factura'] = df_ventas['Fecha_Factura'].astype('int64')\n",
    "\n",
    "df_ventas.head()"
   ]
  },
  {
   "cell_type": "markdown",
   "metadata": {},
   "source": [
    "#### Separación de los datos"
   ]
  },
  {
   "cell_type": "markdown",
   "metadata": {},
   "source": [
    "se divide el dataframe en un set para entrenamiento y uno de pruebas"
   ]
  },
  {
   "cell_type": "code",
   "execution_count": null,
   "metadata": {},
   "outputs": [],
   "source": [
    "from sklearn.model_selection import train_test_split\n",
    "bc_train_ventas, bc_test_ventas = train_test_split(df_ventas, test_size=0.2)\n",
    "print(\"# of rows in training set = \",bc_train_ventas.size)\n",
    "print(\"# of rows in test set = \",bc_test_ventas.size)"
   ]
  },
  {
   "cell_type": "markdown",
   "metadata": {},
   "source": [
    "### Entrenamiento de modelo"
   ]
  },
  {
   "cell_type": "markdown",
   "metadata": {},
   "source": [
    "Se entrena el modelo usando el paquete Microsoft for ML"
   ]
  },
  {
   "cell_type": "code",
   "execution_count": null,
   "metadata": {},
   "outputs": [],
   "source": [
    "from microsoftml import rx_logistic_regression\n",
    "from microsoftml import rx_ensemble\n",
    "from microsoftml import rx_neural_network\n",
    "from microsoftml import rx_fast_forest\n",
    "\n",
    "features_ventas = df_ventas.columns.drop([\"Id_Producto\"])\n",
    "model_ventas = rx_ensemble(\"Id_Producto~ \" + \"+\".join(features_compras), method = 'multiClass', data=bc_train_ventas, trainers = [\n",
    "                            rx_logistic_regression(\"Id_Producto ~ \" + \"+\".join(features_ventas), data=bc_train_ventas, method = 'multiClass'),\n",
    "                            rx_neural_network(\"Id_Producto ~ \" + \"+\".join(features_ventas), data=bc_train_ventas, method = 'multiClass'),\n",
    "                            rx_fast_forest(\"Id_Producto ~ \" + \"+\".join(features_ventas), data=bc_train_ventas, method = 'multiClass')]\n",
    "                           )"
   ]
  },
  {
   "cell_type": "markdown",
   "metadata": {},
   "source": [
    "### Predecir"
   ]
  },
  {
   "cell_type": "markdown",
   "metadata": {},
   "source": [
    "se predice el modelo y se imprimen las probabilidades encontradas en la regresión implementada (no binaria)"
   ]
  },
  {
   "cell_type": "code",
   "execution_count": null,
   "metadata": {
    "scrolled": false
   },
   "outputs": [],
   "source": [
    "from microsoftml import rx_predict\n",
    "\n",
    "prediction_compras = rx_predict(model_compras, data=bc_test_compras)\n",
    "\n",
    "prediction_compras.head()"
   ]
  },
  {
   "cell_type": "markdown",
   "metadata": {},
   "source": [
    "### dbo.Fact_pedido"
   ]
  },
  {
   "cell_type": "code",
   "execution_count": null,
   "metadata": {},
   "outputs": [],
   "source": [
    "query_pedido = \"SELECT Id_Producto, Id_Vendedor, Id_Bodega, Fecha_Entrega_Planeada, Pedido_Descuento_Pesos, Pedido_Cantidad_Pendiente, conteo_linea_pedido, Linea_Completa, Linea_Perfecta, Pedido_Cantidad_Facturada, Pedido_Pesos_Facturados, Lead_time_Pedido_teorico, Lead_time_pedido_real_max FROM dbo.T_Fact_pedido\"\n",
    "df_pedido = pd.read_sql(query_pedido, cnxn)\n",
    "\n",
    "df_pedido['Fecha_Entrega_Planeada'] = df_pedido['Fecha_Entrega_Planeada'].str.replace(r'-', '')\n",
    "df_pedido['Fecha_Entrega_Planeada'] = df_pedido['Fecha_Entrega_Planeada'].astype('int64')\n",
    "\n",
    "df_pedido.head()"
   ]
  },
  {
   "cell_type": "markdown",
   "metadata": {},
   "source": [
    "#### Separación de los datos"
   ]
  },
  {
   "cell_type": "markdown",
   "metadata": {},
   "source": [
    "se divide el dataframe en un set para entrenamiento y uno de pruebas"
   ]
  },
  {
   "cell_type": "code",
   "execution_count": null,
   "metadata": {},
   "outputs": [],
   "source": [
    "from sklearn.model_selection import train_test_split\n",
    "bc_train_pedido, bc_test_pedido = train_test_split(df_pedido, test_size=0.2)\n",
    "print(\"# of rows in training set = \",bc_train_pedido.size)\n",
    "print(\"# of rows in test set = \",bc_test_pedido.size)"
   ]
  },
  {
   "cell_type": "markdown",
   "metadata": {},
   "source": [
    "### Entrenamiento de modelo"
   ]
  },
  {
   "cell_type": "markdown",
   "metadata": {},
   "source": [
    "Se entrena el modelo usando el paquete Microsoft for ML"
   ]
  },
  {
   "cell_type": "code",
   "execution_count": null,
   "metadata": {
    "scrolled": false
   },
   "outputs": [],
   "source": [
    "from microsoftml import rx_logistic_regression\n",
    "from microsoftml import rx_ensemble\n",
    "from microsoftml import rx_neural_network\n",
    "from microsoftml import rx_fast_forest\n",
    "\n",
    "features_pedido = df_pedido.columns.drop([\"Linea_Perfecta\"])\n",
    "model_pedido = rx_ensemble(\"Linea_Perfecta ~ \" + \"+\".join(features_pedido), data=bc_train_pedido, trainers = [\n",
    "                            rx_logistic_regression(\"Linea_Perfecta ~ \" + \"+\".join(features_pedido), data=bc_train_pedido),\n",
    "                            rx_neural_network(\"Linea_Perfecta ~ \" + \"+\".join(features_pedido), data=bc_train_pedido),\n",
    "                            rx_fast_forest(\"Linea_Perfecta ~ \" + \"+\".join(features_pedido), data=bc_train_pedido)]\n",
    "                           )"
   ]
  },
  {
   "cell_type": "markdown",
   "metadata": {},
   "source": [
    "### Predecir"
   ]
  },
  {
   "cell_type": "markdown",
   "metadata": {},
   "source": [
    "se predice el modelo y se imprimen las probabilidades encontradas en la regresión implementada (no binaria)"
   ]
  },
  {
   "cell_type": "code",
   "execution_count": null,
   "metadata": {
    "scrolled": false
   },
   "outputs": [],
   "source": [
    "from microsoftml import rx_predict\n",
    "\n",
    "prediction_pedido = rx_predict(model_pedido, data=bc_test_pedido)\n",
    "\n",
    "prediction_pedido.head()"
   ]
  },
  {
   "cell_type": "markdown",
   "metadata": {},
   "source": [
    "### dbo.Fact_Inventario"
   ]
  },
  {
   "cell_type": "code",
   "execution_count": null,
   "metadata": {},
   "outputs": [],
   "source": [
    "query_inventario = \"SELECT Fecha_Inventario, Id_Bodega, Id_Producto, Inventario_Cantidad, Inventario_Pesos FROM dbo.T_Fact_Inventario\"\n",
    "df_inventario = pd.read_sql(query_inventario, cnxn)\n",
    "\n",
    "df_inventario['Fecha_Inventario'] = df_inventario['Fecha_Inventario'].str.replace(r'-', '')\n",
    "df_inventario['Fecha_Inventario'] = df_inventario['Fecha_Inventario'].astype('int64')\n",
    "\n",
    "df_inventario.head()"
   ]
  },
  {
   "cell_type": "markdown",
   "metadata": {},
   "source": [
    "#### Separación de los datos"
   ]
  },
  {
   "cell_type": "markdown",
   "metadata": {},
   "source": [
    "se divide el dataframe en un set para entrenamiento y uno de pruebas"
   ]
  },
  {
   "cell_type": "code",
   "execution_count": null,
   "metadata": {},
   "outputs": [],
   "source": [
    "from sklearn.model_selection import train_test_split\n",
    "bc_train_inventario, bc_test_inventario = train_test_split(df_inventario, test_size=0.2)\n",
    "print(\"# of rows in training set = \",bc_train_inventario.size)\n",
    "print(\"# of rows in test set = \",bc_test_inventario.size)"
   ]
  },
  {
   "cell_type": "markdown",
   "metadata": {},
   "source": [
    "### Entrenamiento de modelo"
   ]
  },
  {
   "cell_type": "markdown",
   "metadata": {},
   "source": [
    "Se entrena el modelo usando el paquete Microsoft for ML"
   ]
  },
  {
   "cell_type": "code",
   "execution_count": null,
   "metadata": {
    "scrolled": false
   },
   "outputs": [],
   "source": [
    "from microsoftml import rx_logistic_regression\n",
    "from microsoftml import rx_ensemble\n",
    "from microsoftml import rx_neural_network\n",
    "from microsoftml import rx_fast_forest\n",
    "\n",
    "features_inventario = df_inventarios.columns.drop([\"Id_Producto\"])\n",
    "model_inventario = rx_ensemble(\"Id_Producto~ \" + \"+\".join(features_inventario), method = 'multiClass', data=bc_train_inventario, trainers = [\n",
    "                            rx_logistic_regression(\"Id_Producto ~ \" + \"+\".join(features_inventario), data=bc_train_inventario, method = 'multiClass'),\n",
    "                            rx_neural_network(\"Id_Producto ~ \" + \"+\".join(features_inventario), data=bc_train_inventario, method = 'multiClass'),\n",
    "                            rx_fast_forest(\"Id_Producto ~ \" + \"+\".join(features_inventario), data=bc_train_inventario, method = 'multiClass')]\n",
    "                           )"
   ]
  },
  {
   "cell_type": "markdown",
   "metadata": {},
   "source": [
    "### Predecir"
   ]
  },
  {
   "cell_type": "markdown",
   "metadata": {},
   "source": [
    "se predice el modelo y se imprimen las probabilidades encontradas en la regresión implementada (no binaria)"
   ]
  },
  {
   "cell_type": "code",
   "execution_count": null,
   "metadata": {
    "scrolled": false
   },
   "outputs": [],
   "source": [
    "from microsoftml import rx_predict\n",
    "\n",
    "prediction_compras = rx_predict(model_compras, data=bc_test_compras)\n",
    "\n",
    "prediction_compras.head()"
   ]
  }
 ],
 "metadata": {
  "kernelspec": {
   "display_name": "Python 3",
   "language": "python",
   "name": "python3"
  },
  "language_info": {
   "codemirror_mode": {
    "name": "ipython",
    "version": 3
   },
   "file_extension": ".py",
   "mimetype": "text/x-python",
   "name": "python",
   "nbconvert_exporter": "python",
   "pygments_lexer": "ipython3",
   "version": "3.5.2"
  }
 },
 "nbformat": 4,
 "nbformat_minor": 2
}
